{
  "nbformat": 4,
  "nbformat_minor": 0,
  "metadata": {
    "colab": {
      "name": "AlternusVera-Sprint4_Political_Bias.ipynb",
      "provenance": [],
      "collapsed_sections": [],
      "include_colab_link": true
    },
    "kernelspec": {
      "name": "python3",
      "display_name": "Python 3"
    },
    "accelerator": "GPU"
  },
  "cells": [
    {
      "cell_type": "markdown",
      "metadata": {
        "id": "view-in-github",
        "colab_type": "text"
      },
      "source": [
        "<a href=\"https://colab.research.google.com/github/Vigneshthanga/MachineLearning-CMPE257/blob/master/AlternusVera_Sprint4_Political_Bias.ipynb\" target=\"_parent\"><img src=\"https://colab.research.google.com/assets/colab-badge.svg\" alt=\"Open In Colab\"/></a>"
      ]
    },
    {
      "cell_type": "markdown",
      "metadata": {
        "id": "BuALhGnoQuJx",
        "colab_type": "text"
      },
      "source": [
        "## Course code : CMPE-257\n",
        "## Group name : The Expendables\n",
        "## Name: Vignesh Kumar Thangarajan - 014530555\n",
        "\n",
        "\n",
        "---\n",
        "\n",
        "\n",
        "## Process\n",
        "\n",
        "### Data Collection and feature engineering\n",
        "1.  Load Liar-Liar dataset and Kaggle News Category\n",
        "2.  Filtered the dataset into two groups of party affiliation\n",
        "3.  Apply amalgamtion with other two dataset\n",
        "4.  Train Test Split of data \n",
        "5.  Trained two feed forward neural network models using these datasets and predicted the political bias column containing discrete values indicating the biasness level in each data\n",
        "\n",
        "\n",
        "### Multiclass Classification\n",
        "1.   Apply XGBoost, RandomForest, Decision Tree on Liar-Liar.\n",
        "2.   Note the classification report(accuracy, f1-score)\n",
        "\n",
        "### Amalgamation\n",
        "1.   Amalgamate Liar-Liar Kaggle News Category and Kaggle Fake News Dataset\n",
        "2.   Applied 3 classification models\n",
        "\n",
        "---"
      ]
    },
    {
      "cell_type": "markdown",
      "metadata": {
        "id": "OSVUwKKrvNCD",
        "colab_type": "text"
      },
      "source": [
        "## Mounting google drive"
      ]
    },
    {
      "cell_type": "code",
      "metadata": {
        "id": "1AYP1RC_RrjP",
        "colab_type": "code",
        "outputId": "53b1a8f1-8594-484f-a0cd-d9ffdc0536c3",
        "colab": {
          "base_uri": "https://localhost:8080/",
          "height": 122
        }
      },
      "source": [
        "from google.colab import drive\n",
        "drive.mount('/content/gdrive', force_remount=True)\n",
        "root_dir = \"/content/gdrive/My Drive/MLSpring2020/\"\n",
        "base_dir = root_dir + 'the_expendables_AirQuality_Traffic'"
      ],
      "execution_count": 1,
      "outputs": [
        {
          "output_type": "stream",
          "text": [
            "Go to this URL in a browser: https://accounts.google.com/o/oauth2/auth?client_id=947318989803-6bn6qk8qdgf4n4g3pfee6491hc0brc4i.apps.googleusercontent.com&redirect_uri=urn%3aietf%3awg%3aoauth%3a2.0%3aoob&response_type=code&scope=email%20https%3a%2f%2fwww.googleapis.com%2fauth%2fdocs.test%20https%3a%2f%2fwww.googleapis.com%2fauth%2fdrive%20https%3a%2f%2fwww.googleapis.com%2fauth%2fdrive.photos.readonly%20https%3a%2f%2fwww.googleapis.com%2fauth%2fpeopleapi.readonly\n",
            "\n",
            "Enter your authorization code:\n",
            "··········\n",
            "Mounted at /content/gdrive\n"
          ],
          "name": "stdout"
        }
      ]
    },
    {
      "cell_type": "markdown",
      "metadata": {
        "id": "-HjwrJkEvQT2",
        "colab_type": "text"
      },
      "source": [
        "## Importing libraries"
      ]
    },
    {
      "cell_type": "code",
      "metadata": {
        "id": "X0IjAmk5Rxtb",
        "colab_type": "code",
        "colab": {
          "base_uri": "https://localhost:8080/",
          "height": 71
        },
        "outputId": "07c57fad-61a8-40e1-baa4-c4d847d81963"
      },
      "source": [
        "import pandas as pd\n",
        "import numpy as np\n",
        "import matplotlib.pyplot as plt\n",
        "import seaborn as sns\n",
        "%matplotlib inline"
      ],
      "execution_count": 2,
      "outputs": [
        {
          "output_type": "stream",
          "text": [
            "/usr/local/lib/python3.6/dist-packages/statsmodels/tools/_testing.py:19: FutureWarning: pandas.util.testing is deprecated. Use the functions in the public API at pandas.testing instead.\n",
            "  import pandas.util.testing as tm\n"
          ],
          "name": "stderr"
        }
      ]
    },
    {
      "cell_type": "markdown",
      "metadata": {
        "id": "bYHHXIkdvS3U",
        "colab_type": "text"
      },
      "source": [
        "## Path to Liar Dataset"
      ]
    },
    {
      "cell_type": "code",
      "metadata": {
        "id": "2oYcKQplVzCs",
        "colab_type": "code",
        "colab": {}
      },
      "source": [
        "liarFilepath = base_dir + '/Alternus_vera/liar_dataset/Liardataset.csv'\n",
        "df = pd.read_csv(liarFilepath, encoding= 'unicode_escape') "
      ],
      "execution_count": 0,
      "outputs": []
    },
    {
      "cell_type": "code",
      "metadata": {
        "id": "OcJopNSoSAxo",
        "colab_type": "code",
        "outputId": "74d8af22-22e0-4461-e13e-d3d50ca6b10f",
        "colab": {
          "base_uri": "https://localhost:8080/",
          "height": 267
        }
      },
      "source": [
        "df.head(2)"
      ],
      "execution_count": 4,
      "outputs": [
        {
          "output_type": "execute_result",
          "data": {
            "text/html": [
              "<div>\n",
              "<style scoped>\n",
              "    .dataframe tbody tr th:only-of-type {\n",
              "        vertical-align: middle;\n",
              "    }\n",
              "\n",
              "    .dataframe tbody tr th {\n",
              "        vertical-align: top;\n",
              "    }\n",
              "\n",
              "    .dataframe thead th {\n",
              "        text-align: right;\n",
              "    }\n",
              "</style>\n",
              "<table border=\"1\" class=\"dataframe\">\n",
              "  <thead>\n",
              "    <tr style=\"text-align: right;\">\n",
              "      <th></th>\n",
              "      <th>json</th>\n",
              "      <th>class</th>\n",
              "      <th>statement</th>\n",
              "      <th>subject</th>\n",
              "      <th>speaker</th>\n",
              "      <th>speaker_job_title</th>\n",
              "      <th>state_info</th>\n",
              "      <th>party_affiliation</th>\n",
              "      <th>barely_true_counts</th>\n",
              "      <th>false_counts</th>\n",
              "      <th>half_true_counts</th>\n",
              "      <th>mostly_true_counts</th>\n",
              "      <th>pants_on_fire_counts</th>\n",
              "      <th>context</th>\n",
              "    </tr>\n",
              "  </thead>\n",
              "  <tbody>\n",
              "    <tr>\n",
              "      <th>0</th>\n",
              "      <td>2635.json</td>\n",
              "      <td>FALSE</td>\n",
              "      <td>Says the Annies List political group supports ...</td>\n",
              "      <td>abortion</td>\n",
              "      <td>dwayne-bohac</td>\n",
              "      <td>State representative</td>\n",
              "      <td>Texas</td>\n",
              "      <td>republican</td>\n",
              "      <td>0.0</td>\n",
              "      <td>1.0</td>\n",
              "      <td>0.0</td>\n",
              "      <td>0.0</td>\n",
              "      <td>0.0</td>\n",
              "      <td>a mailer</td>\n",
              "    </tr>\n",
              "    <tr>\n",
              "      <th>1</th>\n",
              "      <td>10540.json</td>\n",
              "      <td>half-true</td>\n",
              "      <td>When did the decline of coal start? It started...</td>\n",
              "      <td>energy,history,job-accomplishments</td>\n",
              "      <td>scott-surovell</td>\n",
              "      <td>State delegate</td>\n",
              "      <td>Virginia</td>\n",
              "      <td>democrat</td>\n",
              "      <td>0.0</td>\n",
              "      <td>0.0</td>\n",
              "      <td>1.0</td>\n",
              "      <td>1.0</td>\n",
              "      <td>0.0</td>\n",
              "      <td>a floor speech.</td>\n",
              "    </tr>\n",
              "  </tbody>\n",
              "</table>\n",
              "</div>"
            ],
            "text/plain": [
              "         json      class  ... pants_on_fire_counts          context\n",
              "0   2635.json      FALSE  ...                  0.0         a mailer\n",
              "1  10540.json  half-true  ...                  0.0  a floor speech.\n",
              "\n",
              "[2 rows x 14 columns]"
            ]
          },
          "metadata": {
            "tags": []
          },
          "execution_count": 4
        }
      ]
    },
    {
      "cell_type": "markdown",
      "metadata": {
        "id": "0TpJXqZRvbuV",
        "colab_type": "text"
      },
      "source": [
        "## Checking the balance of classes"
      ]
    },
    {
      "cell_type": "code",
      "metadata": {
        "id": "NsTOjX40WRYT",
        "colab_type": "code",
        "outputId": "159bf93b-19a2-4c2c-9aeb-406d0182711b",
        "colab": {
          "base_uri": "https://localhost:8080/",
          "height": 136
        }
      },
      "source": [
        "df['class'].value_counts()"
      ],
      "execution_count": 5,
      "outputs": [
        {
          "output_type": "execute_result",
          "data": {
            "text/plain": [
              "half-true      2627\n",
              "FALSE          2507\n",
              "mostly-true    2454\n",
              "barely-true    2103\n",
              "TRUE           2053\n",
              "pants-fire     1047\n",
              "Name: class, dtype: int64"
            ]
          },
          "metadata": {
            "tags": []
          },
          "execution_count": 5
        }
      ]
    },
    {
      "cell_type": "markdown",
      "metadata": {
        "id": "2-283rm6vgLP",
        "colab_type": "text"
      },
      "source": [
        "## Preprocessing of text using NLTK packagae"
      ]
    },
    {
      "cell_type": "code",
      "metadata": {
        "id": "xfSc6-xqWocA",
        "colab_type": "code",
        "outputId": "8a079ebe-3c6d-4824-cfdb-537054a37463",
        "colab": {
          "base_uri": "https://localhost:8080/",
          "height": 68
        }
      },
      "source": [
        "import nltk\n",
        "nltk.download('wordnet')"
      ],
      "execution_count": 6,
      "outputs": [
        {
          "output_type": "stream",
          "text": [
            "[nltk_data] Downloading package wordnet to /root/nltk_data...\n",
            "[nltk_data]   Unzipping corpora/wordnet.zip.\n"
          ],
          "name": "stdout"
        },
        {
          "output_type": "execute_result",
          "data": {
            "text/plain": [
              "True"
            ]
          },
          "metadata": {
            "tags": []
          },
          "execution_count": 6
        }
      ]
    },
    {
      "cell_type": "markdown",
      "metadata": {
        "id": "7tQLEnv8vlDs",
        "colab_type": "text"
      },
      "source": [
        "## Lemmatization"
      ]
    },
    {
      "cell_type": "code",
      "metadata": {
        "id": "weOD5XsdXIKy",
        "colab_type": "code",
        "colab": {}
      },
      "source": [
        "from nltk.stem import WordNetLemmatizer \n",
        "def lemmatization(x):\n",
        "  lemmatizer = WordNetLemmatizer() \n",
        "  text = lemmatizer.lemmatize(x)\n",
        "  return text"
      ],
      "execution_count": 0,
      "outputs": []
    },
    {
      "cell_type": "markdown",
      "metadata": {
        "id": "QEvvmjJRvnsj",
        "colab_type": "text"
      },
      "source": [
        "## Remove numbers"
      ]
    },
    {
      "cell_type": "code",
      "metadata": {
        "id": "D4mluF68Xwvz",
        "colab_type": "code",
        "colab": {}
      },
      "source": [
        "import re\n",
        "def removenumbers(x):\n",
        "  text = re.sub(r'\\d+', '', x)\n",
        "  return text"
      ],
      "execution_count": 0,
      "outputs": []
    },
    {
      "cell_type": "markdown",
      "metadata": {
        "id": "A3XU-JymvqUX",
        "colab_type": "text"
      },
      "source": [
        "## Remove special characters"
      ]
    },
    {
      "cell_type": "code",
      "metadata": {
        "id": "otReYvAbXy-z",
        "colab_type": "code",
        "colab": {}
      },
      "source": [
        "def removespecialchars(x):\n",
        "  x = str(x)\n",
        "  x = x.lower()\n",
        "  regex = re.compile('[^ a-zA-Z]')\n",
        "  return regex.sub('',x)"
      ],
      "execution_count": 0,
      "outputs": []
    },
    {
      "cell_type": "markdown",
      "metadata": {
        "id": "bPcotyYsvtTI",
        "colab_type": "text"
      },
      "source": [
        "## Remove whitespace"
      ]
    },
    {
      "cell_type": "code",
      "metadata": {
        "id": "_UZSsKtsX0_-",
        "colab_type": "code",
        "colab": {}
      },
      "source": [
        "def removewhitespace(x):\n",
        "  text = x.rstrip()\n",
        "  text = text.lstrip()\n",
        "  return text"
      ],
      "execution_count": 0,
      "outputs": []
    },
    {
      "cell_type": "code",
      "metadata": {
        "id": "23pjfYd0X2zN",
        "colab_type": "code",
        "outputId": "3e9acdc2-bcbc-46b6-ab67-bcdd1f41e30c",
        "colab": {
          "base_uri": "https://localhost:8080/",
          "height": 68
        }
      },
      "source": [
        "nltk.download('punkt')"
      ],
      "execution_count": 11,
      "outputs": [
        {
          "output_type": "stream",
          "text": [
            "[nltk_data] Downloading package punkt to /root/nltk_data...\n",
            "[nltk_data]   Unzipping tokenizers/punkt.zip.\n"
          ],
          "name": "stdout"
        },
        {
          "output_type": "execute_result",
          "data": {
            "text/plain": [
              "True"
            ]
          },
          "metadata": {
            "tags": []
          },
          "execution_count": 11
        }
      ]
    },
    {
      "cell_type": "markdown",
      "metadata": {
        "id": "C-2c2vTrvw0C",
        "colab_type": "text"
      },
      "source": [
        "## Word tokenize"
      ]
    },
    {
      "cell_type": "code",
      "metadata": {
        "id": "bwZuWJsFX46x",
        "colab_type": "code",
        "colab": {}
      },
      "source": [
        "from nltk.tokenize import word_tokenize\n",
        "from spacy.lang.en.stop_words import STOP_WORDS\n",
        "stop_words = STOP_WORDS\n",
        "def removestopwords(x):\n",
        "  tokens = word_tokenize(x)\n",
        "  result = [i for i in tokens if not i in stop_words]\n",
        "  return result"
      ],
      "execution_count": 0,
      "outputs": []
    },
    {
      "cell_type": "markdown",
      "metadata": {
        "id": "MyUF6MTBv1Fd",
        "colab_type": "text"
      },
      "source": [
        "## Stemming"
      ]
    },
    {
      "cell_type": "code",
      "metadata": {
        "id": "0IXUPPrpX64b",
        "colab_type": "code",
        "colab": {}
      },
      "source": [
        "from nltk.stem import PorterStemmer\n",
        "from nltk.tokenize import word_tokenize\n",
        "stemmer= PorterStemmer()\n",
        "def stemming(wordList):\n",
        "  res = []\n",
        "  for word in wordList:\n",
        "    res.append(stemmer.stem(word))\n",
        "  return res"
      ],
      "execution_count": 0,
      "outputs": []
    },
    {
      "cell_type": "markdown",
      "metadata": {
        "id": "KTM722anv5JI",
        "colab_type": "text"
      },
      "source": [
        "## Parent function for preprocessing"
      ]
    },
    {
      "cell_type": "code",
      "metadata": {
        "id": "6Ek9KiuRX80s",
        "colab_type": "code",
        "colab": {}
      },
      "source": [
        "def preprocess_text(x):\n",
        "  text = removenumbers(x)\n",
        "  text = removespecialchars(text)\n",
        "  text = removewhitespace(text)\n",
        "  wordList = removestopwords(text)\n",
        "  text = ' '.join(wordList)\n",
        "  res = lemmatization(text)\n",
        "  return res"
      ],
      "execution_count": 0,
      "outputs": []
    },
    {
      "cell_type": "markdown",
      "metadata": {
        "id": "0toUD_aSv83a",
        "colab_type": "text"
      },
      "source": [
        "## Shuffling the dataframe for getting the good mix"
      ]
    },
    {
      "cell_type": "code",
      "metadata": {
        "id": "_iOoBvyZX-mq",
        "colab_type": "code",
        "colab": {}
      },
      "source": [
        "df = df.sample(frac=1)"
      ],
      "execution_count": 0,
      "outputs": []
    },
    {
      "cell_type": "code",
      "metadata": {
        "id": "hDSCygnQYB1Y",
        "colab_type": "code",
        "colab": {}
      },
      "source": [
        "df['clean_statement'] = df['statement'].apply(preprocess_text)"
      ],
      "execution_count": 0,
      "outputs": []
    },
    {
      "cell_type": "code",
      "metadata": {
        "id": "dmoJZFaeYYD4",
        "colab_type": "code",
        "outputId": "67562f81-6d22-4d84-a914-b7dc3cc3596e",
        "colab": {
          "base_uri": "https://localhost:8080/",
          "height": 349
        }
      },
      "source": [
        "df.head(3)"
      ],
      "execution_count": 17,
      "outputs": [
        {
          "output_type": "execute_result",
          "data": {
            "text/html": [
              "<div>\n",
              "<style scoped>\n",
              "    .dataframe tbody tr th:only-of-type {\n",
              "        vertical-align: middle;\n",
              "    }\n",
              "\n",
              "    .dataframe tbody tr th {\n",
              "        vertical-align: top;\n",
              "    }\n",
              "\n",
              "    .dataframe thead th {\n",
              "        text-align: right;\n",
              "    }\n",
              "</style>\n",
              "<table border=\"1\" class=\"dataframe\">\n",
              "  <thead>\n",
              "    <tr style=\"text-align: right;\">\n",
              "      <th></th>\n",
              "      <th>json</th>\n",
              "      <th>class</th>\n",
              "      <th>statement</th>\n",
              "      <th>subject</th>\n",
              "      <th>speaker</th>\n",
              "      <th>speaker_job_title</th>\n",
              "      <th>state_info</th>\n",
              "      <th>party_affiliation</th>\n",
              "      <th>barely_true_counts</th>\n",
              "      <th>false_counts</th>\n",
              "      <th>half_true_counts</th>\n",
              "      <th>mostly_true_counts</th>\n",
              "      <th>pants_on_fire_counts</th>\n",
              "      <th>context</th>\n",
              "      <th>clean_statement</th>\n",
              "    </tr>\n",
              "  </thead>\n",
              "  <tbody>\n",
              "    <tr>\n",
              "      <th>754</th>\n",
              "      <td>11079.json</td>\n",
              "      <td>pants-fire</td>\n",
              "      <td>Christian Pastor in Vermont Sentenced to One Y...</td>\n",
              "      <td>diversity,legal-issues,marriage</td>\n",
              "      <td>blog-posting</td>\n",
              "      <td>NaN</td>\n",
              "      <td>NaN</td>\n",
              "      <td>none</td>\n",
              "      <td>7.0</td>\n",
              "      <td>19.0</td>\n",
              "      <td>3.0</td>\n",
              "      <td>5.0</td>\n",
              "      <td>44.0</td>\n",
              "      <td>a headline on the website NewsExaminer</td>\n",
              "      <td>christian pastor vermont sentenced year prison...</td>\n",
              "    </tr>\n",
              "    <tr>\n",
              "      <th>5130</th>\n",
              "      <td>6521.json</td>\n",
              "      <td>barely-true</td>\n",
              "      <td>Says Obama puts 15 unelected, unaccountable bu...</td>\n",
              "      <td>medicare</td>\n",
              "      <td>paul-ryan</td>\n",
              "      <td>U.S. Representative</td>\n",
              "      <td>Wisconsin</td>\n",
              "      <td>republican</td>\n",
              "      <td>19.0</td>\n",
              "      <td>6.0</td>\n",
              "      <td>16.0</td>\n",
              "      <td>14.0</td>\n",
              "      <td>2.0</td>\n",
              "      <td>a speech in The Villages, Fla.</td>\n",
              "      <td>says obama puts unelected unaccountable bureau...</td>\n",
              "    </tr>\n",
              "    <tr>\n",
              "      <th>2483</th>\n",
              "      <td>1619.json</td>\n",
              "      <td>TRUE</td>\n",
              "      <td>The cost to implement Florida's class size ame...</td>\n",
              "      <td>education</td>\n",
              "      <td>don-gaetz</td>\n",
              "      <td>State Senator</td>\n",
              "      <td>Florida</td>\n",
              "      <td>republican</td>\n",
              "      <td>1.0</td>\n",
              "      <td>0.0</td>\n",
              "      <td>3.0</td>\n",
              "      <td>1.0</td>\n",
              "      <td>0.0</td>\n",
              "      <td>debate on the Senate floor.</td>\n",
              "      <td>cost implement floridas class size amendment f...</td>\n",
              "    </tr>\n",
              "  </tbody>\n",
              "</table>\n",
              "</div>"
            ],
            "text/plain": [
              "            json  ...                                    clean_statement\n",
              "754   11079.json  ...  christian pastor vermont sentenced year prison...\n",
              "5130   6521.json  ...  says obama puts unelected unaccountable bureau...\n",
              "2483   1619.json  ...  cost implement floridas class size amendment f...\n",
              "\n",
              "[3 rows x 15 columns]"
            ]
          },
          "metadata": {
            "tags": []
          },
          "execution_count": 17
        }
      ]
    },
    {
      "cell_type": "code",
      "metadata": {
        "id": "g8mC_thue_h8",
        "colab_type": "code",
        "colab": {}
      },
      "source": [
        "df = df[['class', 'statement', 'subject', 'speaker', 'speaker_job_title', 'state_info', 'party_affiliation', 'barely_true_counts', 'false_counts', 'half_true_counts', 'mostly_true_counts', 'pants_on_fire_counts', 'context', 'clean_statement']]"
      ],
      "execution_count": 0,
      "outputs": []
    },
    {
      "cell_type": "markdown",
      "metadata": {
        "id": "7pat7HdSwGBr",
        "colab_type": "text"
      },
      "source": [
        "## All labels in liar liar dataset"
      ]
    },
    {
      "cell_type": "code",
      "metadata": {
        "id": "a3lnx66XY_v5",
        "colab_type": "code",
        "outputId": "c870061a-72d3-4032-e8de-cbd376dced02",
        "colab": {
          "base_uri": "https://localhost:8080/",
          "height": 51
        }
      },
      "source": [
        "df['class'].unique()"
      ],
      "execution_count": 19,
      "outputs": [
        {
          "output_type": "execute_result",
          "data": {
            "text/plain": [
              "array(['pants-fire', 'barely-true', 'TRUE', 'half-true', 'FALSE',\n",
              "       'mostly-true'], dtype=object)"
            ]
          },
          "metadata": {
            "tags": []
          },
          "execution_count": 19
        }
      ]
    },
    {
      "cell_type": "markdown",
      "metadata": {
        "id": "DzqweIBiwLwa",
        "colab_type": "text"
      },
      "source": [
        "## Label Encoding the classes using sklearn's label encoder"
      ]
    },
    {
      "cell_type": "code",
      "metadata": {
        "id": "FUEiEFsY0TdG",
        "colab_type": "code",
        "outputId": "1264a780-c6c2-4a6f-c185-2ceee65319fe",
        "colab": {
          "base_uri": "https://localhost:8080/",
          "height": 34
        }
      },
      "source": [
        "from sklearn import preprocessing\n",
        "classlabel_encoder = preprocessing.LabelEncoder()\n",
        "classlabel_encoder.fit(df['class'])"
      ],
      "execution_count": 20,
      "outputs": [
        {
          "output_type": "execute_result",
          "data": {
            "text/plain": [
              "LabelEncoder()"
            ]
          },
          "metadata": {
            "tags": []
          },
          "execution_count": 20
        }
      ]
    },
    {
      "cell_type": "code",
      "metadata": {
        "id": "_rlTb6Gr0ed9",
        "colab_type": "code",
        "outputId": "1efa35b6-b06a-4cd8-f04d-50b842ec8877",
        "colab": {
          "base_uri": "https://localhost:8080/",
          "height": 51
        }
      },
      "source": [
        "classlabel_encoder.classes_"
      ],
      "execution_count": 21,
      "outputs": [
        {
          "output_type": "execute_result",
          "data": {
            "text/plain": [
              "array(['FALSE', 'TRUE', 'barely-true', 'half-true', 'mostly-true',\n",
              "       'pants-fire'], dtype=object)"
            ]
          },
          "metadata": {
            "tags": []
          },
          "execution_count": 21
        }
      ]
    },
    {
      "cell_type": "markdown",
      "metadata": {
        "id": "-_TdSkzwwY-7",
        "colab_type": "text"
      },
      "source": [
        "## Test the transformation of encoding"
      ]
    },
    {
      "cell_type": "code",
      "metadata": {
        "id": "1hBNVP5j0l6Z",
        "colab_type": "code",
        "colab": {}
      },
      "source": [
        "classEncoded = classlabel_encoder.transform(df['class'])"
      ],
      "execution_count": 0,
      "outputs": []
    },
    {
      "cell_type": "code",
      "metadata": {
        "id": "UALKELA30r-B",
        "colab_type": "code",
        "outputId": "435fcbcc-5102-4fde-a708-ecd846c59f0c",
        "colab": {
          "base_uri": "https://localhost:8080/",
          "height": 34
        }
      },
      "source": [
        "classEncoded"
      ],
      "execution_count": 23,
      "outputs": [
        {
          "output_type": "execute_result",
          "data": {
            "text/plain": [
              "array([5, 2, 1, ..., 0, 1, 0])"
            ]
          },
          "metadata": {
            "tags": []
          },
          "execution_count": 23
        }
      ]
    },
    {
      "cell_type": "markdown",
      "metadata": {
        "id": "RVn3RquqwhAp",
        "colab_type": "text"
      },
      "source": [
        "## Test the inverse transform"
      ]
    },
    {
      "cell_type": "code",
      "metadata": {
        "id": "culrcDv60uYk",
        "colab_type": "code",
        "outputId": "1a857f43-12ce-4ee2-e369-0b27bbef8247",
        "colab": {
          "base_uri": "https://localhost:8080/",
          "height": 51
        }
      },
      "source": [
        "classlabel_encoder.inverse_transform(classEncoded)"
      ],
      "execution_count": 24,
      "outputs": [
        {
          "output_type": "execute_result",
          "data": {
            "text/plain": [
              "array(['pants-fire', 'barely-true', 'TRUE', ..., 'FALSE', 'TRUE', 'FALSE'],\n",
              "      dtype=object)"
            ]
          },
          "metadata": {
            "tags": []
          },
          "execution_count": 24
        }
      ]
    },
    {
      "cell_type": "code",
      "metadata": {
        "id": "OUhLzKhYZB5H",
        "colab_type": "code",
        "outputId": "4a9da4a1-0b8e-4a7e-9c22-836a3e1d0758",
        "colab": {
          "base_uri": "https://localhost:8080/",
          "height": 221
        }
      },
      "source": [
        "df['class'].astype(str, errors='ignore')"
      ],
      "execution_count": 25,
      "outputs": [
        {
          "output_type": "execute_result",
          "data": {
            "text/plain": [
              "754      pants-fire\n",
              "5130    barely-true\n",
              "2483           TRUE\n",
              "2307      half-true\n",
              "2488    barely-true\n",
              "           ...     \n",
              "7733    mostly-true\n",
              "1703          FALSE\n",
              "645           FALSE\n",
              "3034           TRUE\n",
              "1305          FALSE\n",
              "Name: class, Length: 12791, dtype: object"
            ]
          },
          "metadata": {
            "tags": []
          },
          "execution_count": 25
        }
      ]
    },
    {
      "cell_type": "code",
      "metadata": {
        "id": "Yc_2EJnYZHyY",
        "colab_type": "code",
        "outputId": "b324fc9a-192f-48ea-dc17-557e6734c4f2",
        "colab": {
          "base_uri": "https://localhost:8080/",
          "height": 272
        }
      },
      "source": [
        "df.dtypes"
      ],
      "execution_count": 26,
      "outputs": [
        {
          "output_type": "execute_result",
          "data": {
            "text/plain": [
              "class                    object\n",
              "statement                object\n",
              "subject                  object\n",
              "speaker                  object\n",
              "speaker_job_title        object\n",
              "state_info               object\n",
              "party_affiliation        object\n",
              "barely_true_counts      float64\n",
              "false_counts            float64\n",
              "half_true_counts        float64\n",
              "mostly_true_counts      float64\n",
              "pants_on_fire_counts    float64\n",
              "context                  object\n",
              "clean_statement          object\n",
              "dtype: object"
            ]
          },
          "metadata": {
            "tags": []
          },
          "execution_count": 26
        }
      ]
    },
    {
      "cell_type": "markdown",
      "metadata": {
        "id": "J-pAHG3rwm6C",
        "colab_type": "text"
      },
      "source": [
        "## Splitting the dataset to two groups - all true and all false"
      ]
    },
    {
      "cell_type": "code",
      "metadata": {
        "id": "nEPeH3OoYciw",
        "colab_type": "code",
        "colab": {}
      },
      "source": [
        "#All True\n",
        "full_true = df.loc[df['class'] == 'TRUE']\n",
        "most_true = df.loc[df['class'] == 'mostly-true']\n",
        "half_true = df.loc[df['class'] == 'half-true']\n",
        "\n",
        "#All False\n",
        "barely_true = df.loc[df['class'] == 'barely-true']\n",
        "full_false = df.loc[df['class'] == 'FALSE']\n",
        "pants_fire = df.loc[df['class'] == 'pants-fire']"
      ],
      "execution_count": 0,
      "outputs": []
    },
    {
      "cell_type": "code",
      "metadata": {
        "id": "y2SN4DsOY3J5",
        "colab_type": "code",
        "outputId": "240b926a-867b-4a05-bcfd-1e67e0b58a39",
        "colab": {
          "base_uri": "https://localhost:8080/",
          "height": 301
        }
      },
      "source": [
        "half_true.head(2)"
      ],
      "execution_count": 28,
      "outputs": [
        {
          "output_type": "execute_result",
          "data": {
            "text/html": [
              "<div>\n",
              "<style scoped>\n",
              "    .dataframe tbody tr th:only-of-type {\n",
              "        vertical-align: middle;\n",
              "    }\n",
              "\n",
              "    .dataframe tbody tr th {\n",
              "        vertical-align: top;\n",
              "    }\n",
              "\n",
              "    .dataframe thead th {\n",
              "        text-align: right;\n",
              "    }\n",
              "</style>\n",
              "<table border=\"1\" class=\"dataframe\">\n",
              "  <thead>\n",
              "    <tr style=\"text-align: right;\">\n",
              "      <th></th>\n",
              "      <th>class</th>\n",
              "      <th>statement</th>\n",
              "      <th>subject</th>\n",
              "      <th>speaker</th>\n",
              "      <th>speaker_job_title</th>\n",
              "      <th>state_info</th>\n",
              "      <th>party_affiliation</th>\n",
              "      <th>barely_true_counts</th>\n",
              "      <th>false_counts</th>\n",
              "      <th>half_true_counts</th>\n",
              "      <th>mostly_true_counts</th>\n",
              "      <th>pants_on_fire_counts</th>\n",
              "      <th>context</th>\n",
              "      <th>clean_statement</th>\n",
              "    </tr>\n",
              "  </thead>\n",
              "  <tbody>\n",
              "    <tr>\n",
              "      <th>2307</th>\n",
              "      <td>half-true</td>\n",
              "      <td>Obama \"changed the rules in Washington. Gone a...</td>\n",
              "      <td>ethics</td>\n",
              "      <td>barack-obama</td>\n",
              "      <td>President</td>\n",
              "      <td>Illinois</td>\n",
              "      <td>democrat</td>\n",
              "      <td>70.0</td>\n",
              "      <td>71.0</td>\n",
              "      <td>160.0</td>\n",
              "      <td>163.0</td>\n",
              "      <td>9.0</td>\n",
              "      <td>a statement by Sen. Claire McCaskill in a TV ad.</td>\n",
              "      <td>obama changed rules washington gone free gifts...</td>\n",
              "    </tr>\n",
              "    <tr>\n",
              "      <th>10418</th>\n",
              "      <td>half-true</td>\n",
              "      <td>President Obama and Nancy Pelosi said Obamacar...</td>\n",
              "      <td>health-care</td>\n",
              "      <td>eric-hovde</td>\n",
              "      <td>NaN</td>\n",
              "      <td>NaN</td>\n",
              "      <td>republican</td>\n",
              "      <td>2.0</td>\n",
              "      <td>3.0</td>\n",
              "      <td>3.0</td>\n",
              "      <td>0.0</td>\n",
              "      <td>0.0</td>\n",
              "      <td>a television interview</td>\n",
              "      <td>president obama nancy pelosi said obamacare sa...</td>\n",
              "    </tr>\n",
              "  </tbody>\n",
              "</table>\n",
              "</div>"
            ],
            "text/plain": [
              "           class  ...                                    clean_statement\n",
              "2307   half-true  ...  obama changed rules washington gone free gifts...\n",
              "10418  half-true  ...  president obama nancy pelosi said obamacare sa...\n",
              "\n",
              "[2 rows x 14 columns]"
            ]
          },
          "metadata": {
            "tags": []
          },
          "execution_count": 28
        }
      ]
    },
    {
      "cell_type": "code",
      "metadata": {
        "id": "BF6urOIA_xot",
        "colab_type": "code",
        "outputId": "12eb449b-92ac-4b76-c387-cf3ef984bf6f",
        "colab": {
          "base_uri": "https://localhost:8080/",
          "height": 267
        }
      },
      "source": [
        "full_false.head(2)"
      ],
      "execution_count": 29,
      "outputs": [
        {
          "output_type": "execute_result",
          "data": {
            "text/html": [
              "<div>\n",
              "<style scoped>\n",
              "    .dataframe tbody tr th:only-of-type {\n",
              "        vertical-align: middle;\n",
              "    }\n",
              "\n",
              "    .dataframe tbody tr th {\n",
              "        vertical-align: top;\n",
              "    }\n",
              "\n",
              "    .dataframe thead th {\n",
              "        text-align: right;\n",
              "    }\n",
              "</style>\n",
              "<table border=\"1\" class=\"dataframe\">\n",
              "  <thead>\n",
              "    <tr style=\"text-align: right;\">\n",
              "      <th></th>\n",
              "      <th>class</th>\n",
              "      <th>statement</th>\n",
              "      <th>subject</th>\n",
              "      <th>speaker</th>\n",
              "      <th>speaker_job_title</th>\n",
              "      <th>state_info</th>\n",
              "      <th>party_affiliation</th>\n",
              "      <th>barely_true_counts</th>\n",
              "      <th>false_counts</th>\n",
              "      <th>half_true_counts</th>\n",
              "      <th>mostly_true_counts</th>\n",
              "      <th>pants_on_fire_counts</th>\n",
              "      <th>context</th>\n",
              "      <th>clean_statement</th>\n",
              "    </tr>\n",
              "  </thead>\n",
              "  <tbody>\n",
              "    <tr>\n",
              "      <th>279</th>\n",
              "      <td>FALSE</td>\n",
              "      <td>Says he never said he would keep education fun...</td>\n",
              "      <td>education,state-budget</td>\n",
              "      <td>rick-scott</td>\n",
              "      <td>Governor</td>\n",
              "      <td>Florida</td>\n",
              "      <td>republican</td>\n",
              "      <td>28.0</td>\n",
              "      <td>23.0</td>\n",
              "      <td>38.0</td>\n",
              "      <td>34.0</td>\n",
              "      <td>7.0</td>\n",
              "      <td>talking about his budget proposal.</td>\n",
              "      <td>says said education funding</td>\n",
              "    </tr>\n",
              "    <tr>\n",
              "      <th>1038</th>\n",
              "      <td>FALSE</td>\n",
              "      <td>SaysPresident Obama and his allies in Congress...</td>\n",
              "      <td>health-care</td>\n",
              "      <td>marsha-blackburn</td>\n",
              "      <td>U.S. Representative</td>\n",
              "      <td>Tennessee</td>\n",
              "      <td>republican</td>\n",
              "      <td>2.0</td>\n",
              "      <td>2.0</td>\n",
              "      <td>1.0</td>\n",
              "      <td>0.0</td>\n",
              "      <td>0.0</td>\n",
              "      <td>a press release announcing her vote against th...</td>\n",
              "      <td>sayspresident obama allies congress gave power...</td>\n",
              "    </tr>\n",
              "  </tbody>\n",
              "</table>\n",
              "</div>"
            ],
            "text/plain": [
              "      class  ...                                    clean_statement\n",
              "279   FALSE  ...                        says said education funding\n",
              "1038  FALSE  ...  sayspresident obama allies congress gave power...\n",
              "\n",
              "[2 rows x 14 columns]"
            ]
          },
          "metadata": {
            "tags": []
          },
          "execution_count": 29
        }
      ]
    },
    {
      "cell_type": "code",
      "metadata": {
        "id": "pmG-_c15qeQD",
        "colab_type": "code",
        "outputId": "0d968563-b4e0-4fd5-d47b-eeb563248907",
        "colab": {
          "base_uri": "https://localhost:8080/",
          "height": 267
        }
      },
      "source": [
        "pants_fire.head(2)"
      ],
      "execution_count": 30,
      "outputs": [
        {
          "output_type": "execute_result",
          "data": {
            "text/html": [
              "<div>\n",
              "<style scoped>\n",
              "    .dataframe tbody tr th:only-of-type {\n",
              "        vertical-align: middle;\n",
              "    }\n",
              "\n",
              "    .dataframe tbody tr th {\n",
              "        vertical-align: top;\n",
              "    }\n",
              "\n",
              "    .dataframe thead th {\n",
              "        text-align: right;\n",
              "    }\n",
              "</style>\n",
              "<table border=\"1\" class=\"dataframe\">\n",
              "  <thead>\n",
              "    <tr style=\"text-align: right;\">\n",
              "      <th></th>\n",
              "      <th>class</th>\n",
              "      <th>statement</th>\n",
              "      <th>subject</th>\n",
              "      <th>speaker</th>\n",
              "      <th>speaker_job_title</th>\n",
              "      <th>state_info</th>\n",
              "      <th>party_affiliation</th>\n",
              "      <th>barely_true_counts</th>\n",
              "      <th>false_counts</th>\n",
              "      <th>half_true_counts</th>\n",
              "      <th>mostly_true_counts</th>\n",
              "      <th>pants_on_fire_counts</th>\n",
              "      <th>context</th>\n",
              "      <th>clean_statement</th>\n",
              "    </tr>\n",
              "  </thead>\n",
              "  <tbody>\n",
              "    <tr>\n",
              "      <th>754</th>\n",
              "      <td>pants-fire</td>\n",
              "      <td>Christian Pastor in Vermont Sentenced to One Y...</td>\n",
              "      <td>diversity,legal-issues,marriage</td>\n",
              "      <td>blog-posting</td>\n",
              "      <td>NaN</td>\n",
              "      <td>NaN</td>\n",
              "      <td>none</td>\n",
              "      <td>7.0</td>\n",
              "      <td>19.0</td>\n",
              "      <td>3.0</td>\n",
              "      <td>5.0</td>\n",
              "      <td>44.0</td>\n",
              "      <td>a headline on the website NewsExaminer</td>\n",
              "      <td>christian pastor vermont sentenced year prison...</td>\n",
              "    </tr>\n",
              "    <tr>\n",
              "      <th>2932</th>\n",
              "      <td>pants-fire</td>\n",
              "      <td>Says Chuck Hagels nomination as defense secret...</td>\n",
              "      <td>foreign-policy,military</td>\n",
              "      <td>ted-cruz</td>\n",
              "      <td>Senator</td>\n",
              "      <td>Texas</td>\n",
              "      <td>republican</td>\n",
              "      <td>36.0</td>\n",
              "      <td>33.0</td>\n",
              "      <td>15.0</td>\n",
              "      <td>19.0</td>\n",
              "      <td>8.0</td>\n",
              "      <td>a Politico column.</td>\n",
              "      <td>says chuck hagels nomination defense secretary...</td>\n",
              "    </tr>\n",
              "  </tbody>\n",
              "</table>\n",
              "</div>"
            ],
            "text/plain": [
              "           class  ...                                    clean_statement\n",
              "754   pants-fire  ...  christian pastor vermont sentenced year prison...\n",
              "2932  pants-fire  ...  says chuck hagels nomination defense secretary...\n",
              "\n",
              "[2 rows x 14 columns]"
            ]
          },
          "metadata": {
            "tags": []
          },
          "execution_count": 30
        }
      ]
    },
    {
      "cell_type": "code",
      "metadata": {
        "id": "u12PiTo7qWKQ",
        "colab_type": "code",
        "outputId": "c117453e-f14b-42a2-ae36-504118e60688",
        "colab": {
          "base_uri": "https://localhost:8080/",
          "height": 267
        }
      },
      "source": [
        "barely_true.head(2)"
      ],
      "execution_count": 31,
      "outputs": [
        {
          "output_type": "execute_result",
          "data": {
            "text/html": [
              "<div>\n",
              "<style scoped>\n",
              "    .dataframe tbody tr th:only-of-type {\n",
              "        vertical-align: middle;\n",
              "    }\n",
              "\n",
              "    .dataframe tbody tr th {\n",
              "        vertical-align: top;\n",
              "    }\n",
              "\n",
              "    .dataframe thead th {\n",
              "        text-align: right;\n",
              "    }\n",
              "</style>\n",
              "<table border=\"1\" class=\"dataframe\">\n",
              "  <thead>\n",
              "    <tr style=\"text-align: right;\">\n",
              "      <th></th>\n",
              "      <th>class</th>\n",
              "      <th>statement</th>\n",
              "      <th>subject</th>\n",
              "      <th>speaker</th>\n",
              "      <th>speaker_job_title</th>\n",
              "      <th>state_info</th>\n",
              "      <th>party_affiliation</th>\n",
              "      <th>barely_true_counts</th>\n",
              "      <th>false_counts</th>\n",
              "      <th>half_true_counts</th>\n",
              "      <th>mostly_true_counts</th>\n",
              "      <th>pants_on_fire_counts</th>\n",
              "      <th>context</th>\n",
              "      <th>clean_statement</th>\n",
              "    </tr>\n",
              "  </thead>\n",
              "  <tbody>\n",
              "    <tr>\n",
              "      <th>5130</th>\n",
              "      <td>barely-true</td>\n",
              "      <td>Says Obama puts 15 unelected, unaccountable bu...</td>\n",
              "      <td>medicare</td>\n",
              "      <td>paul-ryan</td>\n",
              "      <td>U.S. Representative</td>\n",
              "      <td>Wisconsin</td>\n",
              "      <td>republican</td>\n",
              "      <td>19.0</td>\n",
              "      <td>6.0</td>\n",
              "      <td>16.0</td>\n",
              "      <td>14.0</td>\n",
              "      <td>2.0</td>\n",
              "      <td>a speech in The Villages, Fla.</td>\n",
              "      <td>says obama puts unelected unaccountable bureau...</td>\n",
              "    </tr>\n",
              "    <tr>\n",
              "      <th>2488</th>\n",
              "      <td>barely-true</td>\n",
              "      <td>Says that according to one economist, $1 of un...</td>\n",
              "      <td>economy,jobs</td>\n",
              "      <td>lloyd-doggett</td>\n",
              "      <td>Texas congressman in the U.S. Houst of Represe...</td>\n",
              "      <td>Texas</td>\n",
              "      <td>democrat</td>\n",
              "      <td>1.0</td>\n",
              "      <td>0.0</td>\n",
              "      <td>2.0</td>\n",
              "      <td>7.0</td>\n",
              "      <td>0.0</td>\n",
              "      <td>an opinion article at HuffingtonPost.com</td>\n",
              "      <td>says according economist unemployment benefits...</td>\n",
              "    </tr>\n",
              "  </tbody>\n",
              "</table>\n",
              "</div>"
            ],
            "text/plain": [
              "            class  ...                                    clean_statement\n",
              "5130  barely-true  ...  says obama puts unelected unaccountable bureau...\n",
              "2488  barely-true  ...  says according economist unemployment benefits...\n",
              "\n",
              "[2 rows x 14 columns]"
            ]
          },
          "metadata": {
            "tags": []
          },
          "execution_count": 31
        }
      ]
    },
    {
      "cell_type": "code",
      "metadata": {
        "id": "yTyOy62DcYyT",
        "colab_type": "code",
        "colab": {}
      },
      "source": [
        "ls = full_true.columns"
      ],
      "execution_count": 0,
      "outputs": []
    },
    {
      "cell_type": "code",
      "metadata": {
        "id": "40UDofLTch8F",
        "colab_type": "code",
        "outputId": "1a729bff-225b-412d-a434-2d8ef72b4fb3",
        "colab": {
          "base_uri": "https://localhost:8080/",
          "height": 102
        }
      },
      "source": [
        "ls"
      ],
      "execution_count": 33,
      "outputs": [
        {
          "output_type": "execute_result",
          "data": {
            "text/plain": [
              "Index(['class', 'statement', 'subject', 'speaker', 'speaker_job_title',\n",
              "       'state_info', 'party_affiliation', 'barely_true_counts', 'false_counts',\n",
              "       'half_true_counts', 'mostly_true_counts', 'pants_on_fire_counts',\n",
              "       'context', 'clean_statement'],\n",
              "      dtype='object')"
            ]
          },
          "metadata": {
            "tags": []
          },
          "execution_count": 33
        }
      ]
    },
    {
      "cell_type": "code",
      "metadata": {
        "id": "D0j7ON8cZMqb",
        "colab_type": "code",
        "colab": {}
      },
      "source": [
        "all_true = pd.concat([full_true, most_true, half_true])\n",
        "all_false = pd.concat([barely_true,full_false,pants_fire])"
      ],
      "execution_count": 0,
      "outputs": []
    },
    {
      "cell_type": "code",
      "metadata": {
        "id": "pve8iWm-dVU2",
        "colab_type": "code",
        "outputId": "cca3070e-acbd-46d9-b8d8-1fa21c235d78",
        "colab": {
          "base_uri": "https://localhost:8080/",
          "height": 34
        }
      },
      "source": [
        "all_true['class'].unique()"
      ],
      "execution_count": 35,
      "outputs": [
        {
          "output_type": "execute_result",
          "data": {
            "text/plain": [
              "array(['TRUE', 'mostly-true', 'half-true'], dtype=object)"
            ]
          },
          "metadata": {
            "tags": []
          },
          "execution_count": 35
        }
      ]
    },
    {
      "cell_type": "code",
      "metadata": {
        "id": "LD_4VBY4A4ud",
        "colab_type": "code",
        "outputId": "99411342-9c2c-4013-9c7c-aaee2b2d9e50",
        "colab": {
          "base_uri": "https://localhost:8080/",
          "height": 34
        }
      },
      "source": [
        "all_false['class'].unique()"
      ],
      "execution_count": 36,
      "outputs": [
        {
          "output_type": "execute_result",
          "data": {
            "text/plain": [
              "array(['barely-true', 'FALSE', 'pants-fire'], dtype=object)"
            ]
          },
          "metadata": {
            "tags": []
          },
          "execution_count": 36
        }
      ]
    },
    {
      "cell_type": "code",
      "metadata": {
        "id": "3aPsXULtfyC1",
        "colab_type": "code",
        "colab": {}
      },
      "source": [
        "all_true = all_true[['class', 'clean_statement', 'context', 'subject', 'speaker', 'speaker_job_title','state_info','party_affiliation','half_true_counts','mostly_true_counts']]\n",
        "all_false = all_false[['class', 'clean_statement', 'context', 'subject', 'speaker', 'speaker_job_title','state_info','party_affiliation','barely_true_counts','false_counts','pants_on_fire_counts']]"
      ],
      "execution_count": 0,
      "outputs": []
    },
    {
      "cell_type": "code",
      "metadata": {
        "id": "x10nLUa4euag",
        "colab_type": "code",
        "colab": {}
      },
      "source": [
        "features = ['clean_statement']"
      ],
      "execution_count": 0,
      "outputs": []
    },
    {
      "cell_type": "markdown",
      "metadata": {
        "id": "VFJXsIH1Bj_r",
        "colab_type": "text"
      },
      "source": [
        "#All_True"
      ]
    },
    {
      "cell_type": "markdown",
      "metadata": {
        "id": "WWj9UFKJw3yt",
        "colab_type": "text"
      },
      "source": [
        "## Applying label encoding for the labels in all true dataset"
      ]
    },
    {
      "cell_type": "code",
      "metadata": {
        "id": "Og3PcoWHgxse",
        "colab_type": "code",
        "outputId": "47315461-05a4-4b75-c10e-ae7420ee8a4b",
        "colab": {
          "base_uri": "https://localhost:8080/",
          "height": 34
        }
      },
      "source": [
        "from sklearn import preprocessing\n",
        "le = preprocessing.LabelEncoder()\n",
        "le.fit(all_true['class'])"
      ],
      "execution_count": 39,
      "outputs": [
        {
          "output_type": "execute_result",
          "data": {
            "text/plain": [
              "LabelEncoder()"
            ]
          },
          "metadata": {
            "tags": []
          },
          "execution_count": 39
        }
      ]
    },
    {
      "cell_type": "code",
      "metadata": {
        "id": "gU62QS0Sg7te",
        "colab_type": "code",
        "colab": {}
      },
      "source": [
        "label = le.transform(all_true['class'])"
      ],
      "execution_count": 0,
      "outputs": []
    },
    {
      "cell_type": "code",
      "metadata": {
        "id": "T4x25q87jZR7",
        "colab_type": "code",
        "outputId": "9c02504a-a118-4ffc-eb6b-e17069786a6c",
        "colab": {
          "base_uri": "https://localhost:8080/",
          "height": 34
        }
      },
      "source": [
        "le.transform(all_true['class'])"
      ],
      "execution_count": 41,
      "outputs": [
        {
          "output_type": "execute_result",
          "data": {
            "text/plain": [
              "array([0, 0, 0, ..., 1, 1, 1])"
            ]
          },
          "metadata": {
            "tags": []
          },
          "execution_count": 41
        }
      ]
    },
    {
      "cell_type": "code",
      "metadata": {
        "id": "156tehuPhJFn",
        "colab_type": "code",
        "outputId": "7f444c84-8433-4a1e-84b7-1242305aecc2",
        "colab": {
          "base_uri": "https://localhost:8080/",
          "height": 34
        }
      },
      "source": [
        "np.unique(label, return_index=True)"
      ],
      "execution_count": 42,
      "outputs": [
        {
          "output_type": "execute_result",
          "data": {
            "text/plain": [
              "(array([0, 1, 2]), array([   0, 4507, 2053]))"
            ]
          },
          "metadata": {
            "tags": []
          },
          "execution_count": 42
        }
      ]
    },
    {
      "cell_type": "code",
      "metadata": {
        "id": "_A4TvC3ogZe4",
        "colab_type": "code",
        "colab": {}
      },
      "source": [
        "y = label"
      ],
      "execution_count": 0,
      "outputs": []
    },
    {
      "cell_type": "code",
      "metadata": {
        "id": "1CB1Fv-OjUV1",
        "colab_type": "code",
        "outputId": "f83181d8-ff94-4d45-a6bd-1d826f4088f0",
        "colab": {
          "base_uri": "https://localhost:8080/",
          "height": 51
        }
      },
      "source": [
        "le.inverse_transform(y)"
      ],
      "execution_count": 44,
      "outputs": [
        {
          "output_type": "execute_result",
          "data": {
            "text/plain": [
              "array(['TRUE', 'TRUE', 'TRUE', ..., 'half-true', 'half-true', 'half-true'],\n",
              "      dtype=object)"
            ]
          },
          "metadata": {
            "tags": []
          },
          "execution_count": 44
        }
      ]
    },
    {
      "cell_type": "code",
      "metadata": {
        "id": "rDRYUQxSdgIe",
        "colab_type": "code",
        "colab": {
          "base_uri": "https://localhost:8080/",
          "height": 71
        },
        "outputId": "844a885f-031e-4824-f5f7-e2d80f360b03"
      },
      "source": [
        "import pandas as pd\n",
        "from collections import Counter\n",
        "import re\n",
        "import numpy as np\n",
        "from sklearn.utils import shuffle\n",
        "from sklearn.linear_model import LogisticRegression\n",
        "from sklearn.model_selection import cross_val_score\n",
        "from sklearn.model_selection import train_test_split\n",
        "from sklearn.feature_extraction.text import TfidfVectorizer\n",
        "from sklearn.feature_extraction.stop_words import ENGLISH_STOP_WORDS\n",
        "from sklearn.metrics import f1_score, accuracy_score , recall_score , precision_score\n",
        "import matplotlib.pyplot as plt\n",
        "from xgboost import XGBClassifier\n",
        "from sklearn.ensemble import RandomForestClassifier\n",
        "\n",
        "%matplotlib inline\n",
        "%config InlineBackend.figure_format = 'retina'"
      ],
      "execution_count": 45,
      "outputs": [
        {
          "output_type": "stream",
          "text": [
            "/usr/local/lib/python3.6/dist-packages/sklearn/utils/deprecation.py:144: FutureWarning: The sklearn.feature_extraction.stop_words module is  deprecated in version 0.22 and will be removed in version 0.24. The corresponding classes / functions should instead be imported from sklearn.feature_extraction.text. Anything that cannot be imported from sklearn.feature_extraction.text is now part of the private API.\n",
            "  warnings.warn(message, FutureWarning)\n"
          ],
          "name": "stderr"
        }
      ]
    },
    {
      "cell_type": "markdown",
      "metadata": {
        "id": "YzJcmE-921Eu",
        "colab_type": "text"
      },
      "source": [
        "## Random forest model for label re-classification"
      ]
    },
    {
      "cell_type": "code",
      "metadata": {
        "id": "YVUzFg_eePRw",
        "colab_type": "code",
        "colab": {}
      },
      "source": [
        "rfmodel = RandomForestClassifier(n_estimators=200, max_depth=3, random_state=0)"
      ],
      "execution_count": 0,
      "outputs": []
    },
    {
      "cell_type": "code",
      "metadata": {
        "id": "NuObWNFYh-YN",
        "colab_type": "code",
        "colab": {}
      },
      "source": [
        "temp = all_true[features]"
      ],
      "execution_count": 0,
      "outputs": []
    },
    {
      "cell_type": "code",
      "metadata": {
        "id": "nGSRGxh8iFhi",
        "colab_type": "code",
        "outputId": "6c61d5e0-3b21-4d16-b12f-efd91ed5d5f5",
        "colab": {
          "base_uri": "https://localhost:8080/",
          "height": 142
        }
      },
      "source": [
        "temp.head(3)"
      ],
      "execution_count": 48,
      "outputs": [
        {
          "output_type": "execute_result",
          "data": {
            "text/html": [
              "<div>\n",
              "<style scoped>\n",
              "    .dataframe tbody tr th:only-of-type {\n",
              "        vertical-align: middle;\n",
              "    }\n",
              "\n",
              "    .dataframe tbody tr th {\n",
              "        vertical-align: top;\n",
              "    }\n",
              "\n",
              "    .dataframe thead th {\n",
              "        text-align: right;\n",
              "    }\n",
              "</style>\n",
              "<table border=\"1\" class=\"dataframe\">\n",
              "  <thead>\n",
              "    <tr style=\"text-align: right;\">\n",
              "      <th></th>\n",
              "      <th>clean_statement</th>\n",
              "    </tr>\n",
              "  </thead>\n",
              "  <tbody>\n",
              "    <tr>\n",
              "      <th>2483</th>\n",
              "      <td>cost implement floridas class size amendment f...</td>\n",
              "    </tr>\n",
              "    <tr>\n",
              "      <th>53</th>\n",
              "      <td>created new jobs cut unemployment rate half to...</td>\n",
              "    </tr>\n",
              "    <tr>\n",
              "      <th>6792</th>\n",
              "      <td>prevent terror suspects boarding airplane fbi ...</td>\n",
              "    </tr>\n",
              "  </tbody>\n",
              "</table>\n",
              "</div>"
            ],
            "text/plain": [
              "                                        clean_statement\n",
              "2483  cost implement floridas class size amendment f...\n",
              "53    created new jobs cut unemployment rate half to...\n",
              "6792  prevent terror suspects boarding airplane fbi ..."
            ]
          },
          "metadata": {
            "tags": []
          },
          "execution_count": 48
        }
      ]
    },
    {
      "cell_type": "code",
      "metadata": {
        "id": "FQhWuTRR9tqm",
        "colab_type": "code",
        "outputId": "d0dcd02c-db51-4ccb-f676-3d40e7bdb573",
        "colab": {
          "base_uri": "https://localhost:8080/",
          "height": 34
        }
      },
      "source": [
        "temp.shape\n"
      ],
      "execution_count": 49,
      "outputs": [
        {
          "output_type": "execute_result",
          "data": {
            "text/plain": [
              "(7134, 1)"
            ]
          },
          "metadata": {
            "tags": []
          },
          "execution_count": 49
        }
      ]
    },
    {
      "cell_type": "code",
      "metadata": {
        "id": "omFuPwBaminV",
        "colab_type": "code",
        "colab": {}
      },
      "source": [
        "X_title_text = all_true.clean_statement.values"
      ],
      "execution_count": 0,
      "outputs": []
    },
    {
      "cell_type": "code",
      "metadata": {
        "id": "NHeXqLFJmrF8",
        "colab_type": "code",
        "colab": {}
      },
      "source": [
        "tfidf = TfidfVectorizer(stop_words=ENGLISH_STOP_WORDS,ngram_range=(1,2),max_df= 0.85, min_df= 0.01)"
      ],
      "execution_count": 0,
      "outputs": []
    },
    {
      "cell_type": "code",
      "metadata": {
        "id": "vEA-1Mprm2zT",
        "colab_type": "code",
        "colab": {}
      },
      "source": [
        "X_title_tfidf = tfidf.fit_transform (X_title_text)"
      ],
      "execution_count": 0,
      "outputs": []
    },
    {
      "cell_type": "code",
      "metadata": {
        "id": "Uu0SssljeSFm",
        "colab_type": "code",
        "outputId": "08b73b7e-0127-45c2-d338-e4596c0a4bbe",
        "colab": {
          "base_uri": "https://localhost:8080/",
          "height": 153
        }
      },
      "source": [
        "rfmodel.fit(X_title_tfidf, y)"
      ],
      "execution_count": 53,
      "outputs": [
        {
          "output_type": "execute_result",
          "data": {
            "text/plain": [
              "RandomForestClassifier(bootstrap=True, ccp_alpha=0.0, class_weight=None,\n",
              "                       criterion='gini', max_depth=3, max_features='auto',\n",
              "                       max_leaf_nodes=None, max_samples=None,\n",
              "                       min_impurity_decrease=0.0, min_impurity_split=None,\n",
              "                       min_samples_leaf=1, min_samples_split=2,\n",
              "                       min_weight_fraction_leaf=0.0, n_estimators=200,\n",
              "                       n_jobs=None, oob_score=False, random_state=0, verbose=0,\n",
              "                       warm_start=False)"
            ]
          },
          "metadata": {
            "tags": []
          },
          "execution_count": 53
        }
      ]
    },
    {
      "cell_type": "code",
      "metadata": {
        "id": "uo1JI1UPy-jz",
        "colab_type": "code",
        "colab": {}
      },
      "source": [
        "newscategoryFilepath = base_dir + '/Alternus_vera/News_Category.csv'"
      ],
      "execution_count": 0,
      "outputs": []
    },
    {
      "cell_type": "code",
      "metadata": {
        "id": "ghVPXd4yzEyU",
        "colab_type": "code",
        "colab": {}
      },
      "source": [
        "df_newscat = pd.read_csv(newscategoryFilepath)"
      ],
      "execution_count": 0,
      "outputs": []
    },
    {
      "cell_type": "code",
      "metadata": {
        "id": "dJVmdZv2zGeX",
        "colab_type": "code",
        "colab": {}
      },
      "source": [
        "df_newscat = df_newscat.loc[df_newscat['category'] == 'POLITICS']"
      ],
      "execution_count": 0,
      "outputs": []
    },
    {
      "cell_type": "code",
      "metadata": {
        "id": "SDnBm3qYzIO0",
        "colab_type": "code",
        "outputId": "bf285f2a-d659-4625-ccfd-bd17f7d44a3e",
        "colab": {
          "base_uri": "https://localhost:8080/",
          "height": 465
        }
      },
      "source": [
        "df_newscat.head(4)"
      ],
      "execution_count": 57,
      "outputs": [
        {
          "output_type": "execute_result",
          "data": {
            "text/html": [
              "<div>\n",
              "<style scoped>\n",
              "    .dataframe tbody tr th:only-of-type {\n",
              "        vertical-align: middle;\n",
              "    }\n",
              "\n",
              "    .dataframe tbody tr th {\n",
              "        vertical-align: top;\n",
              "    }\n",
              "\n",
              "    .dataframe thead th {\n",
              "        text-align: right;\n",
              "    }\n",
              "</style>\n",
              "<table border=\"1\" class=\"dataframe\">\n",
              "  <thead>\n",
              "    <tr style=\"text-align: right;\">\n",
              "      <th></th>\n",
              "      <th>category</th>\n",
              "      <th>headline</th>\n",
              "      <th>authors</th>\n",
              "      <th>link</th>\n",
              "      <th>short_description</th>\n",
              "      <th>date</th>\n",
              "    </tr>\n",
              "  </thead>\n",
              "  <tbody>\n",
              "    <tr>\n",
              "      <th>13</th>\n",
              "      <td>POLITICS</td>\n",
              "      <td>Trump's Crackdown On Immigrant Parents Puts Mo...</td>\n",
              "      <td>Elise Foley and Roque Planas</td>\n",
              "      <td>https://www.huffingtonpost.com/entry/immigrant...</td>\n",
              "      <td>Last month a Health and Human Services officia...</td>\n",
              "      <td>5/26/18</td>\n",
              "    </tr>\n",
              "    <tr>\n",
              "      <th>14</th>\n",
              "      <td>POLITICS</td>\n",
              "      <td>'Trump's Son Should Be Concerned': FBI Obtaine...</td>\n",
              "      <td>Michael Isikoff, Yahoo News</td>\n",
              "      <td>https://www.huffingtonpost.com/entry/fbi-wiret...</td>\n",
              "      <td>The wiretaps feature conversations between Ale...</td>\n",
              "      <td>5/26/18</td>\n",
              "    </tr>\n",
              "    <tr>\n",
              "      <th>15</th>\n",
              "      <td>POLITICS</td>\n",
              "      <td>Edward Snowden: There's No One Trump Loves Mor...</td>\n",
              "      <td>Mary Papenfuss</td>\n",
              "      <td>https://www.huffingtonpost.com/entry/edward-sn...</td>\n",
              "      <td>But don't count on Robert Mueller to nail him,...</td>\n",
              "      <td>5/26/18</td>\n",
              "    </tr>\n",
              "    <tr>\n",
              "      <th>16</th>\n",
              "      <td>POLITICS</td>\n",
              "      <td>Booyah: Obama Photographer Hilariously Trolls ...</td>\n",
              "      <td>Mary Papenfuss</td>\n",
              "      <td>https://www.huffingtonpost.com/entry/obama-pho...</td>\n",
              "      <td>Just a peeping minute.</td>\n",
              "      <td>5/26/18</td>\n",
              "    </tr>\n",
              "  </tbody>\n",
              "</table>\n",
              "</div>"
            ],
            "text/plain": [
              "    category  ...     date\n",
              "13  POLITICS  ...  5/26/18\n",
              "14  POLITICS  ...  5/26/18\n",
              "15  POLITICS  ...  5/26/18\n",
              "16  POLITICS  ...  5/26/18\n",
              "\n",
              "[4 rows x 6 columns]"
            ]
          },
          "metadata": {
            "tags": []
          },
          "execution_count": 57
        }
      ]
    },
    {
      "cell_type": "code",
      "metadata": {
        "id": "eIjD3ZQ6zKRw",
        "colab_type": "code",
        "colab": {}
      },
      "source": [
        "df_newscat=df_newscat.dropna()"
      ],
      "execution_count": 0,
      "outputs": []
    },
    {
      "cell_type": "code",
      "metadata": {
        "id": "R3LDMbqezN7q",
        "colab_type": "code",
        "colab": {}
      },
      "source": [
        "df_newscat['clean_text'] = df_newscat.apply(lambda row: preprocess_text(str(row['short_description'])), axis=1)"
      ],
      "execution_count": 0,
      "outputs": []
    },
    {
      "cell_type": "code",
      "metadata": {
        "id": "pKD2ToxDz1uf",
        "colab_type": "code",
        "outputId": "018efdc4-41b6-4510-c095-9a2aa44eca31",
        "colab": {
          "base_uri": "https://localhost:8080/",
          "height": 34
        }
      },
      "source": [
        "X_title_tfidf.shape"
      ],
      "execution_count": 60,
      "outputs": [
        {
          "output_type": "execute_result",
          "data": {
            "text/plain": [
              "(7134, 150)"
            ]
          },
          "metadata": {
            "tags": []
          },
          "execution_count": 60
        }
      ]
    },
    {
      "cell_type": "code",
      "metadata": {
        "id": "fvfKh3PYzQSu",
        "colab_type": "code",
        "colab": {}
      },
      "source": [
        "X_clean_text = df_newscat.clean_text.values"
      ],
      "execution_count": 0,
      "outputs": []
    },
    {
      "cell_type": "code",
      "metadata": {
        "id": "wTUYOVmTzShd",
        "colab_type": "code",
        "colab": {}
      },
      "source": [
        "X_text_tfidf = tfidf.fit_transform(X_clean_text)"
      ],
      "execution_count": 0,
      "outputs": []
    },
    {
      "cell_type": "code",
      "metadata": {
        "id": "wpZKT-3Hz6Nc",
        "colab_type": "code",
        "outputId": "b92dca9d-465b-4b74-eebe-66c012b4e8ae",
        "colab": {
          "base_uri": "https://localhost:8080/",
          "height": 34
        }
      },
      "source": [
        "X_text_tfidf.shape"
      ],
      "execution_count": 63,
      "outputs": [
        {
          "output_type": "execute_result",
          "data": {
            "text/plain": [
              "(26913, 84)"
            ]
          },
          "metadata": {
            "tags": []
          },
          "execution_count": 63
        }
      ]
    },
    {
      "cell_type": "code",
      "metadata": {
        "id": "85D5KY8kzY7k",
        "colab_type": "code",
        "colab": {}
      },
      "source": [
        "A=X_text_tfidf.toarray()"
      ],
      "execution_count": 0,
      "outputs": []
    },
    {
      "cell_type": "code",
      "metadata": {
        "id": "zKvBoTDhza2J",
        "colab_type": "code",
        "colab": {}
      },
      "source": [
        "A = np.pad(A, ((0,0),(0,66)), mode='constant')"
      ],
      "execution_count": 0,
      "outputs": []
    },
    {
      "cell_type": "code",
      "metadata": {
        "id": "1GxKfSUvzddo",
        "colab_type": "code",
        "outputId": "d9634c39-bd70-4a72-c58e-f207813853c3",
        "colab": {
          "base_uri": "https://localhost:8080/",
          "height": 34
        }
      },
      "source": [
        "A.shape"
      ],
      "execution_count": 66,
      "outputs": [
        {
          "output_type": "execute_result",
          "data": {
            "text/plain": [
              "(26913, 150)"
            ]
          },
          "metadata": {
            "tags": []
          },
          "execution_count": 66
        }
      ]
    },
    {
      "cell_type": "code",
      "metadata": {
        "id": "35BS4G6uzger",
        "colab_type": "code",
        "colab": {}
      },
      "source": [
        "y_pred = rfmodel.predict(A)"
      ],
      "execution_count": 0,
      "outputs": []
    },
    {
      "cell_type": "code",
      "metadata": {
        "id": "xyzzzfCY0G_R",
        "colab_type": "code",
        "outputId": "4286a0e1-f9f8-45ff-f93a-4d7fd9bc3598",
        "colab": {
          "base_uri": "https://localhost:8080/",
          "height": 34
        }
      },
      "source": [
        "np.unique(le.inverse_transform(y_pred))"
      ],
      "execution_count": 68,
      "outputs": [
        {
          "output_type": "execute_result",
          "data": {
            "text/plain": [
              "array(['half-true', 'mostly-true'], dtype=object)"
            ]
          },
          "metadata": {
            "tags": []
          },
          "execution_count": 68
        }
      ]
    },
    {
      "cell_type": "code",
      "metadata": {
        "id": "OZbHQsDH0Nio",
        "colab_type": "code",
        "colab": {}
      },
      "source": [
        "df_newscat['textlabel'] = le.inverse_transform(y_pred)"
      ],
      "execution_count": 0,
      "outputs": []
    },
    {
      "cell_type": "code",
      "metadata": {
        "id": "wFWxoSgX0VgL",
        "colab_type": "code",
        "outputId": "a841480e-626f-499c-80a4-374a2bca49ef",
        "colab": {
          "base_uri": "https://localhost:8080/",
          "height": 564
        }
      },
      "source": [
        "df_newscat.head(5)"
      ],
      "execution_count": 70,
      "outputs": [
        {
          "output_type": "execute_result",
          "data": {
            "text/html": [
              "<div>\n",
              "<style scoped>\n",
              "    .dataframe tbody tr th:only-of-type {\n",
              "        vertical-align: middle;\n",
              "    }\n",
              "\n",
              "    .dataframe tbody tr th {\n",
              "        vertical-align: top;\n",
              "    }\n",
              "\n",
              "    .dataframe thead th {\n",
              "        text-align: right;\n",
              "    }\n",
              "</style>\n",
              "<table border=\"1\" class=\"dataframe\">\n",
              "  <thead>\n",
              "    <tr style=\"text-align: right;\">\n",
              "      <th></th>\n",
              "      <th>category</th>\n",
              "      <th>headline</th>\n",
              "      <th>authors</th>\n",
              "      <th>link</th>\n",
              "      <th>short_description</th>\n",
              "      <th>date</th>\n",
              "      <th>clean_text</th>\n",
              "      <th>textlabel</th>\n",
              "    </tr>\n",
              "  </thead>\n",
              "  <tbody>\n",
              "    <tr>\n",
              "      <th>13</th>\n",
              "      <td>POLITICS</td>\n",
              "      <td>Trump's Crackdown On Immigrant Parents Puts Mo...</td>\n",
              "      <td>Elise Foley and Roque Planas</td>\n",
              "      <td>https://www.huffingtonpost.com/entry/immigrant...</td>\n",
              "      <td>Last month a Health and Human Services officia...</td>\n",
              "      <td>5/26/18</td>\n",
              "      <td>month health human services official revealed ...</td>\n",
              "      <td>half-true</td>\n",
              "    </tr>\n",
              "    <tr>\n",
              "      <th>14</th>\n",
              "      <td>POLITICS</td>\n",
              "      <td>'Trump's Son Should Be Concerned': FBI Obtaine...</td>\n",
              "      <td>Michael Isikoff, Yahoo News</td>\n",
              "      <td>https://www.huffingtonpost.com/entry/fbi-wiret...</td>\n",
              "      <td>The wiretaps feature conversations between Ale...</td>\n",
              "      <td>5/26/18</td>\n",
              "      <td>wiretaps feature conversations alexander torsh...</td>\n",
              "      <td>half-true</td>\n",
              "    </tr>\n",
              "    <tr>\n",
              "      <th>15</th>\n",
              "      <td>POLITICS</td>\n",
              "      <td>Edward Snowden: There's No One Trump Loves Mor...</td>\n",
              "      <td>Mary Papenfuss</td>\n",
              "      <td>https://www.huffingtonpost.com/entry/edward-sn...</td>\n",
              "      <td>But don't count on Robert Mueller to nail him,...</td>\n",
              "      <td>5/26/18</td>\n",
              "      <td>dont count robert mueller nail nsa whistleblow...</td>\n",
              "      <td>half-true</td>\n",
              "    </tr>\n",
              "    <tr>\n",
              "      <th>16</th>\n",
              "      <td>POLITICS</td>\n",
              "      <td>Booyah: Obama Photographer Hilariously Trolls ...</td>\n",
              "      <td>Mary Papenfuss</td>\n",
              "      <td>https://www.huffingtonpost.com/entry/obama-pho...</td>\n",
              "      <td>Just a peeping minute.</td>\n",
              "      <td>5/26/18</td>\n",
              "      <td>peeping minute</td>\n",
              "      <td>half-true</td>\n",
              "    </tr>\n",
              "    <tr>\n",
              "      <th>17</th>\n",
              "      <td>POLITICS</td>\n",
              "      <td>Ireland Votes To Repeal Abortion Amendment In ...</td>\n",
              "      <td>Laura Bassett</td>\n",
              "      <td>https://www.huffingtonpost.com/entry/results-f...</td>\n",
              "      <td>Irish women will no longer have to travel to t...</td>\n",
              "      <td>5/26/18</td>\n",
              "      <td>irish women longer travel united kingdom end p...</td>\n",
              "      <td>half-true</td>\n",
              "    </tr>\n",
              "  </tbody>\n",
              "</table>\n",
              "</div>"
            ],
            "text/plain": [
              "    category  ...  textlabel\n",
              "13  POLITICS  ...  half-true\n",
              "14  POLITICS  ...  half-true\n",
              "15  POLITICS  ...  half-true\n",
              "16  POLITICS  ...  half-true\n",
              "17  POLITICS  ...  half-true\n",
              "\n",
              "[5 rows x 8 columns]"
            ]
          },
          "metadata": {
            "tags": []
          },
          "execution_count": 70
        }
      ]
    },
    {
      "cell_type": "code",
      "metadata": {
        "id": "TsICs94A0cN3",
        "colab_type": "code",
        "outputId": "0d0b4c0d-c5be-45f4-8265-81953f073a2b",
        "colab": {
          "base_uri": "https://localhost:8080/",
          "height": 68
        }
      },
      "source": [
        "df_newscat['textlabel'].value_counts()"
      ],
      "execution_count": 71,
      "outputs": [
        {
          "output_type": "execute_result",
          "data": {
            "text/plain": [
              "half-true      26479\n",
              "mostly-true      434\n",
              "Name: textlabel, dtype: int64"
            ]
          },
          "metadata": {
            "tags": []
          },
          "execution_count": 71
        }
      ]
    },
    {
      "cell_type": "markdown",
      "metadata": {
        "id": "fnwdVegh-rQs",
        "colab_type": "text"
      },
      "source": [
        "#All_False"
      ]
    },
    {
      "cell_type": "code",
      "metadata": {
        "id": "7xajHMo0-ol2",
        "colab_type": "code",
        "outputId": "edb58f91-a457-45d3-a9a6-48375d313588",
        "colab": {
          "base_uri": "https://localhost:8080/",
          "height": 34
        }
      },
      "source": [
        "from sklearn import preprocessing\n",
        "le_false = preprocessing.LabelEncoder()\n",
        "le_false.fit(all_false['class'])"
      ],
      "execution_count": 72,
      "outputs": [
        {
          "output_type": "execute_result",
          "data": {
            "text/plain": [
              "LabelEncoder()"
            ]
          },
          "metadata": {
            "tags": []
          },
          "execution_count": 72
        }
      ]
    },
    {
      "cell_type": "code",
      "metadata": {
        "id": "7bI5T8eR-ook",
        "colab_type": "code",
        "colab": {}
      },
      "source": [
        "label_false = le_false.transform(all_false['class'])"
      ],
      "execution_count": 0,
      "outputs": []
    },
    {
      "cell_type": "code",
      "metadata": {
        "id": "BjKieKjb-ozI",
        "colab_type": "code",
        "outputId": "0edf8895-3c63-4342-f958-b50c006f0343",
        "colab": {
          "base_uri": "https://localhost:8080/",
          "height": 34
        }
      },
      "source": [
        "le_false.transform(all_false['class'])"
      ],
      "execution_count": 74,
      "outputs": [
        {
          "output_type": "execute_result",
          "data": {
            "text/plain": [
              "array([1, 1, 1, ..., 2, 2, 2])"
            ]
          },
          "metadata": {
            "tags": []
          },
          "execution_count": 74
        }
      ]
    },
    {
      "cell_type": "code",
      "metadata": {
        "id": "jcQgnnpa-o1E",
        "colab_type": "code",
        "outputId": "e22ed988-88dd-47fd-b6ae-098aaa04006a",
        "colab": {
          "base_uri": "https://localhost:8080/",
          "height": 34
        }
      },
      "source": [
        "np.unique(label_false, return_index=True)"
      ],
      "execution_count": 75,
      "outputs": [
        {
          "output_type": "execute_result",
          "data": {
            "text/plain": [
              "(array([0, 1, 2]), array([2103,    0, 4610]))"
            ]
          },
          "metadata": {
            "tags": []
          },
          "execution_count": 75
        }
      ]
    },
    {
      "cell_type": "code",
      "metadata": {
        "id": "OV-_cBk5-o5O",
        "colab_type": "code",
        "colab": {}
      },
      "source": [
        "y_false = label_false"
      ],
      "execution_count": 0,
      "outputs": []
    },
    {
      "cell_type": "code",
      "metadata": {
        "id": "Mbl-v5BnDE3K",
        "colab_type": "code",
        "outputId": "ca08fe1d-5765-4a44-e728-7a67e553529c",
        "colab": {
          "base_uri": "https://localhost:8080/",
          "height": 51
        }
      },
      "source": [
        "le_false.inverse_transform(y_false)"
      ],
      "execution_count": 77,
      "outputs": [
        {
          "output_type": "execute_result",
          "data": {
            "text/plain": [
              "array(['barely-true', 'barely-true', 'barely-true', ..., 'pants-fire',\n",
              "       'pants-fire', 'pants-fire'], dtype=object)"
            ]
          },
          "metadata": {
            "tags": []
          },
          "execution_count": 77
        }
      ]
    },
    {
      "cell_type": "code",
      "metadata": {
        "id": "RW4Y72RMV1-k",
        "colab_type": "code",
        "outputId": "11f028f0-c618-4ac8-8737-c8d6d78e91d7",
        "colab": {
          "base_uri": "https://localhost:8080/",
          "height": 34
        }
      },
      "source": [
        "y_false"
      ],
      "execution_count": 78,
      "outputs": [
        {
          "output_type": "execute_result",
          "data": {
            "text/plain": [
              "array([1, 1, 1, ..., 2, 2, 2])"
            ]
          },
          "metadata": {
            "tags": []
          },
          "execution_count": 78
        }
      ]
    },
    {
      "cell_type": "markdown",
      "metadata": {
        "id": "It_K_PC3Wg1I",
        "colab_type": "text"
      },
      "source": [
        "###Random Forest Classifier"
      ]
    },
    {
      "cell_type": "code",
      "metadata": {
        "id": "yG8forFsDMdN",
        "colab_type": "code",
        "colab": {}
      },
      "source": [
        "rfmodel_false = RandomForestClassifier(n_estimators=200, max_depth=3, random_state=0)"
      ],
      "execution_count": 0,
      "outputs": []
    },
    {
      "cell_type": "code",
      "metadata": {
        "id": "9nCT3NFoDMe_",
        "colab_type": "code",
        "colab": {}
      },
      "source": [
        "False_text = all_false.clean_statement.values"
      ],
      "execution_count": 0,
      "outputs": []
    },
    {
      "cell_type": "code",
      "metadata": {
        "id": "mRt0NhGbDMg_",
        "colab_type": "code",
        "colab": {}
      },
      "source": [
        "tfidf = TfidfVectorizer(stop_words=ENGLISH_STOP_WORDS,ngram_range=(1,2),max_df= 0.85, min_df= 0.01)\n",
        "False_features_tfidf = tfidf.fit_transform (False_text)"
      ],
      "execution_count": 0,
      "outputs": []
    },
    {
      "cell_type": "code",
      "metadata": {
        "id": "AZX1Ws9hEbYP",
        "colab_type": "code",
        "outputId": "0845f2a9-70ca-4543-c638-1e8b077e3a8e",
        "colab": {
          "base_uri": "https://localhost:8080/",
          "height": 153
        }
      },
      "source": [
        "rfmodel_false.fit(False_features_tfidf, y_false)"
      ],
      "execution_count": 83,
      "outputs": [
        {
          "output_type": "execute_result",
          "data": {
            "text/plain": [
              "RandomForestClassifier(bootstrap=True, ccp_alpha=0.0, class_weight=None,\n",
              "                       criterion='gini', max_depth=3, max_features='auto',\n",
              "                       max_leaf_nodes=None, max_samples=None,\n",
              "                       min_impurity_decrease=0.0, min_impurity_split=None,\n",
              "                       min_samples_leaf=1, min_samples_split=2,\n",
              "                       min_weight_fraction_leaf=0.0, n_estimators=200,\n",
              "                       n_jobs=None, oob_score=False, random_state=0, verbose=0,\n",
              "                       warm_start=False)"
            ]
          },
          "metadata": {
            "tags": []
          },
          "execution_count": 83
        }
      ]
    },
    {
      "cell_type": "markdown",
      "metadata": {
        "id": "3Sp_2Gh0GMVX",
        "colab_type": "text"
      },
      "source": [
        "##Importing Fake news Dataset"
      ]
    },
    {
      "cell_type": "code",
      "metadata": {
        "id": "NSD9is82FkhH",
        "colab_type": "code",
        "colab": {}
      },
      "source": [
        "fake_news = base_dir + '/Alternus_vera/fake.csv'\n",
        "df_fake = pd.read_csv(fake_news) "
      ],
      "execution_count": 0,
      "outputs": []
    },
    {
      "cell_type": "code",
      "metadata": {
        "id": "Nwgd1UhuHcY2",
        "colab_type": "code",
        "outputId": "9aa8b3dd-9d2d-4032-8240-42ee51ed108f",
        "colab": {
          "base_uri": "https://localhost:8080/",
          "height": 369
        }
      },
      "source": [
        "df_fake.head(2)"
      ],
      "execution_count": 87,
      "outputs": [
        {
          "output_type": "execute_result",
          "data": {
            "text/html": [
              "<div>\n",
              "<style scoped>\n",
              "    .dataframe tbody tr th:only-of-type {\n",
              "        vertical-align: middle;\n",
              "    }\n",
              "\n",
              "    .dataframe tbody tr th {\n",
              "        vertical-align: top;\n",
              "    }\n",
              "\n",
              "    .dataframe thead th {\n",
              "        text-align: right;\n",
              "    }\n",
              "</style>\n",
              "<table border=\"1\" class=\"dataframe\">\n",
              "  <thead>\n",
              "    <tr style=\"text-align: right;\">\n",
              "      <th></th>\n",
              "      <th>uuid</th>\n",
              "      <th>ord_in_thread</th>\n",
              "      <th>author</th>\n",
              "      <th>published</th>\n",
              "      <th>title</th>\n",
              "      <th>text</th>\n",
              "      <th>language</th>\n",
              "      <th>crawled</th>\n",
              "      <th>site_url</th>\n",
              "      <th>country</th>\n",
              "      <th>domain_rank</th>\n",
              "      <th>thread_title</th>\n",
              "      <th>spam_score</th>\n",
              "      <th>main_img_url</th>\n",
              "      <th>replies_count</th>\n",
              "      <th>participants_count</th>\n",
              "      <th>likes</th>\n",
              "      <th>comments</th>\n",
              "      <th>shares</th>\n",
              "      <th>type</th>\n",
              "    </tr>\n",
              "  </thead>\n",
              "  <tbody>\n",
              "    <tr>\n",
              "      <th>0</th>\n",
              "      <td>6a175f46bcd24d39b3e962ad0f29936721db70db</td>\n",
              "      <td>0</td>\n",
              "      <td>Barracuda Brigade</td>\n",
              "      <td>2016-10-26T21:41:00.000+03:00</td>\n",
              "      <td>Muslims BUSTED: They Stole Millions In Gov’t B...</td>\n",
              "      <td>Print They should pay all the back all the mon...</td>\n",
              "      <td>english</td>\n",
              "      <td>2016-10-27T01:49:27.168+03:00</td>\n",
              "      <td>100percentfedup.com</td>\n",
              "      <td>US</td>\n",
              "      <td>25689.0</td>\n",
              "      <td>Muslims BUSTED: They Stole Millions In Gov’t B...</td>\n",
              "      <td>0.0</td>\n",
              "      <td>http://bb4sp.com/wp-content/uploads/2016/10/Fu...</td>\n",
              "      <td>0</td>\n",
              "      <td>1</td>\n",
              "      <td>0</td>\n",
              "      <td>0</td>\n",
              "      <td>0</td>\n",
              "      <td>bias</td>\n",
              "    </tr>\n",
              "    <tr>\n",
              "      <th>1</th>\n",
              "      <td>2bdc29d12605ef9cf3f09f9875040a7113be5d5b</td>\n",
              "      <td>0</td>\n",
              "      <td>reasoning with facts</td>\n",
              "      <td>2016-10-29T08:47:11.259+03:00</td>\n",
              "      <td>Re: Why Did Attorney General Loretta Lynch Ple...</td>\n",
              "      <td>Why Did Attorney General Loretta Lynch Plead T...</td>\n",
              "      <td>english</td>\n",
              "      <td>2016-10-29T08:47:11.259+03:00</td>\n",
              "      <td>100percentfedup.com</td>\n",
              "      <td>US</td>\n",
              "      <td>25689.0</td>\n",
              "      <td>Re: Why Did Attorney General Loretta Lynch Ple...</td>\n",
              "      <td>0.0</td>\n",
              "      <td>http://bb4sp.com/wp-content/uploads/2016/10/Fu...</td>\n",
              "      <td>0</td>\n",
              "      <td>1</td>\n",
              "      <td>0</td>\n",
              "      <td>0</td>\n",
              "      <td>0</td>\n",
              "      <td>bias</td>\n",
              "    </tr>\n",
              "  </tbody>\n",
              "</table>\n",
              "</div>"
            ],
            "text/plain": [
              "                                       uuid  ord_in_thread  ... shares  type\n",
              "0  6a175f46bcd24d39b3e962ad0f29936721db70db              0  ...      0  bias\n",
              "1  2bdc29d12605ef9cf3f09f9875040a7113be5d5b              0  ...      0  bias\n",
              "\n",
              "[2 rows x 20 columns]"
            ]
          },
          "metadata": {
            "tags": []
          },
          "execution_count": 87
        }
      ]
    },
    {
      "cell_type": "code",
      "metadata": {
        "id": "PzzqOKVpHevG",
        "colab_type": "code",
        "outputId": "523a49f6-3a64-497c-c4e8-9f683a0edb9f",
        "colab": {
          "base_uri": "https://localhost:8080/",
          "height": 68
        }
      },
      "source": [
        "df_fake.language.unique()"
      ],
      "execution_count": 88,
      "outputs": [
        {
          "output_type": "execute_result",
          "data": {
            "text/plain": [
              "array(['english', 'ignore', 'german', 'french', 'spanish', 'russian',\n",
              "       'greek', 'finnish', 'portuguese', 'arabic', 'dutch', 'italian',\n",
              "       'turkish', 'norwegian', 'chinese', 'polish'], dtype=object)"
            ]
          },
          "metadata": {
            "tags": []
          },
          "execution_count": 88
        }
      ]
    },
    {
      "cell_type": "code",
      "metadata": {
        "id": "G46dwN-pIZCe",
        "colab_type": "code",
        "colab": {}
      },
      "source": [
        "df_fake = df_fake[df_fake['language'] == 'english']"
      ],
      "execution_count": 0,
      "outputs": []
    },
    {
      "cell_type": "code",
      "metadata": {
        "id": "f6dkMnswI0Jx",
        "colab_type": "code",
        "colab": {}
      },
      "source": [
        "# df_fake.head(2)"
      ],
      "execution_count": 0,
      "outputs": []
    },
    {
      "cell_type": "code",
      "metadata": {
        "id": "O7SHIaRvKEM4",
        "colab_type": "code",
        "colab": {}
      },
      "source": [
        "df1_fake = df_fake[['author', 'title', 'text', 'site_url', 'domain_rank']]"
      ],
      "execution_count": 0,
      "outputs": []
    },
    {
      "cell_type": "code",
      "metadata": {
        "id": "dCqnV8puKeHm",
        "colab_type": "code",
        "outputId": "7d4a79d8-1464-4c86-9123-8319fd9bc8e2",
        "colab": {
          "base_uri": "https://localhost:8080/",
          "height": 145
        }
      },
      "source": [
        "df1_fake.head(2)"
      ],
      "execution_count": 92,
      "outputs": [
        {
          "output_type": "execute_result",
          "data": {
            "text/html": [
              "<div>\n",
              "<style scoped>\n",
              "    .dataframe tbody tr th:only-of-type {\n",
              "        vertical-align: middle;\n",
              "    }\n",
              "\n",
              "    .dataframe tbody tr th {\n",
              "        vertical-align: top;\n",
              "    }\n",
              "\n",
              "    .dataframe thead th {\n",
              "        text-align: right;\n",
              "    }\n",
              "</style>\n",
              "<table border=\"1\" class=\"dataframe\">\n",
              "  <thead>\n",
              "    <tr style=\"text-align: right;\">\n",
              "      <th></th>\n",
              "      <th>author</th>\n",
              "      <th>title</th>\n",
              "      <th>text</th>\n",
              "      <th>site_url</th>\n",
              "      <th>domain_rank</th>\n",
              "    </tr>\n",
              "  </thead>\n",
              "  <tbody>\n",
              "    <tr>\n",
              "      <th>0</th>\n",
              "      <td>Barracuda Brigade</td>\n",
              "      <td>Muslims BUSTED: They Stole Millions In Gov’t B...</td>\n",
              "      <td>Print They should pay all the back all the mon...</td>\n",
              "      <td>100percentfedup.com</td>\n",
              "      <td>25689.0</td>\n",
              "    </tr>\n",
              "    <tr>\n",
              "      <th>1</th>\n",
              "      <td>reasoning with facts</td>\n",
              "      <td>Re: Why Did Attorney General Loretta Lynch Ple...</td>\n",
              "      <td>Why Did Attorney General Loretta Lynch Plead T...</td>\n",
              "      <td>100percentfedup.com</td>\n",
              "      <td>25689.0</td>\n",
              "    </tr>\n",
              "  </tbody>\n",
              "</table>\n",
              "</div>"
            ],
            "text/plain": [
              "                 author  ... domain_rank\n",
              "0     Barracuda Brigade  ...     25689.0\n",
              "1  reasoning with facts  ...     25689.0\n",
              "\n",
              "[2 rows x 5 columns]"
            ]
          },
          "metadata": {
            "tags": []
          },
          "execution_count": 92
        }
      ]
    },
    {
      "cell_type": "code",
      "metadata": {
        "id": "P0NvkpHGPI0n",
        "colab_type": "code",
        "outputId": "eaa9d86a-fbb3-4455-afd9-698971e1dce4",
        "colab": {
          "base_uri": "https://localhost:8080/",
          "height": 119
        }
      },
      "source": [
        "df1_fake.dtypes"
      ],
      "execution_count": 93,
      "outputs": [
        {
          "output_type": "execute_result",
          "data": {
            "text/plain": [
              "author          object\n",
              "title           object\n",
              "text            object\n",
              "site_url        object\n",
              "domain_rank    float64\n",
              "dtype: object"
            ]
          },
          "metadata": {
            "tags": []
          },
          "execution_count": 93
        }
      ]
    },
    {
      "cell_type": "code",
      "metadata": {
        "id": "oZLlt5m6gMaM",
        "colab_type": "code",
        "outputId": "2ba3a8e8-23e3-4891-9ada-aa7a5728b1fe",
        "colab": {
          "base_uri": "https://localhost:8080/",
          "height": 34
        }
      },
      "source": [
        "df1_fake.shape"
      ],
      "execution_count": 94,
      "outputs": [
        {
          "output_type": "execute_result",
          "data": {
            "text/plain": [
              "(12403, 5)"
            ]
          },
          "metadata": {
            "tags": []
          },
          "execution_count": 94
        }
      ]
    },
    {
      "cell_type": "code",
      "metadata": {
        "id": "jS8liJecHhzG",
        "colab_type": "code",
        "colab": {}
      },
      "source": [
        "df1_fake = df1_fake.dropna()"
      ],
      "execution_count": 0,
      "outputs": []
    },
    {
      "cell_type": "code",
      "metadata": {
        "id": "6EObs7OIKgO0",
        "colab_type": "code",
        "outputId": "2dec6542-fc8c-47ea-b4cf-e52349adb48c",
        "colab": {
          "base_uri": "https://localhost:8080/",
          "height": 476
        }
      },
      "source": [
        "df1_fake['clean_title'] = df1_fake.apply(lambda row: preprocess_text(str(row['title'])), axis=1)\n",
        "df1_fake.head()"
      ],
      "execution_count": 96,
      "outputs": [
        {
          "output_type": "execute_result",
          "data": {
            "text/html": [
              "<div>\n",
              "<style scoped>\n",
              "    .dataframe tbody tr th:only-of-type {\n",
              "        vertical-align: middle;\n",
              "    }\n",
              "\n",
              "    .dataframe tbody tr th {\n",
              "        vertical-align: top;\n",
              "    }\n",
              "\n",
              "    .dataframe thead th {\n",
              "        text-align: right;\n",
              "    }\n",
              "</style>\n",
              "<table border=\"1\" class=\"dataframe\">\n",
              "  <thead>\n",
              "    <tr style=\"text-align: right;\">\n",
              "      <th></th>\n",
              "      <th>author</th>\n",
              "      <th>title</th>\n",
              "      <th>text</th>\n",
              "      <th>site_url</th>\n",
              "      <th>domain_rank</th>\n",
              "      <th>clean_title</th>\n",
              "    </tr>\n",
              "  </thead>\n",
              "  <tbody>\n",
              "    <tr>\n",
              "      <th>0</th>\n",
              "      <td>Barracuda Brigade</td>\n",
              "      <td>Muslims BUSTED: They Stole Millions In Gov’t B...</td>\n",
              "      <td>Print They should pay all the back all the mon...</td>\n",
              "      <td>100percentfedup.com</td>\n",
              "      <td>25689.0</td>\n",
              "      <td>muslims busted stole millions govt benefits</td>\n",
              "    </tr>\n",
              "    <tr>\n",
              "      <th>1</th>\n",
              "      <td>reasoning with facts</td>\n",
              "      <td>Re: Why Did Attorney General Loretta Lynch Ple...</td>\n",
              "      <td>Why Did Attorney General Loretta Lynch Plead T...</td>\n",
              "      <td>100percentfedup.com</td>\n",
              "      <td>25689.0</td>\n",
              "      <td>attorney general loretta lynch plead fifth</td>\n",
              "    </tr>\n",
              "    <tr>\n",
              "      <th>2</th>\n",
              "      <td>Barracuda Brigade</td>\n",
              "      <td>BREAKING: Weiner Cooperating With FBI On Hilla...</td>\n",
              "      <td>Red State : \\nFox News Sunday reported this mo...</td>\n",
              "      <td>100percentfedup.com</td>\n",
              "      <td>25689.0</td>\n",
              "      <td>breaking weiner cooperating fbi hillary email ...</td>\n",
              "    </tr>\n",
              "    <tr>\n",
              "      <th>3</th>\n",
              "      <td>Fed Up</td>\n",
              "      <td>PIN DROP SPEECH BY FATHER OF DAUGHTER Kidnappe...</td>\n",
              "      <td>Email Kayla Mueller was a prisoner and torture...</td>\n",
              "      <td>100percentfedup.com</td>\n",
              "      <td>25689.0</td>\n",
              "      <td>pin drop speech father daughter kidnapped kill...</td>\n",
              "    </tr>\n",
              "    <tr>\n",
              "      <th>4</th>\n",
              "      <td>Fed Up</td>\n",
              "      <td>FANTASTIC! TRUMP'S 7 POINT PLAN To Reform Heal...</td>\n",
              "      <td>Email HEALTHCARE REFORM TO MAKE AMERICA GREAT ...</td>\n",
              "      <td>100percentfedup.com</td>\n",
              "      <td>25689.0</td>\n",
              "      <td>fantastic trumps point plan reform healthcare ...</td>\n",
              "    </tr>\n",
              "  </tbody>\n",
              "</table>\n",
              "</div>"
            ],
            "text/plain": [
              "                 author  ...                                        clean_title\n",
              "0     Barracuda Brigade  ...        muslims busted stole millions govt benefits\n",
              "1  reasoning with facts  ...         attorney general loretta lynch plead fifth\n",
              "2     Barracuda Brigade  ...  breaking weiner cooperating fbi hillary email ...\n",
              "3                Fed Up  ...  pin drop speech father daughter kidnapped kill...\n",
              "4                Fed Up  ...  fantastic trumps point plan reform healthcare ...\n",
              "\n",
              "[5 rows x 6 columns]"
            ]
          },
          "metadata": {
            "tags": []
          },
          "execution_count": 96
        }
      ]
    },
    {
      "cell_type": "code",
      "metadata": {
        "id": "_4oHDH8Qef_f",
        "colab_type": "code",
        "outputId": "8ce2d842-0a73-43ab-c077-2e4a05198381",
        "colab": {
          "base_uri": "https://localhost:8080/",
          "height": 34
        }
      },
      "source": [
        "df1_fake.shape"
      ],
      "execution_count": 97,
      "outputs": [
        {
          "output_type": "execute_result",
          "data": {
            "text/plain": [
              "(5993, 6)"
            ]
          },
          "metadata": {
            "tags": []
          },
          "execution_count": 97
        }
      ]
    },
    {
      "cell_type": "code",
      "metadata": {
        "id": "c0_kMc1yQHh3",
        "colab_type": "code",
        "outputId": "8756298a-2735-4db1-be91-d4f72007bbc5",
        "colab": {
          "base_uri": "https://localhost:8080/",
          "height": 34
        }
      },
      "source": [
        "fake_text = df1_fake.clean_title.values\n",
        "fake_text[0]"
      ],
      "execution_count": 98,
      "outputs": [
        {
          "output_type": "execute_result",
          "data": {
            "text/plain": [
              "'muslims busted stole millions govt benefits'"
            ]
          },
          "metadata": {
            "tags": []
          },
          "execution_count": 98
        }
      ]
    },
    {
      "cell_type": "code",
      "metadata": {
        "id": "YUGVI0iRbUh2",
        "colab_type": "code",
        "colab": {}
      },
      "source": [
        "fake_features_tfidf = tfidf.fit_transform (fake_text)"
      ],
      "execution_count": 0,
      "outputs": []
    },
    {
      "cell_type": "code",
      "metadata": {
        "id": "X_QCVYx6hvlw",
        "colab_type": "code",
        "outputId": "668d87fd-46e7-4c58-95f7-45205c2a95a2",
        "colab": {
          "base_uri": "https://localhost:8080/",
          "height": 34
        }
      },
      "source": [
        "fake_features_tfidf.shape"
      ],
      "execution_count": 100,
      "outputs": [
        {
          "output_type": "execute_result",
          "data": {
            "text/plain": [
              "(5993, 45)"
            ]
          },
          "metadata": {
            "tags": []
          },
          "execution_count": 100
        }
      ]
    },
    {
      "cell_type": "code",
      "metadata": {
        "id": "GUwbk3E2tHct",
        "colab_type": "code",
        "outputId": "d3d543b6-4c1c-4c45-d29d-672e311a4e82",
        "colab": {
          "base_uri": "https://localhost:8080/",
          "height": 34
        }
      },
      "source": [
        "False_features_tfidf.shape"
      ],
      "execution_count": 101,
      "outputs": [
        {
          "output_type": "execute_result",
          "data": {
            "text/plain": [
              "(5657, 133)"
            ]
          },
          "metadata": {
            "tags": []
          },
          "execution_count": 101
        }
      ]
    },
    {
      "cell_type": "code",
      "metadata": {
        "id": "ZSiLHp0uqzBx",
        "colab_type": "code",
        "outputId": "6ef3be02-8416-4e16-8041-a62fe50dcfd0",
        "colab": {
          "base_uri": "https://localhost:8080/",
          "height": 153
        }
      },
      "source": [
        "rfmodel_false.fit(False_features_tfidf, y_false)"
      ],
      "execution_count": 102,
      "outputs": [
        {
          "output_type": "execute_result",
          "data": {
            "text/plain": [
              "RandomForestClassifier(bootstrap=True, ccp_alpha=0.0, class_weight=None,\n",
              "                       criterion='gini', max_depth=3, max_features='auto',\n",
              "                       max_leaf_nodes=None, max_samples=None,\n",
              "                       min_impurity_decrease=0.0, min_impurity_split=None,\n",
              "                       min_samples_leaf=1, min_samples_split=2,\n",
              "                       min_weight_fraction_leaf=0.0, n_estimators=200,\n",
              "                       n_jobs=None, oob_score=False, random_state=0, verbose=0,\n",
              "                       warm_start=False)"
            ]
          },
          "metadata": {
            "tags": []
          },
          "execution_count": 102
        }
      ]
    },
    {
      "cell_type": "markdown",
      "metadata": {
        "id": "QiP1OU-W3GEx",
        "colab_type": "text"
      },
      "source": [
        "## Padding the array"
      ]
    },
    {
      "cell_type": "code",
      "metadata": {
        "id": "GxMUduRYrR7M",
        "colab_type": "code",
        "colab": {}
      },
      "source": [
        "A=fake_features_tfidf.toarray()"
      ],
      "execution_count": 0,
      "outputs": []
    },
    {
      "cell_type": "code",
      "metadata": {
        "id": "yWxJexiIrb9B",
        "colab_type": "code",
        "outputId": "37cfc207-e598-4307-e38c-065feefb5249",
        "colab": {
          "base_uri": "https://localhost:8080/",
          "height": 34
        }
      },
      "source": [
        "A.shape"
      ],
      "execution_count": 104,
      "outputs": [
        {
          "output_type": "execute_result",
          "data": {
            "text/plain": [
              "(5993, 45)"
            ]
          },
          "metadata": {
            "tags": []
          },
          "execution_count": 104
        }
      ]
    },
    {
      "cell_type": "code",
      "metadata": {
        "id": "zU_BAlW4rdg_",
        "colab_type": "code",
        "colab": {}
      },
      "source": [
        "A = np.pad(A, ((0,0),(0,88)), mode='constant')"
      ],
      "execution_count": 0,
      "outputs": []
    },
    {
      "cell_type": "code",
      "metadata": {
        "id": "qTm6xBUirhv6",
        "colab_type": "code",
        "outputId": "811106b3-bedc-439a-9fbe-5736724cb7e4",
        "colab": {
          "base_uri": "https://localhost:8080/",
          "height": 34
        }
      },
      "source": [
        "A.shape"
      ],
      "execution_count": 106,
      "outputs": [
        {
          "output_type": "execute_result",
          "data": {
            "text/plain": [
              "(5993, 133)"
            ]
          },
          "metadata": {
            "tags": []
          },
          "execution_count": 106
        }
      ]
    },
    {
      "cell_type": "code",
      "metadata": {
        "id": "ugw8KckSrwRM",
        "colab_type": "code",
        "colab": {}
      },
      "source": [
        "y_pred= rfmodel_false.predict(A)"
      ],
      "execution_count": 0,
      "outputs": []
    },
    {
      "cell_type": "code",
      "metadata": {
        "id": "G9yNPymirwUa",
        "colab_type": "code",
        "outputId": "27407307-1b8a-46aa-9323-c82c063450bf",
        "colab": {
          "base_uri": "https://localhost:8080/",
          "height": 34
        }
      },
      "source": [
        "y_pred"
      ],
      "execution_count": 108,
      "outputs": [
        {
          "output_type": "execute_result",
          "data": {
            "text/plain": [
              "array([0, 0, 0, ..., 0, 0, 0])"
            ]
          },
          "metadata": {
            "tags": []
          },
          "execution_count": 108
        }
      ]
    },
    {
      "cell_type": "code",
      "metadata": {
        "id": "ySkVlV4Nrwa3",
        "colab_type": "code",
        "outputId": "28ccd35f-e465-4ee1-ab71-b7752eae53bf",
        "colab": {
          "base_uri": "https://localhost:8080/",
          "height": 34
        }
      },
      "source": [
        "np.unique(y_pred)"
      ],
      "execution_count": 109,
      "outputs": [
        {
          "output_type": "execute_result",
          "data": {
            "text/plain": [
              "array([0])"
            ]
          },
          "metadata": {
            "tags": []
          },
          "execution_count": 109
        }
      ]
    },
    {
      "cell_type": "code",
      "metadata": {
        "id": "LJObVqHbvcut",
        "colab_type": "code",
        "outputId": "eae42f5e-00d7-4913-fa8e-45afc39e918d",
        "colab": {
          "base_uri": "https://localhost:8080/",
          "height": 34
        }
      },
      "source": [
        "np.unique(le_false.inverse_transform(y_pred))"
      ],
      "execution_count": 110,
      "outputs": [
        {
          "output_type": "execute_result",
          "data": {
            "text/plain": [
              "array(['FALSE'], dtype=object)"
            ]
          },
          "metadata": {
            "tags": []
          },
          "execution_count": 110
        }
      ]
    },
    {
      "cell_type": "code",
      "metadata": {
        "id": "uvszawkMvfVo",
        "colab_type": "code",
        "colab": {}
      },
      "source": [
        "df1_fake['textlabel'] = le_false.inverse_transform(y_pred)"
      ],
      "execution_count": 0,
      "outputs": []
    },
    {
      "cell_type": "code",
      "metadata": {
        "id": "q7CzqFO81o3Y",
        "colab_type": "code",
        "outputId": "78695699-f794-43e5-938a-1faaff1bd5e3",
        "colab": {
          "base_uri": "https://localhost:8080/",
          "height": 51
        }
      },
      "source": [
        "df1_fake['textlabel'].value_counts()"
      ],
      "execution_count": 112,
      "outputs": [
        {
          "output_type": "execute_result",
          "data": {
            "text/plain": [
              "FALSE    5993\n",
              "Name: textlabel, dtype: int64"
            ]
          },
          "metadata": {
            "tags": []
          },
          "execution_count": 112
        }
      ]
    },
    {
      "cell_type": "code",
      "metadata": {
        "id": "rvtAvEvi4trg",
        "colab_type": "code",
        "outputId": "d9ec2d4f-1349-476e-9398-4880c2e92150",
        "colab": {
          "base_uri": "https://localhost:8080/",
          "height": 295
        }
      },
      "source": [
        "df1_fake.head(3)"
      ],
      "execution_count": 113,
      "outputs": [
        {
          "output_type": "execute_result",
          "data": {
            "text/html": [
              "<div>\n",
              "<style scoped>\n",
              "    .dataframe tbody tr th:only-of-type {\n",
              "        vertical-align: middle;\n",
              "    }\n",
              "\n",
              "    .dataframe tbody tr th {\n",
              "        vertical-align: top;\n",
              "    }\n",
              "\n",
              "    .dataframe thead th {\n",
              "        text-align: right;\n",
              "    }\n",
              "</style>\n",
              "<table border=\"1\" class=\"dataframe\">\n",
              "  <thead>\n",
              "    <tr style=\"text-align: right;\">\n",
              "      <th></th>\n",
              "      <th>author</th>\n",
              "      <th>title</th>\n",
              "      <th>text</th>\n",
              "      <th>site_url</th>\n",
              "      <th>domain_rank</th>\n",
              "      <th>clean_title</th>\n",
              "      <th>textlabel</th>\n",
              "    </tr>\n",
              "  </thead>\n",
              "  <tbody>\n",
              "    <tr>\n",
              "      <th>0</th>\n",
              "      <td>Barracuda Brigade</td>\n",
              "      <td>Muslims BUSTED: They Stole Millions In Gov’t B...</td>\n",
              "      <td>Print They should pay all the back all the mon...</td>\n",
              "      <td>100percentfedup.com</td>\n",
              "      <td>25689.0</td>\n",
              "      <td>muslims busted stole millions govt benefits</td>\n",
              "      <td>FALSE</td>\n",
              "    </tr>\n",
              "    <tr>\n",
              "      <th>1</th>\n",
              "      <td>reasoning with facts</td>\n",
              "      <td>Re: Why Did Attorney General Loretta Lynch Ple...</td>\n",
              "      <td>Why Did Attorney General Loretta Lynch Plead T...</td>\n",
              "      <td>100percentfedup.com</td>\n",
              "      <td>25689.0</td>\n",
              "      <td>attorney general loretta lynch plead fifth</td>\n",
              "      <td>FALSE</td>\n",
              "    </tr>\n",
              "    <tr>\n",
              "      <th>2</th>\n",
              "      <td>Barracuda Brigade</td>\n",
              "      <td>BREAKING: Weiner Cooperating With FBI On Hilla...</td>\n",
              "      <td>Red State : \\nFox News Sunday reported this mo...</td>\n",
              "      <td>100percentfedup.com</td>\n",
              "      <td>25689.0</td>\n",
              "      <td>breaking weiner cooperating fbi hillary email ...</td>\n",
              "      <td>FALSE</td>\n",
              "    </tr>\n",
              "  </tbody>\n",
              "</table>\n",
              "</div>"
            ],
            "text/plain": [
              "                 author  ... textlabel\n",
              "0     Barracuda Brigade  ...     FALSE\n",
              "1  reasoning with facts  ...     FALSE\n",
              "2     Barracuda Brigade  ...     FALSE\n",
              "\n",
              "[3 rows x 7 columns]"
            ]
          },
          "metadata": {
            "tags": []
          },
          "execution_count": 113
        }
      ]
    },
    {
      "cell_type": "code",
      "metadata": {
        "id": "YNq9Elos3WeF",
        "colab_type": "code",
        "colab": {}
      },
      "source": [
        "df2_fake = df1_fake[['text', 'author', 'clean_title', 'textlabel']]"
      ],
      "execution_count": 0,
      "outputs": []
    },
    {
      "cell_type": "code",
      "metadata": {
        "id": "7uMVCu2p103d",
        "colab_type": "code",
        "outputId": "45d0a316-1f6b-4f2f-eae4-48509a4b7aec",
        "colab": {
          "base_uri": "https://localhost:8080/",
          "height": 411
        }
      },
      "source": [
        "df1_fake.head(4)"
      ],
      "execution_count": 115,
      "outputs": [
        {
          "output_type": "execute_result",
          "data": {
            "text/html": [
              "<div>\n",
              "<style scoped>\n",
              "    .dataframe tbody tr th:only-of-type {\n",
              "        vertical-align: middle;\n",
              "    }\n",
              "\n",
              "    .dataframe tbody tr th {\n",
              "        vertical-align: top;\n",
              "    }\n",
              "\n",
              "    .dataframe thead th {\n",
              "        text-align: right;\n",
              "    }\n",
              "</style>\n",
              "<table border=\"1\" class=\"dataframe\">\n",
              "  <thead>\n",
              "    <tr style=\"text-align: right;\">\n",
              "      <th></th>\n",
              "      <th>author</th>\n",
              "      <th>title</th>\n",
              "      <th>text</th>\n",
              "      <th>site_url</th>\n",
              "      <th>domain_rank</th>\n",
              "      <th>clean_title</th>\n",
              "      <th>textlabel</th>\n",
              "    </tr>\n",
              "  </thead>\n",
              "  <tbody>\n",
              "    <tr>\n",
              "      <th>0</th>\n",
              "      <td>Barracuda Brigade</td>\n",
              "      <td>Muslims BUSTED: They Stole Millions In Gov’t B...</td>\n",
              "      <td>Print They should pay all the back all the mon...</td>\n",
              "      <td>100percentfedup.com</td>\n",
              "      <td>25689.0</td>\n",
              "      <td>muslims busted stole millions govt benefits</td>\n",
              "      <td>FALSE</td>\n",
              "    </tr>\n",
              "    <tr>\n",
              "      <th>1</th>\n",
              "      <td>reasoning with facts</td>\n",
              "      <td>Re: Why Did Attorney General Loretta Lynch Ple...</td>\n",
              "      <td>Why Did Attorney General Loretta Lynch Plead T...</td>\n",
              "      <td>100percentfedup.com</td>\n",
              "      <td>25689.0</td>\n",
              "      <td>attorney general loretta lynch plead fifth</td>\n",
              "      <td>FALSE</td>\n",
              "    </tr>\n",
              "    <tr>\n",
              "      <th>2</th>\n",
              "      <td>Barracuda Brigade</td>\n",
              "      <td>BREAKING: Weiner Cooperating With FBI On Hilla...</td>\n",
              "      <td>Red State : \\nFox News Sunday reported this mo...</td>\n",
              "      <td>100percentfedup.com</td>\n",
              "      <td>25689.0</td>\n",
              "      <td>breaking weiner cooperating fbi hillary email ...</td>\n",
              "      <td>FALSE</td>\n",
              "    </tr>\n",
              "    <tr>\n",
              "      <th>3</th>\n",
              "      <td>Fed Up</td>\n",
              "      <td>PIN DROP SPEECH BY FATHER OF DAUGHTER Kidnappe...</td>\n",
              "      <td>Email Kayla Mueller was a prisoner and torture...</td>\n",
              "      <td>100percentfedup.com</td>\n",
              "      <td>25689.0</td>\n",
              "      <td>pin drop speech father daughter kidnapped kill...</td>\n",
              "      <td>FALSE</td>\n",
              "    </tr>\n",
              "  </tbody>\n",
              "</table>\n",
              "</div>"
            ],
            "text/plain": [
              "                 author  ... textlabel\n",
              "0     Barracuda Brigade  ...     FALSE\n",
              "1  reasoning with facts  ...     FALSE\n",
              "2     Barracuda Brigade  ...     FALSE\n",
              "3                Fed Up  ...     FALSE\n",
              "\n",
              "[4 rows x 7 columns]"
            ]
          },
          "metadata": {
            "tags": []
          },
          "execution_count": 115
        }
      ]
    },
    {
      "cell_type": "code",
      "metadata": {
        "id": "X28gE0bO5nir",
        "colab_type": "code",
        "outputId": "2898a381-6fac-4dcf-bc68-d75608e5be90",
        "colab": {
          "base_uri": "https://localhost:8080/",
          "height": 417
        }
      },
      "source": [
        "df_newscat.head(3)"
      ],
      "execution_count": 116,
      "outputs": [
        {
          "output_type": "execute_result",
          "data": {
            "text/html": [
              "<div>\n",
              "<style scoped>\n",
              "    .dataframe tbody tr th:only-of-type {\n",
              "        vertical-align: middle;\n",
              "    }\n",
              "\n",
              "    .dataframe tbody tr th {\n",
              "        vertical-align: top;\n",
              "    }\n",
              "\n",
              "    .dataframe thead th {\n",
              "        text-align: right;\n",
              "    }\n",
              "</style>\n",
              "<table border=\"1\" class=\"dataframe\">\n",
              "  <thead>\n",
              "    <tr style=\"text-align: right;\">\n",
              "      <th></th>\n",
              "      <th>category</th>\n",
              "      <th>headline</th>\n",
              "      <th>authors</th>\n",
              "      <th>link</th>\n",
              "      <th>short_description</th>\n",
              "      <th>date</th>\n",
              "      <th>clean_text</th>\n",
              "      <th>textlabel</th>\n",
              "    </tr>\n",
              "  </thead>\n",
              "  <tbody>\n",
              "    <tr>\n",
              "      <th>13</th>\n",
              "      <td>POLITICS</td>\n",
              "      <td>Trump's Crackdown On Immigrant Parents Puts Mo...</td>\n",
              "      <td>Elise Foley and Roque Planas</td>\n",
              "      <td>https://www.huffingtonpost.com/entry/immigrant...</td>\n",
              "      <td>Last month a Health and Human Services officia...</td>\n",
              "      <td>5/26/18</td>\n",
              "      <td>month health human services official revealed ...</td>\n",
              "      <td>half-true</td>\n",
              "    </tr>\n",
              "    <tr>\n",
              "      <th>14</th>\n",
              "      <td>POLITICS</td>\n",
              "      <td>'Trump's Son Should Be Concerned': FBI Obtaine...</td>\n",
              "      <td>Michael Isikoff, Yahoo News</td>\n",
              "      <td>https://www.huffingtonpost.com/entry/fbi-wiret...</td>\n",
              "      <td>The wiretaps feature conversations between Ale...</td>\n",
              "      <td>5/26/18</td>\n",
              "      <td>wiretaps feature conversations alexander torsh...</td>\n",
              "      <td>half-true</td>\n",
              "    </tr>\n",
              "    <tr>\n",
              "      <th>15</th>\n",
              "      <td>POLITICS</td>\n",
              "      <td>Edward Snowden: There's No One Trump Loves Mor...</td>\n",
              "      <td>Mary Papenfuss</td>\n",
              "      <td>https://www.huffingtonpost.com/entry/edward-sn...</td>\n",
              "      <td>But don't count on Robert Mueller to nail him,...</td>\n",
              "      <td>5/26/18</td>\n",
              "      <td>dont count robert mueller nail nsa whistleblow...</td>\n",
              "      <td>half-true</td>\n",
              "    </tr>\n",
              "  </tbody>\n",
              "</table>\n",
              "</div>"
            ],
            "text/plain": [
              "    category  ...  textlabel\n",
              "13  POLITICS  ...  half-true\n",
              "14  POLITICS  ...  half-true\n",
              "15  POLITICS  ...  half-true\n",
              "\n",
              "[3 rows x 8 columns]"
            ]
          },
          "metadata": {
            "tags": []
          },
          "execution_count": 116
        }
      ]
    },
    {
      "cell_type": "code",
      "metadata": {
        "id": "CHdZp4gC3I-m",
        "colab_type": "code",
        "colab": {}
      },
      "source": [
        "df2_newscat = df_newscat[['clean_text', 'authors', 'headline', 'textlabel']]"
      ],
      "execution_count": 0,
      "outputs": []
    },
    {
      "cell_type": "code",
      "metadata": {
        "id": "ovMW9-1S2gDj",
        "colab_type": "code",
        "outputId": "bfab044b-cbb2-4b70-f157-2a8f3de5af52",
        "colab": {
          "base_uri": "https://localhost:8080/",
          "height": 465
        }
      },
      "source": [
        "df_newscat.head(4)"
      ],
      "execution_count": 118,
      "outputs": [
        {
          "output_type": "execute_result",
          "data": {
            "text/html": [
              "<div>\n",
              "<style scoped>\n",
              "    .dataframe tbody tr th:only-of-type {\n",
              "        vertical-align: middle;\n",
              "    }\n",
              "\n",
              "    .dataframe tbody tr th {\n",
              "        vertical-align: top;\n",
              "    }\n",
              "\n",
              "    .dataframe thead th {\n",
              "        text-align: right;\n",
              "    }\n",
              "</style>\n",
              "<table border=\"1\" class=\"dataframe\">\n",
              "  <thead>\n",
              "    <tr style=\"text-align: right;\">\n",
              "      <th></th>\n",
              "      <th>category</th>\n",
              "      <th>headline</th>\n",
              "      <th>authors</th>\n",
              "      <th>link</th>\n",
              "      <th>short_description</th>\n",
              "      <th>date</th>\n",
              "      <th>clean_text</th>\n",
              "      <th>textlabel</th>\n",
              "    </tr>\n",
              "  </thead>\n",
              "  <tbody>\n",
              "    <tr>\n",
              "      <th>13</th>\n",
              "      <td>POLITICS</td>\n",
              "      <td>Trump's Crackdown On Immigrant Parents Puts Mo...</td>\n",
              "      <td>Elise Foley and Roque Planas</td>\n",
              "      <td>https://www.huffingtonpost.com/entry/immigrant...</td>\n",
              "      <td>Last month a Health and Human Services officia...</td>\n",
              "      <td>5/26/18</td>\n",
              "      <td>month health human services official revealed ...</td>\n",
              "      <td>half-true</td>\n",
              "    </tr>\n",
              "    <tr>\n",
              "      <th>14</th>\n",
              "      <td>POLITICS</td>\n",
              "      <td>'Trump's Son Should Be Concerned': FBI Obtaine...</td>\n",
              "      <td>Michael Isikoff, Yahoo News</td>\n",
              "      <td>https://www.huffingtonpost.com/entry/fbi-wiret...</td>\n",
              "      <td>The wiretaps feature conversations between Ale...</td>\n",
              "      <td>5/26/18</td>\n",
              "      <td>wiretaps feature conversations alexander torsh...</td>\n",
              "      <td>half-true</td>\n",
              "    </tr>\n",
              "    <tr>\n",
              "      <th>15</th>\n",
              "      <td>POLITICS</td>\n",
              "      <td>Edward Snowden: There's No One Trump Loves Mor...</td>\n",
              "      <td>Mary Papenfuss</td>\n",
              "      <td>https://www.huffingtonpost.com/entry/edward-sn...</td>\n",
              "      <td>But don't count on Robert Mueller to nail him,...</td>\n",
              "      <td>5/26/18</td>\n",
              "      <td>dont count robert mueller nail nsa whistleblow...</td>\n",
              "      <td>half-true</td>\n",
              "    </tr>\n",
              "    <tr>\n",
              "      <th>16</th>\n",
              "      <td>POLITICS</td>\n",
              "      <td>Booyah: Obama Photographer Hilariously Trolls ...</td>\n",
              "      <td>Mary Papenfuss</td>\n",
              "      <td>https://www.huffingtonpost.com/entry/obama-pho...</td>\n",
              "      <td>Just a peeping minute.</td>\n",
              "      <td>5/26/18</td>\n",
              "      <td>peeping minute</td>\n",
              "      <td>half-true</td>\n",
              "    </tr>\n",
              "  </tbody>\n",
              "</table>\n",
              "</div>"
            ],
            "text/plain": [
              "    category  ...  textlabel\n",
              "13  POLITICS  ...  half-true\n",
              "14  POLITICS  ...  half-true\n",
              "15  POLITICS  ...  half-true\n",
              "16  POLITICS  ...  half-true\n",
              "\n",
              "[4 rows x 8 columns]"
            ]
          },
          "metadata": {
            "tags": []
          },
          "execution_count": 118
        }
      ]
    },
    {
      "cell_type": "code",
      "metadata": {
        "id": "3zffrTh45r1b",
        "colab_type": "code",
        "outputId": "8e085c24-0e4d-4897-b1ca-bfe99ee10e82",
        "colab": {
          "base_uri": "https://localhost:8080/",
          "height": 349
        }
      },
      "source": [
        "df.head(3)"
      ],
      "execution_count": 119,
      "outputs": [
        {
          "output_type": "execute_result",
          "data": {
            "text/html": [
              "<div>\n",
              "<style scoped>\n",
              "    .dataframe tbody tr th:only-of-type {\n",
              "        vertical-align: middle;\n",
              "    }\n",
              "\n",
              "    .dataframe tbody tr th {\n",
              "        vertical-align: top;\n",
              "    }\n",
              "\n",
              "    .dataframe thead th {\n",
              "        text-align: right;\n",
              "    }\n",
              "</style>\n",
              "<table border=\"1\" class=\"dataframe\">\n",
              "  <thead>\n",
              "    <tr style=\"text-align: right;\">\n",
              "      <th></th>\n",
              "      <th>class</th>\n",
              "      <th>statement</th>\n",
              "      <th>subject</th>\n",
              "      <th>speaker</th>\n",
              "      <th>speaker_job_title</th>\n",
              "      <th>state_info</th>\n",
              "      <th>party_affiliation</th>\n",
              "      <th>barely_true_counts</th>\n",
              "      <th>false_counts</th>\n",
              "      <th>half_true_counts</th>\n",
              "      <th>mostly_true_counts</th>\n",
              "      <th>pants_on_fire_counts</th>\n",
              "      <th>context</th>\n",
              "      <th>clean_statement</th>\n",
              "    </tr>\n",
              "  </thead>\n",
              "  <tbody>\n",
              "    <tr>\n",
              "      <th>754</th>\n",
              "      <td>pants-fire</td>\n",
              "      <td>Christian Pastor in Vermont Sentenced to One Y...</td>\n",
              "      <td>diversity,legal-issues,marriage</td>\n",
              "      <td>blog-posting</td>\n",
              "      <td>NaN</td>\n",
              "      <td>NaN</td>\n",
              "      <td>none</td>\n",
              "      <td>7.0</td>\n",
              "      <td>19.0</td>\n",
              "      <td>3.0</td>\n",
              "      <td>5.0</td>\n",
              "      <td>44.0</td>\n",
              "      <td>a headline on the website NewsExaminer</td>\n",
              "      <td>christian pastor vermont sentenced year prison...</td>\n",
              "    </tr>\n",
              "    <tr>\n",
              "      <th>5130</th>\n",
              "      <td>barely-true</td>\n",
              "      <td>Says Obama puts 15 unelected, unaccountable bu...</td>\n",
              "      <td>medicare</td>\n",
              "      <td>paul-ryan</td>\n",
              "      <td>U.S. Representative</td>\n",
              "      <td>Wisconsin</td>\n",
              "      <td>republican</td>\n",
              "      <td>19.0</td>\n",
              "      <td>6.0</td>\n",
              "      <td>16.0</td>\n",
              "      <td>14.0</td>\n",
              "      <td>2.0</td>\n",
              "      <td>a speech in The Villages, Fla.</td>\n",
              "      <td>says obama puts unelected unaccountable bureau...</td>\n",
              "    </tr>\n",
              "    <tr>\n",
              "      <th>2483</th>\n",
              "      <td>TRUE</td>\n",
              "      <td>The cost to implement Florida's class size ame...</td>\n",
              "      <td>education</td>\n",
              "      <td>don-gaetz</td>\n",
              "      <td>State Senator</td>\n",
              "      <td>Florida</td>\n",
              "      <td>republican</td>\n",
              "      <td>1.0</td>\n",
              "      <td>0.0</td>\n",
              "      <td>3.0</td>\n",
              "      <td>1.0</td>\n",
              "      <td>0.0</td>\n",
              "      <td>debate on the Senate floor.</td>\n",
              "      <td>cost implement floridas class size amendment f...</td>\n",
              "    </tr>\n",
              "  </tbody>\n",
              "</table>\n",
              "</div>"
            ],
            "text/plain": [
              "            class  ...                                    clean_statement\n",
              "754    pants-fire  ...  christian pastor vermont sentenced year prison...\n",
              "5130  barely-true  ...  says obama puts unelected unaccountable bureau...\n",
              "2483         TRUE  ...  cost implement floridas class size amendment f...\n",
              "\n",
              "[3 rows x 14 columns]"
            ]
          },
          "metadata": {
            "tags": []
          },
          "execution_count": 119
        }
      ]
    },
    {
      "cell_type": "code",
      "metadata": {
        "id": "34mUyrMJ2sSV",
        "colab_type": "code",
        "colab": {}
      },
      "source": [
        "df_liar = df[['clean_statement', 'speaker', 'subject', 'class']]"
      ],
      "execution_count": 0,
      "outputs": []
    },
    {
      "cell_type": "code",
      "metadata": {
        "id": "r-D8PQ2-2jB1",
        "colab_type": "code",
        "outputId": "427e209c-b6e5-48d1-9cb2-762509580e61",
        "colab": {
          "base_uri": "https://localhost:8080/",
          "height": 448
        }
      },
      "source": [
        "df.head(4)"
      ],
      "execution_count": 121,
      "outputs": [
        {
          "output_type": "execute_result",
          "data": {
            "text/html": [
              "<div>\n",
              "<style scoped>\n",
              "    .dataframe tbody tr th:only-of-type {\n",
              "        vertical-align: middle;\n",
              "    }\n",
              "\n",
              "    .dataframe tbody tr th {\n",
              "        vertical-align: top;\n",
              "    }\n",
              "\n",
              "    .dataframe thead th {\n",
              "        text-align: right;\n",
              "    }\n",
              "</style>\n",
              "<table border=\"1\" class=\"dataframe\">\n",
              "  <thead>\n",
              "    <tr style=\"text-align: right;\">\n",
              "      <th></th>\n",
              "      <th>class</th>\n",
              "      <th>statement</th>\n",
              "      <th>subject</th>\n",
              "      <th>speaker</th>\n",
              "      <th>speaker_job_title</th>\n",
              "      <th>state_info</th>\n",
              "      <th>party_affiliation</th>\n",
              "      <th>barely_true_counts</th>\n",
              "      <th>false_counts</th>\n",
              "      <th>half_true_counts</th>\n",
              "      <th>mostly_true_counts</th>\n",
              "      <th>pants_on_fire_counts</th>\n",
              "      <th>context</th>\n",
              "      <th>clean_statement</th>\n",
              "    </tr>\n",
              "  </thead>\n",
              "  <tbody>\n",
              "    <tr>\n",
              "      <th>754</th>\n",
              "      <td>pants-fire</td>\n",
              "      <td>Christian Pastor in Vermont Sentenced to One Y...</td>\n",
              "      <td>diversity,legal-issues,marriage</td>\n",
              "      <td>blog-posting</td>\n",
              "      <td>NaN</td>\n",
              "      <td>NaN</td>\n",
              "      <td>none</td>\n",
              "      <td>7.0</td>\n",
              "      <td>19.0</td>\n",
              "      <td>3.0</td>\n",
              "      <td>5.0</td>\n",
              "      <td>44.0</td>\n",
              "      <td>a headline on the website NewsExaminer</td>\n",
              "      <td>christian pastor vermont sentenced year prison...</td>\n",
              "    </tr>\n",
              "    <tr>\n",
              "      <th>5130</th>\n",
              "      <td>barely-true</td>\n",
              "      <td>Says Obama puts 15 unelected, unaccountable bu...</td>\n",
              "      <td>medicare</td>\n",
              "      <td>paul-ryan</td>\n",
              "      <td>U.S. Representative</td>\n",
              "      <td>Wisconsin</td>\n",
              "      <td>republican</td>\n",
              "      <td>19.0</td>\n",
              "      <td>6.0</td>\n",
              "      <td>16.0</td>\n",
              "      <td>14.0</td>\n",
              "      <td>2.0</td>\n",
              "      <td>a speech in The Villages, Fla.</td>\n",
              "      <td>says obama puts unelected unaccountable bureau...</td>\n",
              "    </tr>\n",
              "    <tr>\n",
              "      <th>2483</th>\n",
              "      <td>TRUE</td>\n",
              "      <td>The cost to implement Florida's class size ame...</td>\n",
              "      <td>education</td>\n",
              "      <td>don-gaetz</td>\n",
              "      <td>State Senator</td>\n",
              "      <td>Florida</td>\n",
              "      <td>republican</td>\n",
              "      <td>1.0</td>\n",
              "      <td>0.0</td>\n",
              "      <td>3.0</td>\n",
              "      <td>1.0</td>\n",
              "      <td>0.0</td>\n",
              "      <td>debate on the Senate floor.</td>\n",
              "      <td>cost implement floridas class size amendment f...</td>\n",
              "    </tr>\n",
              "    <tr>\n",
              "      <th>2307</th>\n",
              "      <td>half-true</td>\n",
              "      <td>Obama \"changed the rules in Washington. Gone a...</td>\n",
              "      <td>ethics</td>\n",
              "      <td>barack-obama</td>\n",
              "      <td>President</td>\n",
              "      <td>Illinois</td>\n",
              "      <td>democrat</td>\n",
              "      <td>70.0</td>\n",
              "      <td>71.0</td>\n",
              "      <td>160.0</td>\n",
              "      <td>163.0</td>\n",
              "      <td>9.0</td>\n",
              "      <td>a statement by Sen. Claire McCaskill in a TV ad.</td>\n",
              "      <td>obama changed rules washington gone free gifts...</td>\n",
              "    </tr>\n",
              "  </tbody>\n",
              "</table>\n",
              "</div>"
            ],
            "text/plain": [
              "            class  ...                                    clean_statement\n",
              "754    pants-fire  ...  christian pastor vermont sentenced year prison...\n",
              "5130  barely-true  ...  says obama puts unelected unaccountable bureau...\n",
              "2483         TRUE  ...  cost implement floridas class size amendment f...\n",
              "2307    half-true  ...  obama changed rules washington gone free gifts...\n",
              "\n",
              "[4 rows x 14 columns]"
            ]
          },
          "metadata": {
            "tags": []
          },
          "execution_count": 121
        }
      ]
    },
    {
      "cell_type": "markdown",
      "metadata": {
        "id": "DS8J9m0a3fw8",
        "colab_type": "text"
      },
      "source": [
        "## Computing Political bias feature using Party Affiliation"
      ]
    },
    {
      "cell_type": "code",
      "metadata": {
        "id": "g7KL-3XU3sst",
        "colab_type": "code",
        "outputId": "e589d749-15b5-49c7-cd6e-fce5b178a013",
        "colab": {
          "base_uri": "https://localhost:8080/",
          "height": 136
        }
      },
      "source": [
        "df.party_affiliation.unique()"
      ],
      "execution_count": 122,
      "outputs": [
        {
          "output_type": "execute_result",
          "data": {
            "text/plain": [
              "array(['none', 'republican', 'democrat', 'organization', 'independent',\n",
              "       'constitution-party', 'libertarian', 'columnist', 'activist',\n",
              "       'newsmaker', 'journalist', 'labor-leader', nan, 'talk-show-host',\n",
              "       'business-leader', 'county-commissioner', 'education-official',\n",
              "       'state-official', 'tea-party-member', 'government-body',\n",
              "       'liberal-party-canada', 'ocean-state-tea-party-action',\n",
              "       'democratic-farmer-labor', 'green', 'Moderate'], dtype=object)"
            ]
          },
          "metadata": {
            "tags": []
          },
          "execution_count": 122
        }
      ]
    },
    {
      "cell_type": "code",
      "metadata": {
        "id": "0MIs6viEB3Kt",
        "colab_type": "code",
        "colab": {}
      },
      "source": [
        "trainpb = df[['statement', 'party_affiliation']]"
      ],
      "execution_count": 0,
      "outputs": []
    },
    {
      "cell_type": "markdown",
      "metadata": {
        "id": "gywQ5Oka3mH1",
        "colab_type": "text"
      },
      "source": [
        "## All 24 classes in party affiliation"
      ]
    },
    {
      "cell_type": "code",
      "metadata": {
        "id": "p01rqH20CZXz",
        "colab_type": "code",
        "outputId": "b76ea1c8-cf97-436d-8f5a-b99b678e26a6",
        "colab": {
          "base_uri": "https://localhost:8080/",
          "height": 442
        }
      },
      "source": [
        "df.party_affiliation.value_counts()"
      ],
      "execution_count": 124,
      "outputs": [
        {
          "output_type": "execute_result",
          "data": {
            "text/plain": [
              "republican                      5665\n",
              "democrat                        4137\n",
              "none                            2181\n",
              "organization                     264\n",
              "independent                      180\n",
              "newsmaker                         64\n",
              "libertarian                       51\n",
              "journalist                        49\n",
              "activist                          45\n",
              "columnist                         44\n",
              "talk-show-host                    32\n",
              "state-official                    24\n",
              "labor-leader                      15\n",
              "business-leader                   11\n",
              "tea-party-member                  10\n",
              "green                              3\n",
              "constitution-party                 3\n",
              "education-official                 3\n",
              "county-commissioner                2\n",
              "government-body                    2\n",
              "Moderate                           1\n",
              "liberal-party-canada               1\n",
              "ocean-state-tea-party-action       1\n",
              "democratic-farmer-labor            1\n",
              "Name: party_affiliation, dtype: int64"
            ]
          },
          "metadata": {
            "tags": []
          },
          "execution_count": 124
        }
      ]
    },
    {
      "cell_type": "code",
      "metadata": {
        "id": "wwL46BIpCpkj",
        "colab_type": "code",
        "colab": {}
      },
      "source": [
        "bias_df = df[(df['party_affiliation'] == 'republican') | (df['party_affiliation'] == 'democrat') | (df['party_affiliation'] == 'libertarian') | (df['party_affiliation'] == 'tea-party-member')]\n",
        "unbias_df = df[(df['party_affiliation'] == 'none') | (df['party_affiliation'] == 'organization') | (df['party_affiliation'] == 'independent') | (df['party_affiliation'] == 'newsmaker') | (df['party_affiliation'] == 'journalist') | (df['party_affiliation'] == 'columnist') | (df['party_affiliation'] == 'activist') | (df['party_affiliation'] == 'state-official')]"
      ],
      "execution_count": 0,
      "outputs": []
    },
    {
      "cell_type": "code",
      "metadata": {
        "id": "L8ljCTFyEMFb",
        "colab_type": "code",
        "outputId": "8e572344-9ec5-4610-d30a-e0068a00911b",
        "colab": {
          "base_uri": "https://localhost:8080/",
          "height": 102
        }
      },
      "source": [
        "bias_df.party_affiliation.value_counts()"
      ],
      "execution_count": 126,
      "outputs": [
        {
          "output_type": "execute_result",
          "data": {
            "text/plain": [
              "republican          5665\n",
              "democrat            4137\n",
              "libertarian           51\n",
              "tea-party-member      10\n",
              "Name: party_affiliation, dtype: int64"
            ]
          },
          "metadata": {
            "tags": []
          },
          "execution_count": 126
        }
      ]
    },
    {
      "cell_type": "code",
      "metadata": {
        "id": "fnVMF6MuG09W",
        "colab_type": "code",
        "outputId": "53db2fdb-c3fd-463e-d010-f8c97dd8eadc",
        "colab": {
          "base_uri": "https://localhost:8080/",
          "height": 170
        }
      },
      "source": [
        "unbias_df.party_affiliation.value_counts()"
      ],
      "execution_count": 127,
      "outputs": [
        {
          "output_type": "execute_result",
          "data": {
            "text/plain": [
              "none              2181\n",
              "organization       264\n",
              "independent        180\n",
              "newsmaker           64\n",
              "journalist          49\n",
              "activist            45\n",
              "columnist           44\n",
              "state-official      24\n",
              "Name: party_affiliation, dtype: int64"
            ]
          },
          "metadata": {
            "tags": []
          },
          "execution_count": 127
        }
      ]
    },
    {
      "cell_type": "markdown",
      "metadata": {
        "id": "iw8KAA2b3vIj",
        "colab_type": "text"
      },
      "source": [
        "## Encoding party affiliation labels to discrete values based on domain understanding\n",
        "\n",
        "\n",
        "1.   Assumption of Biased news are assigned higher values\n",
        "2.   Assumption of unbiased news are assigned lower values\n",
        "\n"
      ]
    },
    {
      "cell_type": "code",
      "metadata": {
        "id": "pIZzp9l3OY_i",
        "colab_type": "code",
        "colab": {}
      },
      "source": [
        "def biasLabel(x):\n",
        "  if (x == 'republican'):\n",
        "    return 0.9\n",
        "  elif (x == 'democrat'):\n",
        "    return 0.7\n",
        "  elif (x == 'libertarian'):\n",
        "    return 0.5\n",
        "  else:\n",
        "    return 0.5"
      ],
      "execution_count": 0,
      "outputs": []
    },
    {
      "cell_type": "code",
      "metadata": {
        "id": "76HGdX8tOsCz",
        "colab_type": "code",
        "colab": {}
      },
      "source": [
        "def unbiasLabel(x):\n",
        "  if (x == 'organization'):\n",
        "    return 0.2\n",
        "  elif (x == 'independent'):\n",
        "    return 0.4\n",
        "  elif (x == 'state-official'):\n",
        "    return 0.35\n",
        "  else:\n",
        "    return 0.1"
      ],
      "execution_count": 0,
      "outputs": []
    },
    {
      "cell_type": "code",
      "metadata": {
        "id": "ZItBCC3GwxCn",
        "colab_type": "code",
        "outputId": "4e7904f6-c0c6-45d3-b073-d16e8b3603cf",
        "colab": {
          "base_uri": "https://localhost:8080/",
          "height": 34
        }
      },
      "source": [
        "bias_df.shape"
      ],
      "execution_count": 130,
      "outputs": [
        {
          "output_type": "execute_result",
          "data": {
            "text/plain": [
              "(9863, 14)"
            ]
          },
          "metadata": {
            "tags": []
          },
          "execution_count": 130
        }
      ]
    },
    {
      "cell_type": "code",
      "metadata": {
        "id": "fRdl57GfPgTw",
        "colab_type": "code",
        "outputId": "5eb44d6e-7b0f-48c3-8fe4-f9d4a318be27",
        "colab": {
          "base_uri": "https://localhost:8080/",
          "height": 241
        }
      },
      "source": [
        "bias_df['political_bias'] =bias_df['party_affiliation'].apply(biasLabel)\n",
        "unbias_df['political_bias'] = unbias_df['party_affiliation'].apply(unbiasLabel)"
      ],
      "execution_count": 131,
      "outputs": [
        {
          "output_type": "stream",
          "text": [
            "/usr/local/lib/python3.6/dist-packages/ipykernel_launcher.py:1: SettingWithCopyWarning: \n",
            "A value is trying to be set on a copy of a slice from a DataFrame.\n",
            "Try using .loc[row_indexer,col_indexer] = value instead\n",
            "\n",
            "See the caveats in the documentation: https://pandas.pydata.org/pandas-docs/stable/user_guide/indexing.html#returning-a-view-versus-a-copy\n",
            "  \"\"\"Entry point for launching an IPython kernel.\n",
            "/usr/local/lib/python3.6/dist-packages/ipykernel_launcher.py:2: SettingWithCopyWarning: \n",
            "A value is trying to be set on a copy of a slice from a DataFrame.\n",
            "Try using .loc[row_indexer,col_indexer] = value instead\n",
            "\n",
            "See the caveats in the documentation: https://pandas.pydata.org/pandas-docs/stable/user_guide/indexing.html#returning-a-view-versus-a-copy\n",
            "  \n"
          ],
          "name": "stderr"
        }
      ]
    },
    {
      "cell_type": "code",
      "metadata": {
        "id": "78_swkDewuBY",
        "colab_type": "code",
        "outputId": "edab34b9-d557-4a2a-c3d3-75db661b2d57",
        "colab": {
          "base_uri": "https://localhost:8080/",
          "height": 34
        }
      },
      "source": [
        "unbias_df.shape"
      ],
      "execution_count": 132,
      "outputs": [
        {
          "output_type": "execute_result",
          "data": {
            "text/plain": [
              "(2851, 15)"
            ]
          },
          "metadata": {
            "tags": []
          },
          "execution_count": 132
        }
      ]
    },
    {
      "cell_type": "code",
      "metadata": {
        "id": "44OGWM7lLDcp",
        "colab_type": "code",
        "outputId": "56283223-c1bf-4e8a-bf1e-3b211c316feb",
        "colab": {
          "base_uri": "https://localhost:8080/",
          "height": 383
        }
      },
      "source": [
        "unbias_df.head(3)"
      ],
      "execution_count": 133,
      "outputs": [
        {
          "output_type": "execute_result",
          "data": {
            "text/html": [
              "<div>\n",
              "<style scoped>\n",
              "    .dataframe tbody tr th:only-of-type {\n",
              "        vertical-align: middle;\n",
              "    }\n",
              "\n",
              "    .dataframe tbody tr th {\n",
              "        vertical-align: top;\n",
              "    }\n",
              "\n",
              "    .dataframe thead th {\n",
              "        text-align: right;\n",
              "    }\n",
              "</style>\n",
              "<table border=\"1\" class=\"dataframe\">\n",
              "  <thead>\n",
              "    <tr style=\"text-align: right;\">\n",
              "      <th></th>\n",
              "      <th>class</th>\n",
              "      <th>statement</th>\n",
              "      <th>subject</th>\n",
              "      <th>speaker</th>\n",
              "      <th>speaker_job_title</th>\n",
              "      <th>state_info</th>\n",
              "      <th>party_affiliation</th>\n",
              "      <th>barely_true_counts</th>\n",
              "      <th>false_counts</th>\n",
              "      <th>half_true_counts</th>\n",
              "      <th>mostly_true_counts</th>\n",
              "      <th>pants_on_fire_counts</th>\n",
              "      <th>context</th>\n",
              "      <th>clean_statement</th>\n",
              "      <th>political_bias</th>\n",
              "    </tr>\n",
              "  </thead>\n",
              "  <tbody>\n",
              "    <tr>\n",
              "      <th>754</th>\n",
              "      <td>pants-fire</td>\n",
              "      <td>Christian Pastor in Vermont Sentenced to One Y...</td>\n",
              "      <td>diversity,legal-issues,marriage</td>\n",
              "      <td>blog-posting</td>\n",
              "      <td>NaN</td>\n",
              "      <td>NaN</td>\n",
              "      <td>none</td>\n",
              "      <td>7.0</td>\n",
              "      <td>19.0</td>\n",
              "      <td>3.0</td>\n",
              "      <td>5.0</td>\n",
              "      <td>44.0</td>\n",
              "      <td>a headline on the website NewsExaminer</td>\n",
              "      <td>christian pastor vermont sentenced year prison...</td>\n",
              "      <td>0.1</td>\n",
              "    </tr>\n",
              "    <tr>\n",
              "      <th>11878</th>\n",
              "      <td>barely-true</td>\n",
              "      <td>Voted the best specialty plate in America</td>\n",
              "      <td>pop-culture,states,transportation</td>\n",
              "      <td>friends-plum-beach-lighthouse</td>\n",
              "      <td>NaN</td>\n",
              "      <td>Rhode Island</td>\n",
              "      <td>organization</td>\n",
              "      <td>1.0</td>\n",
              "      <td>0.0</td>\n",
              "      <td>0.0</td>\n",
              "      <td>0.0</td>\n",
              "      <td>0.0</td>\n",
              "      <td>A highway billboard</td>\n",
              "      <td>voted best specialty plate america</td>\n",
              "      <td>0.2</td>\n",
              "    </tr>\n",
              "    <tr>\n",
              "      <th>2402</th>\n",
              "      <td>barely-true</td>\n",
              "      <td>All University of Texas student-athletes get a...</td>\n",
              "      <td>education,sports,technology</td>\n",
              "      <td>jody-conradt</td>\n",
              "      <td>Special assistant, University of Texas</td>\n",
              "      <td>Texas</td>\n",
              "      <td>none</td>\n",
              "      <td>1.0</td>\n",
              "      <td>0.0</td>\n",
              "      <td>0.0</td>\n",
              "      <td>0.0</td>\n",
              "      <td>0.0</td>\n",
              "      <td>a Texas Tribune Festival panel</td>\n",
              "      <td>university texas studentathletes ipad</td>\n",
              "      <td>0.1</td>\n",
              "    </tr>\n",
              "  </tbody>\n",
              "</table>\n",
              "</div>"
            ],
            "text/plain": [
              "             class  ... political_bias\n",
              "754     pants-fire  ...            0.1\n",
              "11878  barely-true  ...            0.2\n",
              "2402   barely-true  ...            0.1\n",
              "\n",
              "[3 rows x 15 columns]"
            ]
          },
          "metadata": {
            "tags": []
          },
          "execution_count": 133
        }
      ]
    },
    {
      "cell_type": "code",
      "metadata": {
        "id": "zB8HVEefP31y",
        "colab_type": "code",
        "outputId": "53743011-820a-4063-80ca-6024d3d9bbdc",
        "colab": {
          "base_uri": "https://localhost:8080/",
          "height": 383
        }
      },
      "source": [
        "bias_df.head(3)"
      ],
      "execution_count": 134,
      "outputs": [
        {
          "output_type": "execute_result",
          "data": {
            "text/html": [
              "<div>\n",
              "<style scoped>\n",
              "    .dataframe tbody tr th:only-of-type {\n",
              "        vertical-align: middle;\n",
              "    }\n",
              "\n",
              "    .dataframe tbody tr th {\n",
              "        vertical-align: top;\n",
              "    }\n",
              "\n",
              "    .dataframe thead th {\n",
              "        text-align: right;\n",
              "    }\n",
              "</style>\n",
              "<table border=\"1\" class=\"dataframe\">\n",
              "  <thead>\n",
              "    <tr style=\"text-align: right;\">\n",
              "      <th></th>\n",
              "      <th>class</th>\n",
              "      <th>statement</th>\n",
              "      <th>subject</th>\n",
              "      <th>speaker</th>\n",
              "      <th>speaker_job_title</th>\n",
              "      <th>state_info</th>\n",
              "      <th>party_affiliation</th>\n",
              "      <th>barely_true_counts</th>\n",
              "      <th>false_counts</th>\n",
              "      <th>half_true_counts</th>\n",
              "      <th>mostly_true_counts</th>\n",
              "      <th>pants_on_fire_counts</th>\n",
              "      <th>context</th>\n",
              "      <th>clean_statement</th>\n",
              "      <th>political_bias</th>\n",
              "    </tr>\n",
              "  </thead>\n",
              "  <tbody>\n",
              "    <tr>\n",
              "      <th>5130</th>\n",
              "      <td>barely-true</td>\n",
              "      <td>Says Obama puts 15 unelected, unaccountable bu...</td>\n",
              "      <td>medicare</td>\n",
              "      <td>paul-ryan</td>\n",
              "      <td>U.S. Representative</td>\n",
              "      <td>Wisconsin</td>\n",
              "      <td>republican</td>\n",
              "      <td>19.0</td>\n",
              "      <td>6.0</td>\n",
              "      <td>16.0</td>\n",
              "      <td>14.0</td>\n",
              "      <td>2.0</td>\n",
              "      <td>a speech in The Villages, Fla.</td>\n",
              "      <td>says obama puts unelected unaccountable bureau...</td>\n",
              "      <td>0.9</td>\n",
              "    </tr>\n",
              "    <tr>\n",
              "      <th>2483</th>\n",
              "      <td>TRUE</td>\n",
              "      <td>The cost to implement Florida's class size ame...</td>\n",
              "      <td>education</td>\n",
              "      <td>don-gaetz</td>\n",
              "      <td>State Senator</td>\n",
              "      <td>Florida</td>\n",
              "      <td>republican</td>\n",
              "      <td>1.0</td>\n",
              "      <td>0.0</td>\n",
              "      <td>3.0</td>\n",
              "      <td>1.0</td>\n",
              "      <td>0.0</td>\n",
              "      <td>debate on the Senate floor.</td>\n",
              "      <td>cost implement floridas class size amendment f...</td>\n",
              "      <td>0.9</td>\n",
              "    </tr>\n",
              "    <tr>\n",
              "      <th>2307</th>\n",
              "      <td>half-true</td>\n",
              "      <td>Obama \"changed the rules in Washington. Gone a...</td>\n",
              "      <td>ethics</td>\n",
              "      <td>barack-obama</td>\n",
              "      <td>President</td>\n",
              "      <td>Illinois</td>\n",
              "      <td>democrat</td>\n",
              "      <td>70.0</td>\n",
              "      <td>71.0</td>\n",
              "      <td>160.0</td>\n",
              "      <td>163.0</td>\n",
              "      <td>9.0</td>\n",
              "      <td>a statement by Sen. Claire McCaskill in a TV ad.</td>\n",
              "      <td>obama changed rules washington gone free gifts...</td>\n",
              "      <td>0.7</td>\n",
              "    </tr>\n",
              "  </tbody>\n",
              "</table>\n",
              "</div>"
            ],
            "text/plain": [
              "            class  ... political_bias\n",
              "5130  barely-true  ...            0.9\n",
              "2483         TRUE  ...            0.9\n",
              "2307    half-true  ...            0.7\n",
              "\n",
              "[3 rows x 15 columns]"
            ]
          },
          "metadata": {
            "tags": []
          },
          "execution_count": 134
        }
      ]
    },
    {
      "cell_type": "code",
      "metadata": {
        "id": "KEKQFOiwQNQW",
        "colab_type": "code",
        "colab": {}
      },
      "source": [
        "X_bias_text = bias_df.clean_statement.values\n",
        "y = bias_df['political_bias']\n",
        "X_bias_tfidf = tfidf.fit_transform (X_bias_text)"
      ],
      "execution_count": 0,
      "outputs": []
    },
    {
      "cell_type": "code",
      "metadata": {
        "id": "sl2yK8f_S6bk",
        "colab_type": "code",
        "outputId": "b1fb3718-c424-40b9-af37-42d17f115865",
        "colab": {
          "base_uri": "https://localhost:8080/",
          "height": 34
        }
      },
      "source": [
        "X_bias_tfidf.shape"
      ],
      "execution_count": 136,
      "outputs": [
        {
          "output_type": "execute_result",
          "data": {
            "text/plain": [
              "(9863, 145)"
            ]
          },
          "metadata": {
            "tags": []
          },
          "execution_count": 136
        }
      ]
    },
    {
      "cell_type": "markdown",
      "metadata": {
        "id": "4aLFbMEv_Rnl",
        "colab_type": "text"
      },
      "source": [
        "## Feed Forward Neural Network model"
      ]
    },
    {
      "cell_type": "code",
      "metadata": {
        "id": "KtgLADAzSwUU",
        "colab_type": "code",
        "colab": {
          "base_uri": "https://localhost:8080/",
          "height": 34
        },
        "outputId": "a1a791e7-8015-4fa0-dcb8-d8324733e599"
      },
      "source": [
        "from keras.models import Sequential\n",
        "from keras.layers import Dense\n",
        "from keras.wrappers.scikit_learn import KerasRegressor\n",
        "from sklearn.model_selection import cross_val_score\n",
        "from sklearn.model_selection import KFold"
      ],
      "execution_count": 137,
      "outputs": [
        {
          "output_type": "stream",
          "text": [
            "Using TensorFlow backend.\n"
          ],
          "name": "stderr"
        }
      ]
    },
    {
      "cell_type": "code",
      "metadata": {
        "id": "0s_vl-nES4fH",
        "colab_type": "code",
        "colab": {}
      },
      "source": [
        "def bias_model():\n",
        "\t# create model\n",
        "\tmodel = Sequential()\n",
        "\tmodel.add(Dense(145, input_dim=145, kernel_initializer='normal', activation='relu'))\n",
        "\tmodel.add(Dense(1, kernel_initializer='normal'))\n",
        "\t# Compile model\n",
        "\tmodel.compile(loss='mean_squared_error', optimizer='adam')\n",
        "\treturn model"
      ],
      "execution_count": 0,
      "outputs": []
    },
    {
      "cell_type": "code",
      "metadata": {
        "id": "oxbGxAsqTwal",
        "colab_type": "code",
        "outputId": "b914728c-16b6-4d0f-f03f-884b5c4e72f6",
        "colab": {
          "base_uri": "https://localhost:8080/",
          "height": 748
        }
      },
      "source": [
        "# evaluate model\n",
        "estimator = KerasRegressor(build_fn=bias_model, epochs=10, batch_size=1000, verbose=1)\n",
        "kfold = KFold(n_splits=2)\n",
        "results = cross_val_score(estimator, X_bias_tfidf, y, cv=kfold)\n",
        "print(\"Accuracy: %.2f (%.2f) MSE\" % (results.mean(), results.std()))"
      ],
      "execution_count": 139,
      "outputs": [
        {
          "output_type": "stream",
          "text": [
            "Epoch 1/10\n",
            "4931/4931 [==============================] - 2s 348us/step - loss: 0.6047\n",
            "Epoch 2/10\n",
            "4931/4931 [==============================] - 0s 4us/step - loss: 0.5139\n",
            "Epoch 3/10\n",
            "4931/4931 [==============================] - 0s 4us/step - loss: 0.4203\n",
            "Epoch 4/10\n",
            "4931/4931 [==============================] - 0s 4us/step - loss: 0.3236\n",
            "Epoch 5/10\n",
            "4931/4931 [==============================] - 0s 4us/step - loss: 0.2288\n",
            "Epoch 6/10\n",
            "4931/4931 [==============================] - 0s 5us/step - loss: 0.1452\n",
            "Epoch 7/10\n",
            "4931/4931 [==============================] - 0s 5us/step - loss: 0.0840\n",
            "Epoch 8/10\n",
            "4931/4931 [==============================] - 0s 3us/step - loss: 0.0522\n",
            "Epoch 9/10\n",
            "4931/4931 [==============================] - 0s 4us/step - loss: 0.0460\n",
            "Epoch 10/10\n",
            "4931/4931 [==============================] - 0s 4us/step - loss: 0.0488\n",
            "4932/4932 [==============================] - 0s 6us/step\n",
            "Epoch 1/10\n",
            "4932/4932 [==============================] - 0s 13us/step - loss: 0.6447\n",
            "Epoch 2/10\n",
            "4932/4932 [==============================] - 0s 4us/step - loss: 0.5629\n",
            "Epoch 3/10\n",
            "4932/4932 [==============================] - 0s 4us/step - loss: 0.4750\n",
            "Epoch 4/10\n",
            "4932/4932 [==============================] - 0s 5us/step - loss: 0.3821\n",
            "Epoch 5/10\n",
            "4932/4932 [==============================] - 0s 4us/step - loss: 0.2861\n",
            "Epoch 6/10\n",
            "4932/4932 [==============================] - 0s 4us/step - loss: 0.1948\n",
            "Epoch 7/10\n",
            "4932/4932 [==============================] - 0s 4us/step - loss: 0.1187\n",
            "Epoch 8/10\n",
            "4932/4932 [==============================] - 0s 4us/step - loss: 0.0686\n",
            "Epoch 9/10\n",
            "4932/4932 [==============================] - 0s 5us/step - loss: 0.0482\n",
            "Epoch 10/10\n",
            "4932/4932 [==============================] - 0s 4us/step - loss: 0.0474\n",
            "4931/4931 [==============================] - 0s 4us/step\n",
            "Accuracy: -0.05 (0.00) MSE\n"
          ],
          "name": "stdout"
        }
      ]
    },
    {
      "cell_type": "code",
      "metadata": {
        "id": "mlGrSYAVds7H",
        "colab_type": "code",
        "colab": {}
      },
      "source": [
        "X_fake_text = df1_fake.clean_title.values\n",
        "X_fake_tfidf = tfidf.fit_transform (X_fake_text)"
      ],
      "execution_count": 0,
      "outputs": []
    },
    {
      "cell_type": "code",
      "metadata": {
        "id": "9D2WNPy4mFbE",
        "colab_type": "code",
        "outputId": "c9995d73-52f1-4acb-8078-7e73ef80f04e",
        "colab": {
          "base_uri": "https://localhost:8080/",
          "height": 34
        }
      },
      "source": [
        "X_fake_tfidf.shape"
      ],
      "execution_count": 141,
      "outputs": [
        {
          "output_type": "execute_result",
          "data": {
            "text/plain": [
              "(5993, 45)"
            ]
          },
          "metadata": {
            "tags": []
          },
          "execution_count": 141
        }
      ]
    },
    {
      "cell_type": "code",
      "metadata": {
        "id": "f_soyvbQlqcx",
        "colab_type": "code",
        "colab": {}
      },
      "source": [
        "A = X_fake_tfidf.toarray()\n",
        "X_fake_tfidf = np.pad(A, ((0,0),(0,100)), mode='constant')"
      ],
      "execution_count": 0,
      "outputs": []
    },
    {
      "cell_type": "code",
      "metadata": {
        "id": "6ci5HkzKmbIY",
        "colab_type": "code",
        "outputId": "00201b4a-94c9-437a-fbb0-be75f8b1fd4c",
        "colab": {
          "base_uri": "https://localhost:8080/",
          "height": 374
        }
      },
      "source": [
        "estimator.fit(X_bias_tfidf, y)"
      ],
      "execution_count": 143,
      "outputs": [
        {
          "output_type": "stream",
          "text": [
            "Epoch 1/10\n",
            "9863/9863 [==============================] - 0s 9us/step - loss: 0.6236\n",
            "Epoch 2/10\n",
            "9863/9863 [==============================] - 0s 4us/step - loss: 0.4622\n",
            "Epoch 3/10\n",
            "9863/9863 [==============================] - 0s 3us/step - loss: 0.2855\n",
            "Epoch 4/10\n",
            "9863/9863 [==============================] - 0s 3us/step - loss: 0.1263\n",
            "Epoch 5/10\n",
            "9863/9863 [==============================] - 0s 3us/step - loss: 0.0514\n",
            "Epoch 6/10\n",
            "9863/9863 [==============================] - 0s 3us/step - loss: 0.0482\n",
            "Epoch 7/10\n",
            "9863/9863 [==============================] - 0s 4us/step - loss: 0.0422\n",
            "Epoch 8/10\n",
            "9863/9863 [==============================] - 0s 4us/step - loss: 0.0363\n",
            "Epoch 9/10\n",
            "9863/9863 [==============================] - 0s 4us/step - loss: 0.0341\n",
            "Epoch 10/10\n",
            "9863/9863 [==============================] - 0s 4us/step - loss: 0.0316\n"
          ],
          "name": "stdout"
        },
        {
          "output_type": "execute_result",
          "data": {
            "text/plain": [
              "<keras.callbacks.callbacks.History at 0x7f90bc920da0>"
            ]
          },
          "metadata": {
            "tags": []
          },
          "execution_count": 143
        }
      ]
    },
    {
      "cell_type": "code",
      "metadata": {
        "id": "Oq3u5B55lz-i",
        "colab_type": "code",
        "outputId": "65a3c1d5-2040-4b3b-a5e9-cbb8c2e4d0a6",
        "colab": {
          "base_uri": "https://localhost:8080/",
          "height": 34
        }
      },
      "source": [
        "y_fake_pred = estimator.predict(X_fake_tfidf)"
      ],
      "execution_count": 144,
      "outputs": [
        {
          "output_type": "stream",
          "text": [
            "5993/5993 [==============================] - 0s 3us/step\n"
          ],
          "name": "stdout"
        }
      ]
    },
    {
      "cell_type": "code",
      "metadata": {
        "id": "cKQrKdDRanan",
        "colab_type": "code",
        "colab": {}
      },
      "source": [
        "X_unbias_text = unbias_df.clean_statement.values\n",
        "y_unbias = unbias_df['political_bias']\n",
        "X_unbias_tfidf = tfidf.fit_transform (X_unbias_text)"
      ],
      "execution_count": 0,
      "outputs": []
    },
    {
      "cell_type": "code",
      "metadata": {
        "id": "SxbmnTqxb8xe",
        "colab_type": "code",
        "outputId": "e4d7bcf8-c905-4be2-d255-85e608f76612",
        "colab": {
          "base_uri": "https://localhost:8080/",
          "height": 34
        }
      },
      "source": [
        "X_unbias_tfidf.shape"
      ],
      "execution_count": 146,
      "outputs": [
        {
          "output_type": "execute_result",
          "data": {
            "text/plain": [
              "(2851, 136)"
            ]
          },
          "metadata": {
            "tags": []
          },
          "execution_count": 146
        }
      ]
    },
    {
      "cell_type": "markdown",
      "metadata": {
        "id": "WzzkSWBT_aIf",
        "colab_type": "text"
      },
      "source": [
        "## Feed Forward Neural Network model for unbias model"
      ]
    },
    {
      "cell_type": "code",
      "metadata": {
        "id": "u_N42oBxcAzW",
        "colab_type": "code",
        "colab": {}
      },
      "source": [
        "def unbias_model():\n",
        "\t# create model\n",
        "\tmodel = Sequential()\n",
        "\tmodel.add(Dense(136, input_dim=136, kernel_initializer='normal', activation='relu'))\n",
        "\tmodel.add(Dense(1, kernel_initializer='normal'))\n",
        "\t# Compile model\n",
        "\tmodel.compile(loss='mean_absolute_error', optimizer='adam')\n",
        "\treturn model"
      ],
      "execution_count": 0,
      "outputs": []
    },
    {
      "cell_type": "markdown",
      "metadata": {
        "id": "wpn7itx1Mc-A",
        "colab_type": "text"
      },
      "source": [
        "## Training the model"
      ]
    },
    {
      "cell_type": "code",
      "metadata": {
        "id": "vThqv7eccHMB",
        "colab_type": "code",
        "outputId": "1d452328-c563-4b04-e9ab-54bccaee21ca",
        "colab": {
          "base_uri": "https://localhost:8080/",
          "height": 748
        }
      },
      "source": [
        "unbias_estimator = KerasRegressor(build_fn=unbias_model, epochs=10, batch_size=64, verbose=1)\n",
        "kfold = KFold(n_splits=2)\n",
        "results = cross_val_score(unbias_estimator, X_unbias_tfidf, y_unbias, cv=kfold)\n",
        "print(\"Accuracy: %.2f (%.2f) MSE\" % (results.mean(), results.std()))"
      ],
      "execution_count": 148,
      "outputs": [
        {
          "output_type": "stream",
          "text": [
            "Epoch 1/10\n",
            "1425/1425 [==============================] - 0s 72us/step - loss: 0.0728\n",
            "Epoch 2/10\n",
            "1425/1425 [==============================] - 0s 36us/step - loss: 0.0453\n",
            "Epoch 3/10\n",
            "1425/1425 [==============================] - 0s 37us/step - loss: 0.0400\n",
            "Epoch 4/10\n",
            "1425/1425 [==============================] - 0s 35us/step - loss: 0.0378\n",
            "Epoch 5/10\n",
            "1425/1425 [==============================] - 0s 36us/step - loss: 0.0362\n",
            "Epoch 6/10\n",
            "1425/1425 [==============================] - 0s 36us/step - loss: 0.0351\n",
            "Epoch 7/10\n",
            "1425/1425 [==============================] - 0s 36us/step - loss: 0.0347\n",
            "Epoch 8/10\n",
            "1425/1425 [==============================] - 0s 37us/step - loss: 0.0341\n",
            "Epoch 9/10\n",
            "1425/1425 [==============================] - 0s 38us/step - loss: 0.0337\n",
            "Epoch 10/10\n",
            "1425/1425 [==============================] - 0s 45us/step - loss: 0.0339\n",
            "1426/1426 [==============================] - 0s 23us/step\n",
            "Epoch 1/10\n",
            "1426/1426 [==============================] - 0s 75us/step - loss: 0.0708\n",
            "Epoch 2/10\n",
            "1426/1426 [==============================] - 0s 37us/step - loss: 0.0389\n",
            "Epoch 3/10\n",
            "1426/1426 [==============================] - 0s 37us/step - loss: 0.0332\n",
            "Epoch 4/10\n",
            "1426/1426 [==============================] - 0s 40us/step - loss: 0.0309\n",
            "Epoch 5/10\n",
            "1426/1426 [==============================] - 0s 37us/step - loss: 0.0295\n",
            "Epoch 6/10\n",
            "1426/1426 [==============================] - 0s 45us/step - loss: 0.0283\n",
            "Epoch 7/10\n",
            "1426/1426 [==============================] - 0s 36us/step - loss: 0.0279\n",
            "Epoch 8/10\n",
            "1426/1426 [==============================] - 0s 36us/step - loss: 0.0276\n",
            "Epoch 9/10\n",
            "1426/1426 [==============================] - 0s 36us/step - loss: 0.0272\n",
            "Epoch 10/10\n",
            "1426/1426 [==============================] - 0s 42us/step - loss: 0.0268\n",
            "1425/1425 [==============================] - 0s 26us/step\n",
            "Accuracy: -0.03 (0.00) MSE\n"
          ],
          "name": "stdout"
        }
      ]
    },
    {
      "cell_type": "code",
      "metadata": {
        "id": "eQ5wmy2mcSA0",
        "colab_type": "code",
        "colab": {}
      },
      "source": [
        "X_news_text = df_newscat.clean_text.values\n",
        "X_news_tfidf = tfidf.fit_transform (X_news_text)"
      ],
      "execution_count": 0,
      "outputs": []
    },
    {
      "cell_type": "code",
      "metadata": {
        "id": "CvI4TJ3Hcpya",
        "colab_type": "code",
        "outputId": "270898c7-9e1c-4526-f612-a8f3926c2436",
        "colab": {
          "base_uri": "https://localhost:8080/",
          "height": 34
        }
      },
      "source": [
        "X_news_tfidf.shape"
      ],
      "execution_count": 150,
      "outputs": [
        {
          "output_type": "execute_result",
          "data": {
            "text/plain": [
              "(26913, 84)"
            ]
          },
          "metadata": {
            "tags": []
          },
          "execution_count": 150
        }
      ]
    },
    {
      "cell_type": "code",
      "metadata": {
        "id": "3Uuz50SZdLrT",
        "colab_type": "code",
        "outputId": "9179896e-0656-485e-f2c6-c9703bcb98af",
        "colab": {
          "base_uri": "https://localhost:8080/",
          "height": 374
        }
      },
      "source": [
        "unbias_estimator.fit(X_unbias_tfidf, y_unbias)"
      ],
      "execution_count": 151,
      "outputs": [
        {
          "output_type": "stream",
          "text": [
            "Epoch 1/10\n",
            "2851/2851 [==============================] - 0s 52us/step - loss: 0.0529\n",
            "Epoch 2/10\n",
            "2851/2851 [==============================] - 0s 36us/step - loss: 0.0371\n",
            "Epoch 3/10\n",
            "2851/2851 [==============================] - 0s 37us/step - loss: 0.0339\n",
            "Epoch 4/10\n",
            "2851/2851 [==============================] - 0s 36us/step - loss: 0.0324\n",
            "Epoch 5/10\n",
            "2851/2851 [==============================] - 0s 37us/step - loss: 0.0322\n",
            "Epoch 6/10\n",
            "2851/2851 [==============================] - 0s 37us/step - loss: 0.0319\n",
            "Epoch 7/10\n",
            "2851/2851 [==============================] - 0s 39us/step - loss: 0.0317\n",
            "Epoch 8/10\n",
            "2851/2851 [==============================] - 0s 35us/step - loss: 0.0314\n",
            "Epoch 9/10\n",
            "2851/2851 [==============================] - 0s 37us/step - loss: 0.0310\n",
            "Epoch 10/10\n",
            "2851/2851 [==============================] - 0s 36us/step - loss: 0.0309\n"
          ],
          "name": "stdout"
        },
        {
          "output_type": "execute_result",
          "data": {
            "text/plain": [
              "<keras.callbacks.callbacks.History at 0x7f90bdc28c50>"
            ]
          },
          "metadata": {
            "tags": []
          },
          "execution_count": 151
        }
      ]
    },
    {
      "cell_type": "code",
      "metadata": {
        "id": "WbXR-j3Ccscl",
        "colab_type": "code",
        "colab": {}
      },
      "source": [
        "A = X_news_tfidf.toarray()\n",
        "X_news_tfidf = np.pad(A, ((0,0),(0,52)), mode='constant')"
      ],
      "execution_count": 0,
      "outputs": []
    },
    {
      "cell_type": "code",
      "metadata": {
        "id": "RMSxZYmUfUaf",
        "colab_type": "code",
        "outputId": "f29c1611-1f13-439d-c6b0-5018b9197152",
        "colab": {
          "base_uri": "https://localhost:8080/",
          "height": 34
        }
      },
      "source": [
        "X_news_tfidf.shape"
      ],
      "execution_count": 153,
      "outputs": [
        {
          "output_type": "execute_result",
          "data": {
            "text/plain": [
              "(26913, 136)"
            ]
          },
          "metadata": {
            "tags": []
          },
          "execution_count": 153
        }
      ]
    },
    {
      "cell_type": "code",
      "metadata": {
        "id": "UurXx1UzfYnT",
        "colab_type": "code",
        "outputId": "a722b892-7ea2-4767-c8b4-aa3c356777ef",
        "colab": {
          "base_uri": "https://localhost:8080/",
          "height": 34
        }
      },
      "source": [
        "y_news_pred = unbias_estimator.predict(X_news_tfidf)"
      ],
      "execution_count": 154,
      "outputs": [
        {
          "output_type": "stream",
          "text": [
            "26913/26913 [==============================] - 0s 10us/step\n"
          ],
          "name": "stdout"
        }
      ]
    },
    {
      "cell_type": "code",
      "metadata": {
        "id": "KLdDKZYXjbmg",
        "colab_type": "code",
        "colab": {}
      },
      "source": [
        "df_newscat['political_bias'] = y_news_pred \n",
        "df1_fake['political_bias'] = y_fake_pred"
      ],
      "execution_count": 0,
      "outputs": []
    },
    {
      "cell_type": "code",
      "metadata": {
        "id": "AieGOBmmjni4",
        "colab_type": "code",
        "outputId": "b3f7a10e-6992-4a91-c471-04f279c1e93c",
        "colab": {
          "base_uri": "https://localhost:8080/",
          "height": 417
        }
      },
      "source": [
        "df_newscat.head(3)"
      ],
      "execution_count": 156,
      "outputs": [
        {
          "output_type": "execute_result",
          "data": {
            "text/html": [
              "<div>\n",
              "<style scoped>\n",
              "    .dataframe tbody tr th:only-of-type {\n",
              "        vertical-align: middle;\n",
              "    }\n",
              "\n",
              "    .dataframe tbody tr th {\n",
              "        vertical-align: top;\n",
              "    }\n",
              "\n",
              "    .dataframe thead th {\n",
              "        text-align: right;\n",
              "    }\n",
              "</style>\n",
              "<table border=\"1\" class=\"dataframe\">\n",
              "  <thead>\n",
              "    <tr style=\"text-align: right;\">\n",
              "      <th></th>\n",
              "      <th>category</th>\n",
              "      <th>headline</th>\n",
              "      <th>authors</th>\n",
              "      <th>link</th>\n",
              "      <th>short_description</th>\n",
              "      <th>date</th>\n",
              "      <th>clean_text</th>\n",
              "      <th>textlabel</th>\n",
              "      <th>political_bias</th>\n",
              "    </tr>\n",
              "  </thead>\n",
              "  <tbody>\n",
              "    <tr>\n",
              "      <th>13</th>\n",
              "      <td>POLITICS</td>\n",
              "      <td>Trump's Crackdown On Immigrant Parents Puts Mo...</td>\n",
              "      <td>Elise Foley and Roque Planas</td>\n",
              "      <td>https://www.huffingtonpost.com/entry/immigrant...</td>\n",
              "      <td>Last month a Health and Human Services officia...</td>\n",
              "      <td>5/26/18</td>\n",
              "      <td>month health human services official revealed ...</td>\n",
              "      <td>half-true</td>\n",
              "      <td>0.106271</td>\n",
              "    </tr>\n",
              "    <tr>\n",
              "      <th>14</th>\n",
              "      <td>POLITICS</td>\n",
              "      <td>'Trump's Son Should Be Concerned': FBI Obtaine...</td>\n",
              "      <td>Michael Isikoff, Yahoo News</td>\n",
              "      <td>https://www.huffingtonpost.com/entry/fbi-wiret...</td>\n",
              "      <td>The wiretaps feature conversations between Ale...</td>\n",
              "      <td>5/26/18</td>\n",
              "      <td>wiretaps feature conversations alexander torsh...</td>\n",
              "      <td>half-true</td>\n",
              "      <td>0.100257</td>\n",
              "    </tr>\n",
              "    <tr>\n",
              "      <th>15</th>\n",
              "      <td>POLITICS</td>\n",
              "      <td>Edward Snowden: There's No One Trump Loves Mor...</td>\n",
              "      <td>Mary Papenfuss</td>\n",
              "      <td>https://www.huffingtonpost.com/entry/edward-sn...</td>\n",
              "      <td>But don't count on Robert Mueller to nail him,...</td>\n",
              "      <td>5/26/18</td>\n",
              "      <td>dont count robert mueller nail nsa whistleblow...</td>\n",
              "      <td>half-true</td>\n",
              "      <td>0.103215</td>\n",
              "    </tr>\n",
              "  </tbody>\n",
              "</table>\n",
              "</div>"
            ],
            "text/plain": [
              "    category  ... political_bias\n",
              "13  POLITICS  ...       0.106271\n",
              "14  POLITICS  ...       0.100257\n",
              "15  POLITICS  ...       0.103215\n",
              "\n",
              "[3 rows x 9 columns]"
            ]
          },
          "metadata": {
            "tags": []
          },
          "execution_count": 156
        }
      ]
    },
    {
      "cell_type": "code",
      "metadata": {
        "id": "yJH4HE3_juT7",
        "colab_type": "code",
        "outputId": "1426ec87-eb67-460f-83a6-112135b274a0",
        "colab": {
          "base_uri": "https://localhost:8080/",
          "height": 485
        }
      },
      "source": [
        "df1_fake.head(3)"
      ],
      "execution_count": 157,
      "outputs": [
        {
          "output_type": "execute_result",
          "data": {
            "text/html": [
              "<div>\n",
              "<style scoped>\n",
              "    .dataframe tbody tr th:only-of-type {\n",
              "        vertical-align: middle;\n",
              "    }\n",
              "\n",
              "    .dataframe tbody tr th {\n",
              "        vertical-align: top;\n",
              "    }\n",
              "\n",
              "    .dataframe thead th {\n",
              "        text-align: right;\n",
              "    }\n",
              "</style>\n",
              "<table border=\"1\" class=\"dataframe\">\n",
              "  <thead>\n",
              "    <tr style=\"text-align: right;\">\n",
              "      <th></th>\n",
              "      <th>author</th>\n",
              "      <th>title</th>\n",
              "      <th>text</th>\n",
              "      <th>site_url</th>\n",
              "      <th>domain_rank</th>\n",
              "      <th>clean_title</th>\n",
              "      <th>textlabel</th>\n",
              "      <th>political_bias</th>\n",
              "    </tr>\n",
              "  </thead>\n",
              "  <tbody>\n",
              "    <tr>\n",
              "      <th>0</th>\n",
              "      <td>Barracuda Brigade</td>\n",
              "      <td>Muslims BUSTED: They Stole Millions In Gov’t B...</td>\n",
              "      <td>Print They should pay all the back all the mon...</td>\n",
              "      <td>100percentfedup.com</td>\n",
              "      <td>25689.0</td>\n",
              "      <td>muslims busted stole millions govt benefits</td>\n",
              "      <td>FALSE</td>\n",
              "      <td>0.407899</td>\n",
              "    </tr>\n",
              "    <tr>\n",
              "      <th>1</th>\n",
              "      <td>reasoning with facts</td>\n",
              "      <td>Re: Why Did Attorney General Loretta Lynch Ple...</td>\n",
              "      <td>Why Did Attorney General Loretta Lynch Plead T...</td>\n",
              "      <td>100percentfedup.com</td>\n",
              "      <td>25689.0</td>\n",
              "      <td>attorney general loretta lynch plead fifth</td>\n",
              "      <td>FALSE</td>\n",
              "      <td>0.407899</td>\n",
              "    </tr>\n",
              "    <tr>\n",
              "      <th>2</th>\n",
              "      <td>Barracuda Brigade</td>\n",
              "      <td>BREAKING: Weiner Cooperating With FBI On Hilla...</td>\n",
              "      <td>Red State : \\nFox News Sunday reported this mo...</td>\n",
              "      <td>100percentfedup.com</td>\n",
              "      <td>25689.0</td>\n",
              "      <td>breaking weiner cooperating fbi hillary email ...</td>\n",
              "      <td>FALSE</td>\n",
              "      <td>0.902757</td>\n",
              "    </tr>\n",
              "  </tbody>\n",
              "</table>\n",
              "</div>"
            ],
            "text/plain": [
              "                 author  ... political_bias\n",
              "0     Barracuda Brigade  ...       0.407899\n",
              "1  reasoning with facts  ...       0.407899\n",
              "2     Barracuda Brigade  ...       0.902757\n",
              "\n",
              "[3 rows x 8 columns]"
            ]
          },
          "metadata": {
            "tags": []
          },
          "execution_count": 157
        }
      ]
    },
    {
      "cell_type": "code",
      "metadata": {
        "id": "9ZldkhXMmwhq",
        "colab_type": "code",
        "outputId": "873347a6-d1e5-4c8d-c2c8-7fe9e71ae181",
        "colab": {
          "base_uri": "https://localhost:8080/",
          "height": 136
        }
      },
      "source": [
        "bias_df['class'].value_counts()"
      ],
      "execution_count": 158,
      "outputs": [
        {
          "output_type": "execute_result",
          "data": {
            "text/plain": [
              "half-true      2081\n",
              "FALSE          1941\n",
              "mostly-true    1913\n",
              "barely-true    1653\n",
              "TRUE           1624\n",
              "pants-fire      651\n",
              "Name: class, dtype: int64"
            ]
          },
          "metadata": {
            "tags": []
          },
          "execution_count": 158
        }
      ]
    },
    {
      "cell_type": "code",
      "metadata": {
        "id": "UcVbDB16OSq8",
        "colab_type": "code",
        "outputId": "bdb8d3db-4230-4f67-92a7-c006ecffd6af",
        "colab": {
          "base_uri": "https://localhost:8080/",
          "height": 34
        }
      },
      "source": [
        "from sklearn import preprocessing\n",
        "label_encoder = preprocessing.LabelEncoder()\n",
        "label_encoder.fit(bias_df['class'])\n",
        "\n",
        "\n",
        "label = label_encoder.transform(df1_fake['textlabel'])\n",
        "label_encoder.transform(df1_fake['textlabel'])\n",
        "\n",
        "np.unique(label, return_index=True)\n"
      ],
      "execution_count": 159,
      "outputs": [
        {
          "output_type": "execute_result",
          "data": {
            "text/plain": [
              "(array([0]), array([0]))"
            ]
          },
          "metadata": {
            "tags": []
          },
          "execution_count": 159
        }
      ]
    },
    {
      "cell_type": "code",
      "metadata": {
        "id": "QpbuDCafREMy",
        "colab_type": "code",
        "outputId": "d625da33-ced2-449c-8a89-b2d527e7758b",
        "colab": {
          "base_uri": "https://localhost:8080/",
          "height": 51
        }
      },
      "source": [
        "y = label\n",
        "df1_fake['class'] = y\n",
        "label_encoder.inverse_transform(y)"
      ],
      "execution_count": 160,
      "outputs": [
        {
          "output_type": "execute_result",
          "data": {
            "text/plain": [
              "array(['FALSE', 'FALSE', 'FALSE', ..., 'FALSE', 'FALSE', 'FALSE'],\n",
              "      dtype=object)"
            ]
          },
          "metadata": {
            "tags": []
          },
          "execution_count": 160
        }
      ]
    },
    {
      "cell_type": "code",
      "metadata": {
        "id": "Cp5UBSMPR0To",
        "colab_type": "code",
        "outputId": "b4bf13a4-ab0d-4f64-e18c-6caa3b43078f",
        "colab": {
          "base_uri": "https://localhost:8080/",
          "height": 34
        }
      },
      "source": [
        "\n",
        "label = label_encoder.transform(df_newscat['textlabel'])\n",
        "label_encoder.transform(df1_fake['textlabel'])\n",
        "\n",
        "np.unique(label, return_index=True)\n"
      ],
      "execution_count": 161,
      "outputs": [
        {
          "output_type": "execute_result",
          "data": {
            "text/plain": [
              "(array([3, 4]), array([ 0, 11]))"
            ]
          },
          "metadata": {
            "tags": []
          },
          "execution_count": 161
        }
      ]
    },
    {
      "cell_type": "code",
      "metadata": {
        "id": "0wmlLNy4R-NC",
        "colab_type": "code",
        "outputId": "96a38a3b-7300-4634-c523-10f7ee051339",
        "colab": {
          "base_uri": "https://localhost:8080/",
          "height": 51
        }
      },
      "source": [
        "y = label\n",
        "df_newscat['class'] = y\n",
        "label_encoder.inverse_transform(y)"
      ],
      "execution_count": 162,
      "outputs": [
        {
          "output_type": "execute_result",
          "data": {
            "text/plain": [
              "array(['half-true', 'half-true', 'half-true', ..., 'half-true',\n",
              "       'half-true', 'half-true'], dtype=object)"
            ]
          },
          "metadata": {
            "tags": []
          },
          "execution_count": 162
        }
      ]
    },
    {
      "cell_type": "code",
      "metadata": {
        "id": "hR77pEynSC1n",
        "colab_type": "code",
        "outputId": "dc3f4183-82e4-4685-fe15-b19af2b51b3d",
        "colab": {
          "base_uri": "https://localhost:8080/",
          "height": 34
        }
      },
      "source": [
        "np.unique(y)"
      ],
      "execution_count": 163,
      "outputs": [
        {
          "output_type": "execute_result",
          "data": {
            "text/plain": [
              "array([3, 4])"
            ]
          },
          "metadata": {
            "tags": []
          },
          "execution_count": 163
        }
      ]
    },
    {
      "cell_type": "code",
      "metadata": {
        "id": "whHtsSOpUaJb",
        "colab_type": "code",
        "outputId": "dc72b036-da95-41c9-c7f4-4f79a92bc7bd",
        "colab": {
          "base_uri": "https://localhost:8080/",
          "height": 34
        }
      },
      "source": [
        "label = label_encoder.transform(bias_df['class'])\n",
        "label_encoder.transform(bias_df['class'])\n",
        "\n",
        "np.unique(label, return_index=True)"
      ],
      "execution_count": 164,
      "outputs": [
        {
          "output_type": "execute_result",
          "data": {
            "text/plain": [
              "(array([0, 1, 2, 3, 4, 5]), array([5, 1, 0, 2, 9, 8]))"
            ]
          },
          "metadata": {
            "tags": []
          },
          "execution_count": 164
        }
      ]
    },
    {
      "cell_type": "code",
      "metadata": {
        "id": "j5xGOUBrU7Y8",
        "colab_type": "code",
        "outputId": "fa303b3e-9e81-4322-e793-f30fe0893524",
        "colab": {
          "base_uri": "https://localhost:8080/",
          "height": 173
        }
      },
      "source": [
        "y = label\n",
        "bias_df['class'] = y\n",
        "label_encoder.inverse_transform(y)"
      ],
      "execution_count": 165,
      "outputs": [
        {
          "output_type": "stream",
          "text": [
            "/usr/local/lib/python3.6/dist-packages/ipykernel_launcher.py:2: SettingWithCopyWarning: \n",
            "A value is trying to be set on a copy of a slice from a DataFrame.\n",
            "Try using .loc[row_indexer,col_indexer] = value instead\n",
            "\n",
            "See the caveats in the documentation: https://pandas.pydata.org/pandas-docs/stable/user_guide/indexing.html#returning-a-view-versus-a-copy\n",
            "  \n"
          ],
          "name": "stderr"
        },
        {
          "output_type": "execute_result",
          "data": {
            "text/plain": [
              "array(['barely-true', 'TRUE', 'half-true', ..., 'FALSE', 'TRUE', 'FALSE'],\n",
              "      dtype=object)"
            ]
          },
          "metadata": {
            "tags": []
          },
          "execution_count": 165
        }
      ]
    },
    {
      "cell_type": "code",
      "metadata": {
        "id": "yUq2momPVr_f",
        "colab_type": "code",
        "outputId": "c9ce3255-07cb-4490-8499-251a1c253edb",
        "colab": {
          "base_uri": "https://localhost:8080/",
          "height": 383
        }
      },
      "source": [
        "bias_df.head(3)"
      ],
      "execution_count": 166,
      "outputs": [
        {
          "output_type": "execute_result",
          "data": {
            "text/html": [
              "<div>\n",
              "<style scoped>\n",
              "    .dataframe tbody tr th:only-of-type {\n",
              "        vertical-align: middle;\n",
              "    }\n",
              "\n",
              "    .dataframe tbody tr th {\n",
              "        vertical-align: top;\n",
              "    }\n",
              "\n",
              "    .dataframe thead th {\n",
              "        text-align: right;\n",
              "    }\n",
              "</style>\n",
              "<table border=\"1\" class=\"dataframe\">\n",
              "  <thead>\n",
              "    <tr style=\"text-align: right;\">\n",
              "      <th></th>\n",
              "      <th>class</th>\n",
              "      <th>statement</th>\n",
              "      <th>subject</th>\n",
              "      <th>speaker</th>\n",
              "      <th>speaker_job_title</th>\n",
              "      <th>state_info</th>\n",
              "      <th>party_affiliation</th>\n",
              "      <th>barely_true_counts</th>\n",
              "      <th>false_counts</th>\n",
              "      <th>half_true_counts</th>\n",
              "      <th>mostly_true_counts</th>\n",
              "      <th>pants_on_fire_counts</th>\n",
              "      <th>context</th>\n",
              "      <th>clean_statement</th>\n",
              "      <th>political_bias</th>\n",
              "    </tr>\n",
              "  </thead>\n",
              "  <tbody>\n",
              "    <tr>\n",
              "      <th>5130</th>\n",
              "      <td>2</td>\n",
              "      <td>Says Obama puts 15 unelected, unaccountable bu...</td>\n",
              "      <td>medicare</td>\n",
              "      <td>paul-ryan</td>\n",
              "      <td>U.S. Representative</td>\n",
              "      <td>Wisconsin</td>\n",
              "      <td>republican</td>\n",
              "      <td>19.0</td>\n",
              "      <td>6.0</td>\n",
              "      <td>16.0</td>\n",
              "      <td>14.0</td>\n",
              "      <td>2.0</td>\n",
              "      <td>a speech in The Villages, Fla.</td>\n",
              "      <td>says obama puts unelected unaccountable bureau...</td>\n",
              "      <td>0.9</td>\n",
              "    </tr>\n",
              "    <tr>\n",
              "      <th>2483</th>\n",
              "      <td>1</td>\n",
              "      <td>The cost to implement Florida's class size ame...</td>\n",
              "      <td>education</td>\n",
              "      <td>don-gaetz</td>\n",
              "      <td>State Senator</td>\n",
              "      <td>Florida</td>\n",
              "      <td>republican</td>\n",
              "      <td>1.0</td>\n",
              "      <td>0.0</td>\n",
              "      <td>3.0</td>\n",
              "      <td>1.0</td>\n",
              "      <td>0.0</td>\n",
              "      <td>debate on the Senate floor.</td>\n",
              "      <td>cost implement floridas class size amendment f...</td>\n",
              "      <td>0.9</td>\n",
              "    </tr>\n",
              "    <tr>\n",
              "      <th>2307</th>\n",
              "      <td>3</td>\n",
              "      <td>Obama \"changed the rules in Washington. Gone a...</td>\n",
              "      <td>ethics</td>\n",
              "      <td>barack-obama</td>\n",
              "      <td>President</td>\n",
              "      <td>Illinois</td>\n",
              "      <td>democrat</td>\n",
              "      <td>70.0</td>\n",
              "      <td>71.0</td>\n",
              "      <td>160.0</td>\n",
              "      <td>163.0</td>\n",
              "      <td>9.0</td>\n",
              "      <td>a statement by Sen. Claire McCaskill in a TV ad.</td>\n",
              "      <td>obama changed rules washington gone free gifts...</td>\n",
              "      <td>0.7</td>\n",
              "    </tr>\n",
              "  </tbody>\n",
              "</table>\n",
              "</div>"
            ],
            "text/plain": [
              "      class  ... political_bias\n",
              "5130      2  ...            0.9\n",
              "2483      1  ...            0.9\n",
              "2307      3  ...            0.7\n",
              "\n",
              "[3 rows x 15 columns]"
            ]
          },
          "metadata": {
            "tags": []
          },
          "execution_count": 166
        }
      ]
    },
    {
      "cell_type": "code",
      "metadata": {
        "id": "qDeNDdDNJEft",
        "colab_type": "code",
        "outputId": "a2fac93b-869a-47e5-eca3-673279c4ecc2",
        "colab": {
          "base_uri": "https://localhost:8080/",
          "height": 34
        }
      },
      "source": [
        "bias_df.shape"
      ],
      "execution_count": 167,
      "outputs": [
        {
          "output_type": "execute_result",
          "data": {
            "text/plain": [
              "(9863, 15)"
            ]
          },
          "metadata": {
            "tags": []
          },
          "execution_count": 167
        }
      ]
    },
    {
      "cell_type": "code",
      "metadata": {
        "id": "hKal4dmPKu82",
        "colab_type": "code",
        "colab": {}
      },
      "source": [
        "d1 = bias_df[['class','political_bias']].values\n",
        "d2 = df_newscat[['class', 'political_bias']].values\n",
        "d3 = df1_fake[['class', 'political_bias']].values"
      ],
      "execution_count": 0,
      "outputs": []
    },
    {
      "cell_type": "code",
      "metadata": {
        "id": "CEjrUWbKWCP0",
        "colab_type": "code",
        "outputId": "589b504e-b3c9-46f2-e79d-f37ecf450a45",
        "colab": {
          "base_uri": "https://localhost:8080/",
          "height": 34
        }
      },
      "source": [
        "d1.shape"
      ],
      "execution_count": 169,
      "outputs": [
        {
          "output_type": "execute_result",
          "data": {
            "text/plain": [
              "(9863, 2)"
            ]
          },
          "metadata": {
            "tags": []
          },
          "execution_count": 169
        }
      ]
    },
    {
      "cell_type": "code",
      "metadata": {
        "id": "XLdYmGykNImZ",
        "colab_type": "code",
        "outputId": "eb21d85b-60f1-44e0-d6b1-40bfa9866f9d",
        "colab": {
          "base_uri": "https://localhost:8080/",
          "height": 34
        }
      },
      "source": [
        "d3.shape"
      ],
      "execution_count": 170,
      "outputs": [
        {
          "output_type": "execute_result",
          "data": {
            "text/plain": [
              "(5993, 2)"
            ]
          },
          "metadata": {
            "tags": []
          },
          "execution_count": 170
        }
      ]
    },
    {
      "cell_type": "code",
      "metadata": {
        "id": "lNnACqMBM7if",
        "colab_type": "code",
        "colab": {}
      },
      "source": [
        "dat = np.vstack((d1,d2))"
      ],
      "execution_count": 0,
      "outputs": []
    },
    {
      "cell_type": "code",
      "metadata": {
        "id": "ZCXSxRJENkaa",
        "colab_type": "code",
        "colab": {}
      },
      "source": [
        "arr = np.vstack((dat, d3))"
      ],
      "execution_count": 0,
      "outputs": []
    },
    {
      "cell_type": "code",
      "metadata": {
        "id": "SMrOpkcfNyxT",
        "colab_type": "code",
        "outputId": "43a058be-ad52-4d96-df45-04681c587c5a",
        "colab": {
          "base_uri": "https://localhost:8080/",
          "height": 34
        }
      },
      "source": [
        "arr.shape"
      ],
      "execution_count": 173,
      "outputs": [
        {
          "output_type": "execute_result",
          "data": {
            "text/plain": [
              "(42769, 2)"
            ]
          },
          "metadata": {
            "tags": []
          },
          "execution_count": 173
        }
      ]
    },
    {
      "cell_type": "code",
      "metadata": {
        "id": "hYEjXUOpMYF8",
        "colab_type": "code",
        "colab": {}
      },
      "source": [
        "pbias_df = pd.DataFrame(arr, columns=['label', 'politcalbias'])"
      ],
      "execution_count": 0,
      "outputs": []
    },
    {
      "cell_type": "code",
      "metadata": {
        "id": "IJ6nMNFzPdsi",
        "colab_type": "code",
        "colab": {}
      },
      "source": [
        "pbias_df = pbias_df[['politcalbias', 'label']]"
      ],
      "execution_count": 0,
      "outputs": []
    },
    {
      "cell_type": "code",
      "metadata": {
        "id": "ZfXtmZdIWZFD",
        "colab_type": "code",
        "outputId": "b8ff5536-aab0-4a26-d00f-d6967410bbf0",
        "colab": {
          "base_uri": "https://localhost:8080/",
          "height": 173
        }
      },
      "source": [
        "pbias_df.head(4)"
      ],
      "execution_count": 176,
      "outputs": [
        {
          "output_type": "execute_result",
          "data": {
            "text/html": [
              "<div>\n",
              "<style scoped>\n",
              "    .dataframe tbody tr th:only-of-type {\n",
              "        vertical-align: middle;\n",
              "    }\n",
              "\n",
              "    .dataframe tbody tr th {\n",
              "        vertical-align: top;\n",
              "    }\n",
              "\n",
              "    .dataframe thead th {\n",
              "        text-align: right;\n",
              "    }\n",
              "</style>\n",
              "<table border=\"1\" class=\"dataframe\">\n",
              "  <thead>\n",
              "    <tr style=\"text-align: right;\">\n",
              "      <th></th>\n",
              "      <th>politcalbias</th>\n",
              "      <th>label</th>\n",
              "    </tr>\n",
              "  </thead>\n",
              "  <tbody>\n",
              "    <tr>\n",
              "      <th>0</th>\n",
              "      <td>0.9</td>\n",
              "      <td>2.0</td>\n",
              "    </tr>\n",
              "    <tr>\n",
              "      <th>1</th>\n",
              "      <td>0.9</td>\n",
              "      <td>1.0</td>\n",
              "    </tr>\n",
              "    <tr>\n",
              "      <th>2</th>\n",
              "      <td>0.7</td>\n",
              "      <td>3.0</td>\n",
              "    </tr>\n",
              "    <tr>\n",
              "      <th>3</th>\n",
              "      <td>0.7</td>\n",
              "      <td>2.0</td>\n",
              "    </tr>\n",
              "  </tbody>\n",
              "</table>\n",
              "</div>"
            ],
            "text/plain": [
              "   politcalbias  label\n",
              "0           0.9    2.0\n",
              "1           0.9    1.0\n",
              "2           0.7    3.0\n",
              "3           0.7    2.0"
            ]
          },
          "metadata": {
            "tags": []
          },
          "execution_count": 176
        }
      ]
    },
    {
      "cell_type": "code",
      "metadata": {
        "id": "8FbkVuHQWb_1",
        "colab_type": "code",
        "colab": {}
      },
      "source": [
        "from sklearn.utils import shuffle\n",
        "pbias_df = shuffle(pbias_df)"
      ],
      "execution_count": 0,
      "outputs": []
    },
    {
      "cell_type": "code",
      "metadata": {
        "id": "L3CVSM_HWq22",
        "colab_type": "code",
        "outputId": "2faec1cb-56dc-47a9-d25e-429c52e89d76",
        "colab": {
          "base_uri": "https://localhost:8080/",
          "height": 359
        }
      },
      "source": [
        "pbias_df.head(10)"
      ],
      "execution_count": 178,
      "outputs": [
        {
          "output_type": "execute_result",
          "data": {
            "text/html": [
              "<div>\n",
              "<style scoped>\n",
              "    .dataframe tbody tr th:only-of-type {\n",
              "        vertical-align: middle;\n",
              "    }\n",
              "\n",
              "    .dataframe tbody tr th {\n",
              "        vertical-align: top;\n",
              "    }\n",
              "\n",
              "    .dataframe thead th {\n",
              "        text-align: right;\n",
              "    }\n",
              "</style>\n",
              "<table border=\"1\" class=\"dataframe\">\n",
              "  <thead>\n",
              "    <tr style=\"text-align: right;\">\n",
              "      <th></th>\n",
              "      <th>politcalbias</th>\n",
              "      <th>label</th>\n",
              "    </tr>\n",
              "  </thead>\n",
              "  <tbody>\n",
              "    <tr>\n",
              "      <th>28843</th>\n",
              "      <td>0.100257</td>\n",
              "      <td>3.0</td>\n",
              "    </tr>\n",
              "    <tr>\n",
              "      <th>6614</th>\n",
              "      <td>0.900000</td>\n",
              "      <td>3.0</td>\n",
              "    </tr>\n",
              "    <tr>\n",
              "      <th>42708</th>\n",
              "      <td>0.407899</td>\n",
              "      <td>0.0</td>\n",
              "    </tr>\n",
              "    <tr>\n",
              "      <th>40020</th>\n",
              "      <td>0.767243</td>\n",
              "      <td>0.0</td>\n",
              "    </tr>\n",
              "    <tr>\n",
              "      <th>16452</th>\n",
              "      <td>0.092168</td>\n",
              "      <td>3.0</td>\n",
              "    </tr>\n",
              "    <tr>\n",
              "      <th>23776</th>\n",
              "      <td>0.101779</td>\n",
              "      <td>3.0</td>\n",
              "    </tr>\n",
              "    <tr>\n",
              "      <th>7378</th>\n",
              "      <td>0.700000</td>\n",
              "      <td>0.0</td>\n",
              "    </tr>\n",
              "    <tr>\n",
              "      <th>994</th>\n",
              "      <td>0.700000</td>\n",
              "      <td>1.0</td>\n",
              "    </tr>\n",
              "    <tr>\n",
              "      <th>12089</th>\n",
              "      <td>0.110508</td>\n",
              "      <td>3.0</td>\n",
              "    </tr>\n",
              "    <tr>\n",
              "      <th>10195</th>\n",
              "      <td>0.099721</td>\n",
              "      <td>3.0</td>\n",
              "    </tr>\n",
              "  </tbody>\n",
              "</table>\n",
              "</div>"
            ],
            "text/plain": [
              "       politcalbias  label\n",
              "28843      0.100257    3.0\n",
              "6614       0.900000    3.0\n",
              "42708      0.407899    0.0\n",
              "40020      0.767243    0.0\n",
              "16452      0.092168    3.0\n",
              "23776      0.101779    3.0\n",
              "7378       0.700000    0.0\n",
              "994        0.700000    1.0\n",
              "12089      0.110508    3.0\n",
              "10195      0.099721    3.0"
            ]
          },
          "metadata": {
            "tags": []
          },
          "execution_count": 178
        }
      ]
    },
    {
      "cell_type": "code",
      "metadata": {
        "id": "IPGicbPWWyhq",
        "colab_type": "code",
        "colab": {}
      },
      "source": [
        "from sklearn.ensemble import RandomForestClassifier\n",
        "from sklearn.datasets import make_classification"
      ],
      "execution_count": 0,
      "outputs": []
    },
    {
      "cell_type": "code",
      "metadata": {
        "id": "9hs4x0rnX-Ce",
        "colab_type": "code",
        "colab": {}
      },
      "source": [
        "from sklearn.model_selection import train_test_split"
      ],
      "execution_count": 0,
      "outputs": []
    },
    {
      "cell_type": "code",
      "metadata": {
        "id": "U7om_N6IYBFl",
        "colab_type": "code",
        "colab": {}
      },
      "source": [
        "X_train, X_test, y_train, y_test = train_test_split(pbias_df['politcalbias'], pbias_df['label'], test_size=0.20, random_state=42)"
      ],
      "execution_count": 0,
      "outputs": []
    },
    {
      "cell_type": "code",
      "metadata": {
        "id": "1wWqQf_4b4x3",
        "colab_type": "code",
        "outputId": "0210be10-36e6-4ab9-a4aa-ebf0fce5b677",
        "colab": {
          "base_uri": "https://localhost:8080/",
          "height": 34
        }
      },
      "source": [
        "X_test.shape"
      ],
      "execution_count": 182,
      "outputs": [
        {
          "output_type": "execute_result",
          "data": {
            "text/plain": [
              "(8554,)"
            ]
          },
          "metadata": {
            "tags": []
          },
          "execution_count": 182
        }
      ]
    },
    {
      "cell_type": "code",
      "metadata": {
        "id": "GyGHwTFKYf5A",
        "colab_type": "code",
        "outputId": "8f02fe14-45a0-4266-a748-2e9cb0c2b3c0",
        "colab": {
          "base_uri": "https://localhost:8080/",
          "height": 34
        }
      },
      "source": [
        "xtrain = np.asmatrix(X_train)\n",
        "xtest = np.asmatrix(X_test)\n",
        "xtrain.shape\n",
        "xtest.shape"
      ],
      "execution_count": 183,
      "outputs": [
        {
          "output_type": "execute_result",
          "data": {
            "text/plain": [
              "(1, 8554)"
            ]
          },
          "metadata": {
            "tags": []
          },
          "execution_count": 183
        }
      ]
    },
    {
      "cell_type": "code",
      "metadata": {
        "id": "tnsX4mKoaclF",
        "colab_type": "code",
        "colab": {}
      },
      "source": [
        "xtrain = xtrain.reshape(-1,1)\n",
        "xtest = xtest.reshape(-1,1)"
      ],
      "execution_count": 0,
      "outputs": []
    },
    {
      "cell_type": "code",
      "metadata": {
        "id": "usEDd1jAXGAe",
        "colab_type": "code",
        "outputId": "a9d4d0f7-3389-4689-b465-19d07ed01b6e",
        "colab": {
          "base_uri": "https://localhost:8080/",
          "height": 153
        }
      },
      "source": [
        "clf = RandomForestClassifier(n_jobs=2, random_state=0)\n",
        "clf.fit(xtrain, y_train)"
      ],
      "execution_count": 185,
      "outputs": [
        {
          "output_type": "execute_result",
          "data": {
            "text/plain": [
              "RandomForestClassifier(bootstrap=True, ccp_alpha=0.0, class_weight=None,\n",
              "                       criterion='gini', max_depth=None, max_features='auto',\n",
              "                       max_leaf_nodes=None, max_samples=None,\n",
              "                       min_impurity_decrease=0.0, min_impurity_split=None,\n",
              "                       min_samples_leaf=1, min_samples_split=2,\n",
              "                       min_weight_fraction_leaf=0.0, n_estimators=100, n_jobs=2,\n",
              "                       oob_score=False, random_state=0, verbose=0,\n",
              "                       warm_start=False)"
            ]
          },
          "metadata": {
            "tags": []
          },
          "execution_count": 185
        }
      ]
    },
    {
      "cell_type": "code",
      "metadata": {
        "id": "7e3jaqP2a7s7",
        "colab_type": "code",
        "colab": {}
      },
      "source": [
        "ypred = clf.predict(xtest)"
      ],
      "execution_count": 0,
      "outputs": []
    },
    {
      "cell_type": "code",
      "metadata": {
        "id": "RreDY3y9bK_M",
        "colab_type": "code",
        "colab": {}
      },
      "source": [
        "from sklearn.metrics import accuracy_score, f1_score, auc"
      ],
      "execution_count": 0,
      "outputs": []
    },
    {
      "cell_type": "code",
      "metadata": {
        "id": "XQFJCUIjbTn4",
        "colab_type": "code",
        "colab": {}
      },
      "source": [
        "rfscore = accuracy_score(y_test, ypred)\n",
        "rff1 = f1_score(y_test, ypred, average='weighted')"
      ],
      "execution_count": 0,
      "outputs": []
    },
    {
      "cell_type": "code",
      "metadata": {
        "id": "eu1OM49p8TK3",
        "colab_type": "code",
        "outputId": "62b8d4b2-5a94-495b-971d-e947d809e08f",
        "colab": {
          "base_uri": "https://localhost:8080/",
          "height": 34
        }
      },
      "source": [
        "rff1"
      ],
      "execution_count": 189,
      "outputs": [
        {
          "output_type": "execute_result",
          "data": {
            "text/plain": [
              "0.8005157642389703"
            ]
          },
          "metadata": {
            "tags": []
          },
          "execution_count": 189
        }
      ]
    },
    {
      "cell_type": "code",
      "metadata": {
        "id": "DsWdke0Ju0XP",
        "colab_type": "code",
        "colab": {}
      },
      "source": [
        "from xgboost import XGBClassifier"
      ],
      "execution_count": 0,
      "outputs": []
    },
    {
      "cell_type": "code",
      "metadata": {
        "id": "XmwVq-IVvIFn",
        "colab_type": "code",
        "outputId": "d34fa13e-9d4e-432d-e13c-48181811e444",
        "colab": {
          "base_uri": "https://localhost:8080/",
          "height": 136
        }
      },
      "source": [
        "model = XGBClassifier()\n",
        "model.fit(xtrain, y_train)"
      ],
      "execution_count": 191,
      "outputs": [
        {
          "output_type": "execute_result",
          "data": {
            "text/plain": [
              "XGBClassifier(base_score=0.5, booster='gbtree', colsample_bylevel=1,\n",
              "              colsample_bynode=1, colsample_bytree=1, gamma=0,\n",
              "              learning_rate=0.1, max_delta_step=0, max_depth=3,\n",
              "              min_child_weight=1, missing=None, n_estimators=100, n_jobs=1,\n",
              "              nthread=None, objective='multi:softprob', random_state=0,\n",
              "              reg_alpha=0, reg_lambda=1, scale_pos_weight=1, seed=None,\n",
              "              silent=None, subsample=1, verbosity=1)"
            ]
          },
          "metadata": {
            "tags": []
          },
          "execution_count": 191
        }
      ]
    },
    {
      "cell_type": "code",
      "metadata": {
        "id": "aZqqWMR8vQcD",
        "colab_type": "code",
        "colab": {}
      },
      "source": [
        "ypred = model.predict(xtest)"
      ],
      "execution_count": 0,
      "outputs": []
    },
    {
      "cell_type": "code",
      "metadata": {
        "id": "CQXBiiMj1c85",
        "colab_type": "code",
        "colab": {}
      },
      "source": [
        "xgscore = accuracy_score(y_test, ypred)\n",
        "xgf1 = f1_score(y_test, ypred, average='weighted')"
      ],
      "execution_count": 0,
      "outputs": []
    },
    {
      "cell_type": "code",
      "metadata": {
        "id": "PQsg2g-f8Aiv",
        "colab_type": "code",
        "outputId": "e010a73d-b1a4-4e20-b173-8823bd0e4073",
        "colab": {
          "base_uri": "https://localhost:8080/",
          "height": 34
        }
      },
      "source": [
        "xgf1"
      ],
      "execution_count": 194,
      "outputs": [
        {
          "output_type": "execute_result",
          "data": {
            "text/plain": [
              "0.7996465224433151"
            ]
          },
          "metadata": {
            "tags": []
          },
          "execution_count": 194
        }
      ]
    },
    {
      "cell_type": "code",
      "metadata": {
        "id": "Cqg0C-RD29Qk",
        "colab_type": "code",
        "colab": {}
      },
      "source": [
        "from sklearn.tree import DecisionTreeClassifier"
      ],
      "execution_count": 0,
      "outputs": []
    },
    {
      "cell_type": "code",
      "metadata": {
        "id": "U3Nfa8eR3Ued",
        "colab_type": "code",
        "colab": {}
      },
      "source": [
        "decTclf = DecisionTreeClassifier(random_state=0)"
      ],
      "execution_count": 0,
      "outputs": []
    },
    {
      "cell_type": "code",
      "metadata": {
        "id": "alvs8K9_3btV",
        "colab_type": "code",
        "outputId": "07bcb031-a23b-40f2-f22f-cb8ce6902999",
        "colab": {
          "base_uri": "https://localhost:8080/",
          "height": 119
        }
      },
      "source": [
        "decTclf.fit(xtrain, y_train)"
      ],
      "execution_count": 197,
      "outputs": [
        {
          "output_type": "execute_result",
          "data": {
            "text/plain": [
              "DecisionTreeClassifier(ccp_alpha=0.0, class_weight=None, criterion='gini',\n",
              "                       max_depth=None, max_features=None, max_leaf_nodes=None,\n",
              "                       min_impurity_decrease=0.0, min_impurity_split=None,\n",
              "                       min_samples_leaf=1, min_samples_split=2,\n",
              "                       min_weight_fraction_leaf=0.0, presort='deprecated',\n",
              "                       random_state=0, splitter='best')"
            ]
          },
          "metadata": {
            "tags": []
          },
          "execution_count": 197
        }
      ]
    },
    {
      "cell_type": "code",
      "metadata": {
        "id": "nsuk1_m635-_",
        "colab_type": "code",
        "colab": {}
      },
      "source": [
        "ypred = decTclf.predict(xtest)"
      ],
      "execution_count": 0,
      "outputs": []
    },
    {
      "cell_type": "code",
      "metadata": {
        "id": "snpR2AaZ3-es",
        "colab_type": "code",
        "colab": {}
      },
      "source": [
        "decscore = accuracy_score(y_test, ypred)"
      ],
      "execution_count": 0,
      "outputs": []
    },
    {
      "cell_type": "code",
      "metadata": {
        "id": "kGUZKpQP5IYa",
        "colab_type": "code",
        "colab": {}
      },
      "source": [
        "decf1 = f1_score(y_test, ypred, average='weighted')"
      ],
      "execution_count": 0,
      "outputs": []
    },
    {
      "cell_type": "code",
      "metadata": {
        "id": "9lRWUZok72gu",
        "colab_type": "code",
        "outputId": "dbe2e13b-c30c-4ef6-bff2-7da74171f8f3",
        "colab": {
          "base_uri": "https://localhost:8080/",
          "height": 34
        }
      },
      "source": [
        "decf1"
      ],
      "execution_count": 201,
      "outputs": [
        {
          "output_type": "execute_result",
          "data": {
            "text/plain": [
              "0.8005157642389703"
            ]
          },
          "metadata": {
            "tags": []
          },
          "execution_count": 201
        }
      ]
    },
    {
      "cell_type": "markdown",
      "metadata": {
        "id": "azq0AqnTR9jx",
        "colab_type": "text"
      },
      "source": [
        "## Comparision of models"
      ]
    },
    {
      "cell_type": "code",
      "metadata": {
        "id": "_hNsbPvOSCZG",
        "colab_type": "code",
        "colab": {
          "base_uri": "https://localhost:8080/",
          "height": 34
        },
        "outputId": "49365903-b49a-4be3-bd4d-93e4f894694c"
      },
      "source": [
        "rfscore"
      ],
      "execution_count": 202,
      "outputs": [
        {
          "output_type": "execute_result",
          "data": {
            "text/plain": [
              "0.8189151274257658"
            ]
          },
          "metadata": {
            "tags": []
          },
          "execution_count": 202
        }
      ]
    },
    {
      "cell_type": "code",
      "metadata": {
        "id": "KZhIp699SfQV",
        "colab_type": "code",
        "colab": {
          "base_uri": "https://localhost:8080/",
          "height": 34
        },
        "outputId": "c9cae09f-82e4-4122-c49a-5f1d73732995"
      },
      "source": [
        "xgscore"
      ],
      "execution_count": 203,
      "outputs": [
        {
          "output_type": "execute_result",
          "data": {
            "text/plain": [
              "0.8187982230535422"
            ]
          },
          "metadata": {
            "tags": []
          },
          "execution_count": 203
        }
      ]
    },
    {
      "cell_type": "code",
      "metadata": {
        "id": "T7_IpDNLShxK",
        "colab_type": "code",
        "colab": {
          "base_uri": "https://localhost:8080/",
          "height": 34
        },
        "outputId": "76b20055-7ce3-431b-bd15-3212f71b3e98"
      },
      "source": [
        "decscore"
      ],
      "execution_count": 204,
      "outputs": [
        {
          "output_type": "execute_result",
          "data": {
            "text/plain": [
              "0.8189151274257658"
            ]
          },
          "metadata": {
            "tags": []
          },
          "execution_count": 204
        }
      ]
    },
    {
      "cell_type": "code",
      "metadata": {
        "id": "zocmmudSSmuQ",
        "colab_type": "code",
        "colab": {}
      },
      "source": [
        "X = [[rfscore, xgscore, decscore], [rff1, xgf1, decf1]]"
      ],
      "execution_count": 0,
      "outputs": []
    },
    {
      "cell_type": "code",
      "metadata": {
        "id": "QSWIWs1fSrdE",
        "colab_type": "code",
        "colab": {}
      },
      "source": [
        "modelDF = pd.DataFrame(X, columns=['Random Forest', 'XGBoost', 'Decision Tree'])"
      ],
      "execution_count": 0,
      "outputs": []
    },
    {
      "cell_type": "code",
      "metadata": {
        "id": "ybxv3aY2S4q_",
        "colab_type": "code",
        "colab": {
          "base_uri": "https://localhost:8080/",
          "height": 111
        },
        "outputId": "f7140e23-d432-4270-c406-243c80f0723d"
      },
      "source": [
        "modelDF.head()"
      ],
      "execution_count": 208,
      "outputs": [
        {
          "output_type": "execute_result",
          "data": {
            "text/html": [
              "<div>\n",
              "<style scoped>\n",
              "    .dataframe tbody tr th:only-of-type {\n",
              "        vertical-align: middle;\n",
              "    }\n",
              "\n",
              "    .dataframe tbody tr th {\n",
              "        vertical-align: top;\n",
              "    }\n",
              "\n",
              "    .dataframe thead th {\n",
              "        text-align: right;\n",
              "    }\n",
              "</style>\n",
              "<table border=\"1\" class=\"dataframe\">\n",
              "  <thead>\n",
              "    <tr style=\"text-align: right;\">\n",
              "      <th></th>\n",
              "      <th>Random Forest</th>\n",
              "      <th>XGBoost</th>\n",
              "      <th>Decision Tree</th>\n",
              "    </tr>\n",
              "  </thead>\n",
              "  <tbody>\n",
              "    <tr>\n",
              "      <th>0</th>\n",
              "      <td>0.818915</td>\n",
              "      <td>0.818798</td>\n",
              "      <td>0.818915</td>\n",
              "    </tr>\n",
              "    <tr>\n",
              "      <th>1</th>\n",
              "      <td>0.800516</td>\n",
              "      <td>0.799647</td>\n",
              "      <td>0.800516</td>\n",
              "    </tr>\n",
              "  </tbody>\n",
              "</table>\n",
              "</div>"
            ],
            "text/plain": [
              "   Random Forest   XGBoost  Decision Tree\n",
              "0       0.818915  0.818798       0.818915\n",
              "1       0.800516  0.799647       0.800516"
            ]
          },
          "metadata": {
            "tags": []
          },
          "execution_count": 208
        }
      ]
    },
    {
      "cell_type": "code",
      "metadata": {
        "id": "rycNFeYOTG-E",
        "colab_type": "code",
        "colab": {}
      },
      "source": [
        "row = modelDF.iloc[0]"
      ],
      "execution_count": 0,
      "outputs": []
    },
    {
      "cell_type": "code",
      "metadata": {
        "id": "rhzyr16zTVj4",
        "colab_type": "code",
        "colab": {
          "base_uri": "https://localhost:8080/",
          "height": 363
        },
        "outputId": "fd2883cb-c246-4c4a-b3f1-dbd3b6efe882"
      },
      "source": [
        "row.plot(kind='bar', title='comparision of models accuracy score for Political Bias')"
      ],
      "execution_count": 214,
      "outputs": [
        {
          "output_type": "execute_result",
          "data": {
            "text/plain": [
              "<matplotlib.axes._subplots.AxesSubplot at 0x7f90538dae10>"
            ]
          },
          "metadata": {
            "tags": []
          },
          "execution_count": 214
        },
        {
          "output_type": "display_data",
          "data": {
            "image/png": "[encoded data removed]",
            "text/plain": [
              "<Figure size 432x288 with 1 Axes>"
            ]
          },
          "metadata": {
            "tags": [],
            "image/png": {
              "width": 372,
              "height": 329
            },
            "needs_background": "light"
          }
        }
      ]
    },
    {
      "cell_type": "code",
      "metadata": {
        "id": "vaMCUXxkTvGh",
        "colab_type": "code",
        "colab": {
          "base_uri": "https://localhost:8080/",
          "height": 363
        },
        "outputId": "a6d44d9b-6d95-4dec-ef3f-ad18a9388232"
      },
      "source": [
        "row = modelDF.iloc[1]\n",
        "row.plot(kind='bar', title='comparision of models f1 score for Political Bias')"
      ],
      "execution_count": 215,
      "outputs": [
        {
          "output_type": "execute_result",
          "data": {
            "text/plain": [
              "<matplotlib.axes._subplots.AxesSubplot at 0x7f9070033fd0>"
            ]
          },
          "metadata": {
            "tags": []
          },
          "execution_count": 215
        },
        {
          "output_type": "display_data",
          "data": {
            "image/png": "[encoded data removed]",
            "text/plain": [
              "<Figure size 432x288 with 1 Axes>"
            ]
          },
          "metadata": {
            "tags": [],
            "image/png": {
              "width": 372,
              "height": 329
            },
            "needs_background": "light"
          }
        }
      ]
    },
    {
      "cell_type": "markdown",
      "metadata": {
        "id": "_lIXbdeVLfAK",
        "colab_type": "text"
      },
      "source": [
        "## Saving the model to pickle file"
      ]
    },
    {
      "cell_type": "code",
      "metadata": {
        "id": "CQKrhjxq10va",
        "colab_type": "code",
        "colab": {}
      },
      "source": [
        "import pickle\n",
        "#write to file\n",
        "with open('/content/gdrive/My Drive/MLSpring2020/the_expendables_AirQuality_Traffic/rf_pb.pkl', 'wb') as f:\n",
        "    pickle.dump(clf, f)\n",
        "\n",
        "#read from file\n",
        "with open('/content/gdrive/My Drive/MLSpring2020/the_expendables_AirQuality_Traffic/rf_pb.pkl', 'rb') as f:\n",
        "    rf = pickle.load(f)"
      ],
      "execution_count": 0,
      "outputs": []
    },
    {
      "cell_type": "code",
      "metadata": {
        "id": "Ap-6ZrR_3QHz",
        "colab_type": "code",
        "outputId": "21a1d9bd-ab85-4a72-907d-aeea311dda49",
        "colab": {
          "base_uri": "https://localhost:8080/",
          "height": 34
        }
      },
      "source": [
        "xtest.shape"
      ],
      "execution_count": 0,
      "outputs": [
        {
          "output_type": "execute_result",
          "data": {
            "text/plain": [
              "(8554, 1)"
            ]
          },
          "metadata": {
            "tags": []
          },
          "execution_count": 1365
        }
      ]
    },
    {
      "cell_type": "code",
      "metadata": {
        "id": "Qr_8GL0z254b",
        "colab_type": "code",
        "colab": {}
      },
      "source": [
        "y_pred = rf.predict(xtest)"
      ],
      "execution_count": 0,
      "outputs": []
    },
    {
      "cell_type": "markdown",
      "metadata": {
        "id": "FPnhbR7qLil7",
        "colab_type": "text"
      },
      "source": [
        "## Verifying the accuracy the loaded model from pickle file"
      ]
    },
    {
      "cell_type": "code",
      "metadata": {
        "id": "fjcRZpZq4i8H",
        "colab_type": "code",
        "outputId": "8a8018db-bfe0-4fb3-95e2-e1f92029351e",
        "colab": {
          "base_uri": "https://localhost:8080/",
          "height": 34
        }
      },
      "source": [
        "accuracy_score(y_test, y_pred)"
      ],
      "execution_count": 0,
      "outputs": [
        {
          "output_type": "execute_result",
          "data": {
            "text/plain": [
              "0.8199672667757774"
            ]
          },
          "metadata": {
            "tags": []
          },
          "execution_count": 1367
        }
      ]
    },
    {
      "cell_type": "code",
      "metadata": {
        "id": "KGeZ-AO9Ngvp",
        "colab_type": "code",
        "outputId": "5a39029f-30f9-4cf5-d731-24bc45bc7e41",
        "colab": {
          "base_uri": "https://localhost:8080/",
          "height": 448
        }
      },
      "source": [
        "df.head(4)"
      ],
      "execution_count": 0,
      "outputs": [
        {
          "output_type": "execute_result",
          "data": {
            "text/html": [
              "<div>\n",
              "<style scoped>\n",
              "    .dataframe tbody tr th:only-of-type {\n",
              "        vertical-align: middle;\n",
              "    }\n",
              "\n",
              "    .dataframe tbody tr th {\n",
              "        vertical-align: top;\n",
              "    }\n",
              "\n",
              "    .dataframe thead th {\n",
              "        text-align: right;\n",
              "    }\n",
              "</style>\n",
              "<table border=\"1\" class=\"dataframe\">\n",
              "  <thead>\n",
              "    <tr style=\"text-align: right;\">\n",
              "      <th></th>\n",
              "      <th>class</th>\n",
              "      <th>statement</th>\n",
              "      <th>subject</th>\n",
              "      <th>speaker</th>\n",
              "      <th>speaker_job_title</th>\n",
              "      <th>state_info</th>\n",
              "      <th>party_affiliation</th>\n",
              "      <th>barely_true_counts</th>\n",
              "      <th>false_counts</th>\n",
              "      <th>half_true_counts</th>\n",
              "      <th>mostly_true_counts</th>\n",
              "      <th>pants_on_fire_counts</th>\n",
              "      <th>context</th>\n",
              "      <th>clean_statement</th>\n",
              "    </tr>\n",
              "  </thead>\n",
              "  <tbody>\n",
              "    <tr>\n",
              "      <th>6240</th>\n",
              "      <td>mostly-true</td>\n",
              "      <td>22 times Barack Obama said he did not have the...</td>\n",
              "      <td>immigration</td>\n",
              "      <td>greg-abbott</td>\n",
              "      <td>governor</td>\n",
              "      <td>Texas</td>\n",
              "      <td>republican</td>\n",
              "      <td>11.0</td>\n",
              "      <td>3.0</td>\n",
              "      <td>8.0</td>\n",
              "      <td>6.0</td>\n",
              "      <td>5.0</td>\n",
              "      <td>an interview with Sean Hannity on Fox News</td>\n",
              "      <td>times barack obama said authority implement ty...</td>\n",
              "    </tr>\n",
              "    <tr>\n",
              "      <th>1695</th>\n",
              "      <td>barely-true</td>\n",
              "      <td>Romneycare has killed 18,000 Massachusetts jobs.</td>\n",
              "      <td>health-care,jobs,message-machine-2012</td>\n",
              "      <td>rick-perry</td>\n",
              "      <td>Governor</td>\n",
              "      <td>Texas</td>\n",
              "      <td>republican</td>\n",
              "      <td>30.0</td>\n",
              "      <td>30.0</td>\n",
              "      <td>42.0</td>\n",
              "      <td>23.0</td>\n",
              "      <td>18.0</td>\n",
              "      <td>a campaign ad</td>\n",
              "      <td>romneycare killed massachusetts jobs</td>\n",
              "    </tr>\n",
              "    <tr>\n",
              "      <th>11068</th>\n",
              "      <td>TRUE</td>\n",
              "      <td>When people enter the service, theres not a me...</td>\n",
              "      <td>health-care,military</td>\n",
              "      <td>michael-mccaul</td>\n",
              "      <td>congressman</td>\n",
              "      <td>Texas</td>\n",
              "      <td>republican</td>\n",
              "      <td>1.0</td>\n",
              "      <td>0.0</td>\n",
              "      <td>1.0</td>\n",
              "      <td>4.0</td>\n",
              "      <td>0.0</td>\n",
              "      <td>comments on \"Fox News Sunday\"</td>\n",
              "      <td>people enter service theres mental health eval...</td>\n",
              "    </tr>\n",
              "    <tr>\n",
              "      <th>2917</th>\n",
              "      <td>pants-fire</td>\n",
              "      <td>The Obama administration was actively supporti...</td>\n",
              "      <td>foreign-policy,military,terrorism</td>\n",
              "      <td>donald-trump</td>\n",
              "      <td>President-Elect</td>\n",
              "      <td>New York</td>\n",
              "      <td>republican</td>\n",
              "      <td>63.0</td>\n",
              "      <td>114.0</td>\n",
              "      <td>51.0</td>\n",
              "      <td>37.0</td>\n",
              "      <td>61.0</td>\n",
              "      <td>a Facebook post</td>\n",
              "      <td>obama administration actively supporting al qa...</td>\n",
              "    </tr>\n",
              "  </tbody>\n",
              "</table>\n",
              "</div>"
            ],
            "text/plain": [
              "             class  ...                                    clean_statement\n",
              "6240   mostly-true  ...  times barack obama said authority implement ty...\n",
              "1695   barely-true  ...               romneycare killed massachusetts jobs\n",
              "11068         TRUE  ...  people enter service theres mental health eval...\n",
              "2917    pants-fire  ...  obama administration actively supporting al qa...\n",
              "\n",
              "[4 rows x 14 columns]"
            ]
          },
          "metadata": {
            "tags": []
          },
          "execution_count": 1368
        }
      ]
    },
    {
      "cell_type": "markdown",
      "metadata": {
        "id": "8fRqGs7gLwY4",
        "colab_type": "text"
      },
      "source": [
        "## Test data separation "
      ]
    },
    {
      "cell_type": "code",
      "metadata": {
        "id": "31GilblcRWaF",
        "colab_type": "code",
        "colab": {}
      },
      "source": [
        "df = df.sort_index(axis=0)"
      ],
      "execution_count": 0,
      "outputs": []
    },
    {
      "cell_type": "markdown",
      "metadata": {
        "id": "JmZW4t_mL4mq",
        "colab_type": "text"
      },
      "source": [
        "## First 3000 rows are considered for model testing"
      ]
    },
    {
      "cell_type": "code",
      "metadata": {
        "id": "8tmq3zkMRq62",
        "colab_type": "code",
        "colab": {}
      },
      "source": [
        "df = df.iloc[0:3000, :]"
      ],
      "execution_count": 0,
      "outputs": []
    },
    {
      "cell_type": "code",
      "metadata": {
        "id": "7Xfh2GoBRvY8",
        "colab_type": "code",
        "outputId": "8f6eee60-4405-495d-b0d6-cbebe5d571c7",
        "colab": {
          "base_uri": "https://localhost:8080/",
          "height": 547
        }
      },
      "source": [
        "df.tail()"
      ],
      "execution_count": 0,
      "outputs": [
        {
          "output_type": "execute_result",
          "data": {
            "text/html": [
              "<div>\n",
              "<style scoped>\n",
              "    .dataframe tbody tr th:only-of-type {\n",
              "        vertical-align: middle;\n",
              "    }\n",
              "\n",
              "    .dataframe tbody tr th {\n",
              "        vertical-align: top;\n",
              "    }\n",
              "\n",
              "    .dataframe thead th {\n",
              "        text-align: right;\n",
              "    }\n",
              "</style>\n",
              "<table border=\"1\" class=\"dataframe\">\n",
              "  <thead>\n",
              "    <tr style=\"text-align: right;\">\n",
              "      <th></th>\n",
              "      <th>class</th>\n",
              "      <th>statement</th>\n",
              "      <th>subject</th>\n",
              "      <th>speaker</th>\n",
              "      <th>speaker_job_title</th>\n",
              "      <th>state_info</th>\n",
              "      <th>party_affiliation</th>\n",
              "      <th>barely_true_counts</th>\n",
              "      <th>false_counts</th>\n",
              "      <th>half_true_counts</th>\n",
              "      <th>mostly_true_counts</th>\n",
              "      <th>pants_on_fire_counts</th>\n",
              "      <th>context</th>\n",
              "      <th>clean_statement</th>\n",
              "    </tr>\n",
              "  </thead>\n",
              "  <tbody>\n",
              "    <tr>\n",
              "      <th>2995</th>\n",
              "      <td>TRUE</td>\n",
              "      <td>Before 2005, the percentage of Texas high scho...</td>\n",
              "      <td>children,education</td>\n",
              "      <td>don-willett</td>\n",
              "      <td>Justice, Place 2, Texas Supreme Court</td>\n",
              "      <td>Texas</td>\n",
              "      <td>republican</td>\n",
              "      <td>0.0</td>\n",
              "      <td>0.0</td>\n",
              "      <td>0.0</td>\n",
              "      <td>0.0</td>\n",
              "      <td>0.0</td>\n",
              "      <td>the majority Texas Supreme Court opinion in Te...</td>\n",
              "      <td>percentage texas high school students meeting ...</td>\n",
              "    </tr>\n",
              "    <tr>\n",
              "      <th>2996</th>\n",
              "      <td>half-true</td>\n",
              "      <td>Obama's liberal fiscal agenda: Over $874-billi...</td>\n",
              "      <td>federal-budget</td>\n",
              "      <td>republican-national-committee-republican</td>\n",
              "      <td>NaN</td>\n",
              "      <td>NaN</td>\n",
              "      <td>republican</td>\n",
              "      <td>6.0</td>\n",
              "      <td>6.0</td>\n",
              "      <td>11.0</td>\n",
              "      <td>5.0</td>\n",
              "      <td>2.0</td>\n",
              "      <td>a graphic on the RNC website.</td>\n",
              "      <td>obamas liberal fiscal agenda billion new spending</td>\n",
              "    </tr>\n",
              "    <tr>\n",
              "      <th>2997</th>\n",
              "      <td>half-true</td>\n",
              "      <td>Tommy Thompson made millions from corporations...</td>\n",
              "      <td>corporations,jobs,message-machine-2012,workers</td>\n",
              "      <td>majority-pac</td>\n",
              "      <td>NaN</td>\n",
              "      <td>NaN</td>\n",
              "      <td>democrat</td>\n",
              "      <td>1.0</td>\n",
              "      <td>0.0</td>\n",
              "      <td>1.0</td>\n",
              "      <td>0.0</td>\n",
              "      <td>0.0</td>\n",
              "      <td>a TV ad</td>\n",
              "      <td>tommy thompson millions corporations outsource...</td>\n",
              "    </tr>\n",
              "    <tr>\n",
              "      <th>2998</th>\n",
              "      <td>FALSE</td>\n",
              "      <td>Georgia has a well-deserved reputation for set...</td>\n",
              "      <td>food-safety</td>\n",
              "      <td>kevin-levitas</td>\n",
              "      <td>NaN</td>\n",
              "      <td>NaN</td>\n",
              "      <td>democrat</td>\n",
              "      <td>0.0</td>\n",
              "      <td>1.0</td>\n",
              "      <td>0.0</td>\n",
              "      <td>0.0</td>\n",
              "      <td>0.0</td>\n",
              "      <td>a press releaase</td>\n",
              "      <td>georgia welldeserved reputation setting gold s...</td>\n",
              "    </tr>\n",
              "    <tr>\n",
              "      <th>2999</th>\n",
              "      <td>barely-true</td>\n",
              "      <td>I asked the unions to pay into their own healt...</td>\n",
              "      <td>health-care,labor,state-budget,state-finances</td>\n",
              "      <td>scott-walker</td>\n",
              "      <td>Milwaukee County Executive</td>\n",
              "      <td>Wisconsin</td>\n",
              "      <td>republican</td>\n",
              "      <td>26.0</td>\n",
              "      <td>41.0</td>\n",
              "      <td>32.0</td>\n",
              "      <td>40.0</td>\n",
              "      <td>11.0</td>\n",
              "      <td>a campaign fundraising letter</td>\n",
              "      <td>asked unions pay health care insurance said un...</td>\n",
              "    </tr>\n",
              "  </tbody>\n",
              "</table>\n",
              "</div>"
            ],
            "text/plain": [
              "            class  ...                                    clean_statement\n",
              "2995         TRUE  ...  percentage texas high school students meeting ...\n",
              "2996    half-true  ...  obamas liberal fiscal agenda billion new spending\n",
              "2997    half-true  ...  tommy thompson millions corporations outsource...\n",
              "2998        FALSE  ...  georgia welldeserved reputation setting gold s...\n",
              "2999  barely-true  ...  asked unions pay health care insurance said un...\n",
              "\n",
              "[5 rows x 14 columns]"
            ]
          },
          "metadata": {
            "tags": []
          },
          "execution_count": 1371
        }
      ]
    },
    {
      "cell_type": "code",
      "metadata": {
        "id": "k8gSvC_0R59d",
        "colab_type": "code",
        "colab": {}
      },
      "source": [
        "def politicalbiasLabel(x):\n",
        "  if (x == 'republican'):\n",
        "    return 0.9\n",
        "  elif (x == 'democrat'):\n",
        "    return 0.7\n",
        "  elif (x == 'libertarian'):\n",
        "    return 0.5\n",
        "  elif (x == 'organization'):\n",
        "    return 0.2\n",
        "  elif (x == 'independent'):\n",
        "    return 0.4\n",
        "  elif (x == 'state-official'):\n",
        "    return 0.35\n",
        "  else:\n",
        "    return 0.1"
      ],
      "execution_count": 0,
      "outputs": []
    },
    {
      "cell_type": "code",
      "metadata": {
        "id": "-lpuAERKdTT9",
        "colab_type": "code",
        "colab": {}
      },
      "source": [
        "df['politicalbias'] = df.party_affiliation.apply(politicalbiasLabel)"
      ],
      "execution_count": 0,
      "outputs": []
    },
    {
      "cell_type": "code",
      "metadata": {
        "id": "S6TdfltWfZns",
        "colab_type": "code",
        "outputId": "4ea89ffc-09ea-4b18-a850-0e6107202188",
        "colab": {
          "base_uri": "https://localhost:8080/",
          "height": 482
        }
      },
      "source": [
        "df.head(4)"
      ],
      "execution_count": 0,
      "outputs": [
        {
          "output_type": "execute_result",
          "data": {
            "text/html": [
              "<div>\n",
              "<style scoped>\n",
              "    .dataframe tbody tr th:only-of-type {\n",
              "        vertical-align: middle;\n",
              "    }\n",
              "\n",
              "    .dataframe tbody tr th {\n",
              "        vertical-align: top;\n",
              "    }\n",
              "\n",
              "    .dataframe thead th {\n",
              "        text-align: right;\n",
              "    }\n",
              "</style>\n",
              "<table border=\"1\" class=\"dataframe\">\n",
              "  <thead>\n",
              "    <tr style=\"text-align: right;\">\n",
              "      <th></th>\n",
              "      <th>class</th>\n",
              "      <th>statement</th>\n",
              "      <th>subject</th>\n",
              "      <th>speaker</th>\n",
              "      <th>speaker_job_title</th>\n",
              "      <th>state_info</th>\n",
              "      <th>party_affiliation</th>\n",
              "      <th>barely_true_counts</th>\n",
              "      <th>false_counts</th>\n",
              "      <th>half_true_counts</th>\n",
              "      <th>mostly_true_counts</th>\n",
              "      <th>pants_on_fire_counts</th>\n",
              "      <th>context</th>\n",
              "      <th>clean_statement</th>\n",
              "      <th>politicalbias</th>\n",
              "    </tr>\n",
              "  </thead>\n",
              "  <tbody>\n",
              "    <tr>\n",
              "      <th>0</th>\n",
              "      <td>FALSE</td>\n",
              "      <td>Says the Annies List political group supports ...</td>\n",
              "      <td>abortion</td>\n",
              "      <td>dwayne-bohac</td>\n",
              "      <td>State representative</td>\n",
              "      <td>Texas</td>\n",
              "      <td>republican</td>\n",
              "      <td>0.0</td>\n",
              "      <td>1.0</td>\n",
              "      <td>0.0</td>\n",
              "      <td>0.0</td>\n",
              "      <td>0.0</td>\n",
              "      <td>a mailer</td>\n",
              "      <td>says annies list political group supports thir...</td>\n",
              "      <td>0.9</td>\n",
              "    </tr>\n",
              "    <tr>\n",
              "      <th>1</th>\n",
              "      <td>half-true</td>\n",
              "      <td>When did the decline of coal start? It started...</td>\n",
              "      <td>energy,history,job-accomplishments</td>\n",
              "      <td>scott-surovell</td>\n",
              "      <td>State delegate</td>\n",
              "      <td>Virginia</td>\n",
              "      <td>democrat</td>\n",
              "      <td>0.0</td>\n",
              "      <td>0.0</td>\n",
              "      <td>1.0</td>\n",
              "      <td>1.0</td>\n",
              "      <td>0.0</td>\n",
              "      <td>a floor speech.</td>\n",
              "      <td>decline coal start started natural gas took st...</td>\n",
              "      <td>0.7</td>\n",
              "    </tr>\n",
              "    <tr>\n",
              "      <th>2</th>\n",
              "      <td>mostly-true</td>\n",
              "      <td>Hillary Clinton agrees with John McCain \"by vo...</td>\n",
              "      <td>foreign-policy</td>\n",
              "      <td>barack-obama</td>\n",
              "      <td>President</td>\n",
              "      <td>Illinois</td>\n",
              "      <td>democrat</td>\n",
              "      <td>70.0</td>\n",
              "      <td>71.0</td>\n",
              "      <td>160.0</td>\n",
              "      <td>163.0</td>\n",
              "      <td>9.0</td>\n",
              "      <td>Denver</td>\n",
              "      <td>hillary clinton agrees john mccain voting geor...</td>\n",
              "      <td>0.7</td>\n",
              "    </tr>\n",
              "    <tr>\n",
              "      <th>3</th>\n",
              "      <td>FALSE</td>\n",
              "      <td>Health care reform legislation is likely to ma...</td>\n",
              "      <td>health-care</td>\n",
              "      <td>blog-posting</td>\n",
              "      <td>NaN</td>\n",
              "      <td>NaN</td>\n",
              "      <td>none</td>\n",
              "      <td>7.0</td>\n",
              "      <td>19.0</td>\n",
              "      <td>3.0</td>\n",
              "      <td>5.0</td>\n",
              "      <td>44.0</td>\n",
              "      <td>a news release</td>\n",
              "      <td>health care reform legislation likely mandate ...</td>\n",
              "      <td>0.1</td>\n",
              "    </tr>\n",
              "  </tbody>\n",
              "</table>\n",
              "</div>"
            ],
            "text/plain": [
              "         class  ... politicalbias\n",
              "0        FALSE  ...           0.9\n",
              "1    half-true  ...           0.7\n",
              "2  mostly-true  ...           0.7\n",
              "3        FALSE  ...           0.1\n",
              "\n",
              "[4 rows x 15 columns]"
            ]
          },
          "metadata": {
            "tags": []
          },
          "execution_count": 1374
        }
      ]
    },
    {
      "cell_type": "code",
      "metadata": {
        "id": "ZARo4mfsfdsT",
        "colab_type": "code",
        "colab": {}
      },
      "source": [
        "final_df = df[['politicalbias']]"
      ],
      "execution_count": 0,
      "outputs": []
    },
    {
      "cell_type": "code",
      "metadata": {
        "id": "ZSSofxjxy4mD",
        "colab_type": "code",
        "outputId": "19acd93c-ed18-4d77-f463-472e742ffdee",
        "colab": {
          "base_uri": "https://localhost:8080/",
          "height": 173
        }
      },
      "source": [
        "final_df.head(4)"
      ],
      "execution_count": 0,
      "outputs": [
        {
          "output_type": "execute_result",
          "data": {
            "text/html": [
              "<div>\n",
              "<style scoped>\n",
              "    .dataframe tbody tr th:only-of-type {\n",
              "        vertical-align: middle;\n",
              "    }\n",
              "\n",
              "    .dataframe tbody tr th {\n",
              "        vertical-align: top;\n",
              "    }\n",
              "\n",
              "    .dataframe thead th {\n",
              "        text-align: right;\n",
              "    }\n",
              "</style>\n",
              "<table border=\"1\" class=\"dataframe\">\n",
              "  <thead>\n",
              "    <tr style=\"text-align: right;\">\n",
              "      <th></th>\n",
              "      <th>politicalbias</th>\n",
              "    </tr>\n",
              "  </thead>\n",
              "  <tbody>\n",
              "    <tr>\n",
              "      <th>0</th>\n",
              "      <td>0.9</td>\n",
              "    </tr>\n",
              "    <tr>\n",
              "      <th>1</th>\n",
              "      <td>0.7</td>\n",
              "    </tr>\n",
              "    <tr>\n",
              "      <th>2</th>\n",
              "      <td>0.7</td>\n",
              "    </tr>\n",
              "    <tr>\n",
              "      <th>3</th>\n",
              "      <td>0.1</td>\n",
              "    </tr>\n",
              "  </tbody>\n",
              "</table>\n",
              "</div>"
            ],
            "text/plain": [
              "   politicalbias\n",
              "0            0.9\n",
              "1            0.7\n",
              "2            0.7\n",
              "3            0.1"
            ]
          },
          "metadata": {
            "tags": []
          },
          "execution_count": 1376
        }
      ]
    },
    {
      "cell_type": "code",
      "metadata": {
        "id": "OWKaiDtAzAAV",
        "colab_type": "code",
        "colab": {}
      },
      "source": [
        "x_test = final_df.values"
      ],
      "execution_count": 0,
      "outputs": []
    },
    {
      "cell_type": "code",
      "metadata": {
        "id": "CpWKRfWDzdhA",
        "colab_type": "code",
        "outputId": "0a05a3d5-1378-450b-bb50-d55b16564c7f",
        "colab": {
          "base_uri": "https://localhost:8080/",
          "height": 34
        }
      },
      "source": [
        "x_test.shape"
      ],
      "execution_count": 0,
      "outputs": [
        {
          "output_type": "execute_result",
          "data": {
            "text/plain": [
              "(3000, 1)"
            ]
          },
          "metadata": {
            "tags": []
          },
          "execution_count": 1378
        }
      ]
    },
    {
      "cell_type": "code",
      "metadata": {
        "id": "6Tm04f4czFOP",
        "colab_type": "code",
        "colab": {}
      },
      "source": [
        "y_pred = rf.predict(x_test)"
      ],
      "execution_count": 0,
      "outputs": []
    },
    {
      "cell_type": "code",
      "metadata": {
        "id": "ca5hhli4zlAy",
        "colab_type": "code",
        "colab": {}
      },
      "source": [
        "y_pred = y_pred.astype(int)"
      ],
      "execution_count": 0,
      "outputs": []
    },
    {
      "cell_type": "code",
      "metadata": {
        "id": "Bs-LDqjx0EeX",
        "colab_type": "code",
        "colab": {}
      },
      "source": [
        "y_text = classlabel_encoder.inverse_transform(y_pred)"
      ],
      "execution_count": 0,
      "outputs": []
    },
    {
      "cell_type": "code",
      "metadata": {
        "id": "uBYAxc5N7crj",
        "colab_type": "code",
        "outputId": "c16a06a9-deef-4d2d-e40f-b815689e4f36",
        "colab": {
          "base_uri": "https://localhost:8080/",
          "height": 34
        }
      },
      "source": [
        "y_text.shape"
      ],
      "execution_count": 0,
      "outputs": [
        {
          "output_type": "execute_result",
          "data": {
            "text/plain": [
              "(3000,)"
            ]
          },
          "metadata": {
            "tags": []
          },
          "execution_count": 1382
        }
      ]
    },
    {
      "cell_type": "code",
      "metadata": {
        "id": "lD-qWSLa1g5-",
        "colab_type": "code",
        "outputId": "6d3f9f6d-deff-4d3c-d96a-1d40c5768f0c",
        "colab": {
          "base_uri": "https://localhost:8080/",
          "height": 34
        }
      },
      "source": [
        "base_dir"
      ],
      "execution_count": 0,
      "outputs": [
        {
          "output_type": "execute_result",
          "data": {
            "text/plain": [
              "'/content/gdrive/My Drive/MLSpring2020/the_expendables_AirQuality_Traffic'"
            ]
          },
          "metadata": {
            "tags": []
          },
          "execution_count": 1383
        }
      ]
    },
    {
      "cell_type": "markdown",
      "metadata": {
        "id": "pHCfyGabMIYo",
        "colab_type": "text"
      },
      "source": [
        "## Loading the csv file containing class verdict given the noderank feature"
      ]
    },
    {
      "cell_type": "code",
      "metadata": {
        "id": "MH0IFdce1Ory",
        "colab_type": "code",
        "colab": {}
      },
      "source": [
        "noderankdf = pd.read_csv(base_dir+'/Alternus_vera/Classification.csv')"
      ],
      "execution_count": 0,
      "outputs": []
    },
    {
      "cell_type": "code",
      "metadata": {
        "id": "zj64ZXMM1vYd",
        "colab_type": "code",
        "outputId": "14e9a8e3-c5a0-41a9-fad4-5efbce46ef40",
        "colab": {
          "base_uri": "https://localhost:8080/",
          "height": 142
        }
      },
      "source": [
        "noderankdf.head(3)"
      ],
      "execution_count": 0,
      "outputs": [
        {
          "output_type": "execute_result",
          "data": {
            "text/html": [
              "<div>\n",
              "<style scoped>\n",
              "    .dataframe tbody tr th:only-of-type {\n",
              "        vertical-align: middle;\n",
              "    }\n",
              "\n",
              "    .dataframe tbody tr th {\n",
              "        vertical-align: top;\n",
              "    }\n",
              "\n",
              "    .dataframe thead th {\n",
              "        text-align: right;\n",
              "    }\n",
              "</style>\n",
              "<table border=\"1\" class=\"dataframe\">\n",
              "  <thead>\n",
              "    <tr style=\"text-align: right;\">\n",
              "      <th></th>\n",
              "      <th>Unnamed: 0</th>\n",
              "      <th>NodeRankClass</th>\n",
              "    </tr>\n",
              "  </thead>\n",
              "  <tbody>\n",
              "    <tr>\n",
              "      <th>0</th>\n",
              "      <td>0</td>\n",
              "      <td>FALSE</td>\n",
              "    </tr>\n",
              "    <tr>\n",
              "      <th>1</th>\n",
              "      <td>1</td>\n",
              "      <td>half-true</td>\n",
              "    </tr>\n",
              "    <tr>\n",
              "      <th>2</th>\n",
              "      <td>2</td>\n",
              "      <td>mostly-true</td>\n",
              "    </tr>\n",
              "  </tbody>\n",
              "</table>\n",
              "</div>"
            ],
            "text/plain": [
              "   Unnamed: 0 NodeRankClass\n",
              "0           0         FALSE\n",
              "1           1     half-true\n",
              "2           2   mostly-true"
            ]
          },
          "metadata": {
            "tags": []
          },
          "execution_count": 1385
        }
      ]
    },
    {
      "cell_type": "code",
      "metadata": {
        "id": "P1oVJS_n7QKu",
        "colab_type": "code",
        "colab": {}
      },
      "source": [
        "noderankdf['politicalbiasClass'] = y_text"
      ],
      "execution_count": 0,
      "outputs": []
    },
    {
      "cell_type": "code",
      "metadata": {
        "id": "H1h48LEw7W7R",
        "colab_type": "code",
        "outputId": "9ad75011-fe30-4b6b-966d-91a214ce20dd",
        "colab": {
          "base_uri": "https://localhost:8080/",
          "height": 142
        }
      },
      "source": [
        "noderankdf.head(3)"
      ],
      "execution_count": 0,
      "outputs": [
        {
          "output_type": "execute_result",
          "data": {
            "text/html": [
              "<div>\n",
              "<style scoped>\n",
              "    .dataframe tbody tr th:only-of-type {\n",
              "        vertical-align: middle;\n",
              "    }\n",
              "\n",
              "    .dataframe tbody tr th {\n",
              "        vertical-align: top;\n",
              "    }\n",
              "\n",
              "    .dataframe thead th {\n",
              "        text-align: right;\n",
              "    }\n",
              "</style>\n",
              "<table border=\"1\" class=\"dataframe\">\n",
              "  <thead>\n",
              "    <tr style=\"text-align: right;\">\n",
              "      <th></th>\n",
              "      <th>Unnamed: 0</th>\n",
              "      <th>NodeRankClass</th>\n",
              "      <th>politicalbiasClass</th>\n",
              "    </tr>\n",
              "  </thead>\n",
              "  <tbody>\n",
              "    <tr>\n",
              "      <th>0</th>\n",
              "      <td>0</td>\n",
              "      <td>FALSE</td>\n",
              "      <td>FALSE</td>\n",
              "    </tr>\n",
              "    <tr>\n",
              "      <th>1</th>\n",
              "      <td>1</td>\n",
              "      <td>half-true</td>\n",
              "      <td>mostly-true</td>\n",
              "    </tr>\n",
              "    <tr>\n",
              "      <th>2</th>\n",
              "      <td>2</td>\n",
              "      <td>mostly-true</td>\n",
              "      <td>mostly-true</td>\n",
              "    </tr>\n",
              "  </tbody>\n",
              "</table>\n",
              "</div>"
            ],
            "text/plain": [
              "   Unnamed: 0 NodeRankClass politicalbiasClass\n",
              "0           0         FALSE              FALSE\n",
              "1           1     half-true        mostly-true\n",
              "2           2   mostly-true        mostly-true"
            ]
          },
          "metadata": {
            "tags": []
          },
          "execution_count": 1387
        }
      ]
    },
    {
      "cell_type": "markdown",
      "metadata": {
        "id": "pzA8GcKkMCVE",
        "colab_type": "text"
      },
      "source": [
        "## Saving the political bias column to the final csv file"
      ]
    },
    {
      "cell_type": "code",
      "metadata": {
        "id": "pZQkYSEM_eTy",
        "colab_type": "code",
        "colab": {}
      },
      "source": [
        "#with open(base_dir + '/Alternus_vera/Classification_2.csv', 'a') as f:\n",
        "#  noderankdf.to_csv(f)"
      ],
      "execution_count": 0,
      "outputs": []
    }
  ]
}