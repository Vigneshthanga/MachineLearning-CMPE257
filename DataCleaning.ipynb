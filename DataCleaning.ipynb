{
  "nbformat": 4,
  "nbformat_minor": 0,
  "metadata": {
    "kernelspec": {
      "display_name": "Python 3",
      "language": "python",
      "name": "python3"
    },
    "language_info": {
      "codemirror_mode": {
        "name": "ipython",
        "version": 3
      },
      "file_extension": ".py",
      "mimetype": "text/x-python",
      "name": "python",
      "nbconvert_exporter": "python",
      "pygments_lexer": "ipython3",
      "version": "3.7.5"
    },
    "colab": {
      "name": "DataCleaning.ipynb",
      "provenance": [],
      "collapsed_sections": [],
      "include_colab_link": true
    }
  },
  "cells": [
    {
      "cell_type": "markdown",
      "metadata": {
        "id": "view-in-github",
        "colab_type": "text"
      },
      "source": [
        "<a href=\"https://colab.research.google.com/github/Vigneshthanga/MachineLearning-CMPE257/blob/master/DataCleaning.ipynb\" target=\"_parent\"><img src=\"https://colab.research.google.com/assets/colab-badge.svg\" alt=\"Open In Colab\"/></a>"
      ]
    },
    {
      "cell_type": "markdown",
      "metadata": {
        "id": "lMD2fdt00nv3",
        "colab_type": "text"
      },
      "source": [
        "#Applied various Clustering Algorithms on Air Quality Data collected from OpenAQ"
      ]
    },
    {
      "cell_type": "markdown",
      "metadata": {
        "id": "gKdSbdDDz5Ns",
        "colab_type": "text"
      },
      "source": [
        "##1. Loading the OpenAQ data from Github. Google drive link: https://drive.google.com/drive/folders/1s8OaT46aZ3Cj6BnZN2whouUzPh7_YsST"
      ]
    },
    {
      "cell_type": "code",
      "metadata": {
        "id": "42uFQT_9-w_b",
        "colab_type": "code",
        "outputId": "3d25dffa-c3be-4ba3-d17a-ce9f2838a2db",
        "colab": {
          "base_uri": "https://localhost:8080/",
          "height": 224
        }
      },
      "source": [
        "!git clone https://github.com/Vigneshthanga/MachineLearning-CMPE257\n",
        "import pandas as pd\n",
        "import numpy as np\n",
        "df = pd.read_csv(\"MachineLearning-CMPE257/AQ_Boston_Cam-Quincy.csv\")\n",
        "df = df.apply(lambda s:s.str.replace('\\'', \"\").str.replace('[', \"\"))\n",
        "df.columns = df.columns.str.strip().str.replace('[', '').str.replace(']', '').str.replace('\\'','')\n",
        "df.drop(df.columns[[10,11,12]], axis=1, inplace=True)\n",
        "df.head(5)"
      ],
      "execution_count": 0,
      "outputs": [
        {
          "output_type": "stream",
          "text": [
            "fatal: destination path 'MachineLearning-CMPE257' already exists and is not an empty directory.\n"
          ],
          "name": "stdout"
        },
        {
          "output_type": "execute_result",
          "data": {
            "text/html": [
              "<div>\n",
              "<style scoped>\n",
              "    .dataframe tbody tr th:only-of-type {\n",
              "        vertical-align: middle;\n",
              "    }\n",
              "\n",
              "    .dataframe tbody tr th {\n",
              "        vertical-align: top;\n",
              "    }\n",
              "\n",
              "    .dataframe thead th {\n",
              "        text-align: right;\n",
              "    }\n",
              "</style>\n",
              "<table border=\"1\" class=\"dataframe\">\n",
              "  <thead>\n",
              "    <tr style=\"text-align: right;\">\n",
              "      <th></th>\n",
              "      <th>location</th>\n",
              "      <th>city</th>\n",
              "      <th>country</th>\n",
              "      <th>utc</th>\n",
              "      <th>local</th>\n",
              "      <th>parameter</th>\n",
              "      <th>value</th>\n",
              "      <th>unit</th>\n",
              "      <th>latitude</th>\n",
              "      <th>longitude</th>\n",
              "    </tr>\n",
              "  </thead>\n",
              "  <tbody>\n",
              "    <tr>\n",
              "      <th>0</th>\n",
              "      <td>Portsmouth</td>\n",
              "      <td>Boston-Cambridge-Quincy</td>\n",
              "      <td>US</td>\n",
              "      <td>2020-02-09T18:00:00.000Z</td>\n",
              "      <td>2020-02-09T13:00:00-05:00</td>\n",
              "      <td>o3</td>\n",
              "      <td>0.035</td>\n",
              "      <td>ppm</td>\n",
              "      <td>43.075371</td>\n",
              "      <td>-70.748017</td>\n",
              "    </tr>\n",
              "    <tr>\n",
              "      <th>1</th>\n",
              "      <td>Odiorne State Park</td>\n",
              "      <td>Boston-Cambridge-Quincy</td>\n",
              "      <td>US</td>\n",
              "      <td>2020-02-09T18:00:00.000Z</td>\n",
              "      <td>2020-02-09T13:00:00-05:00</td>\n",
              "      <td>o3</td>\n",
              "      <td>0.038</td>\n",
              "      <td>ppm</td>\n",
              "      <td>43.045269</td>\n",
              "      <td>-70.713958</td>\n",
              "    </tr>\n",
              "    <tr>\n",
              "      <th>2</th>\n",
              "      <td>Portsmouth</td>\n",
              "      <td>Boston-Cambridge-Quincy</td>\n",
              "      <td>US</td>\n",
              "      <td>2020-02-09T18:00:00.000Z</td>\n",
              "      <td>2020-02-09T13:00:00-05:00</td>\n",
              "      <td>pm10</td>\n",
              "      <td>10</td>\n",
              "      <td>µg/m³</td>\n",
              "      <td>43.075371</td>\n",
              "      <td>-70.748017</td>\n",
              "    </tr>\n",
              "    <tr>\n",
              "      <th>3</th>\n",
              "      <td>Portsmouth</td>\n",
              "      <td>Boston-Cambridge-Quincy</td>\n",
              "      <td>US</td>\n",
              "      <td>2020-02-09T18:00:00.000Z</td>\n",
              "      <td>2020-02-09T13:00:00-05:00</td>\n",
              "      <td>pm25</td>\n",
              "      <td>4.8</td>\n",
              "      <td>µg/m³</td>\n",
              "      <td>43.075371</td>\n",
              "      <td>-70.748017</td>\n",
              "    </tr>\n",
              "    <tr>\n",
              "      <th>4</th>\n",
              "      <td>LYNN</td>\n",
              "      <td>Boston-Cambridge-Quincy</td>\n",
              "      <td>US</td>\n",
              "      <td>2020-02-09T17:00:00.000Z</td>\n",
              "      <td>2020-02-09T12:00:00-05:00</td>\n",
              "      <td>no2</td>\n",
              "      <td>0.008</td>\n",
              "      <td>ppm</td>\n",
              "      <td>42.474701</td>\n",
              "      <td>-70.971901</td>\n",
              "    </tr>\n",
              "  </tbody>\n",
              "</table>\n",
              "</div>"
            ],
            "text/plain": [
              "             location                      city  ...    latitude    longitude\n",
              "0          Portsmouth   Boston-Cambridge-Quincy  ...   43.075371   -70.748017\n",
              "1  Odiorne State Park   Boston-Cambridge-Quincy  ...   43.045269   -70.713958\n",
              "2          Portsmouth   Boston-Cambridge-Quincy  ...   43.075371   -70.748017\n",
              "3          Portsmouth   Boston-Cambridge-Quincy  ...   43.075371   -70.748017\n",
              "4                LYNN   Boston-Cambridge-Quincy  ...   42.474701   -70.971901\n",
              "\n",
              "[5 rows x 10 columns]"
            ]
          },
          "metadata": {
            "tags": []
          },
          "execution_count": 3
        }
      ]
    },
    {
      "cell_type": "markdown",
      "metadata": {
        "id": "gzho8hpA0_bS",
        "colab_type": "text"
      },
      "source": [
        "##2. Change the dtypes of attributes from object to float and encode the location and timestamp."
      ]
    },
    {
      "cell_type": "code",
      "metadata": {
        "id": "dUUiVPJZyOqL",
        "colab_type": "code",
        "outputId": "3b86d079-6847-4f53-932e-3e4206968a1c",
        "colab": {
          "base_uri": "https://localhost:8080/",
          "height": 206
        }
      },
      "source": [
        "df['location'] = df['location'].astype('category')\n",
        "df['location'] = df['location'].cat.codes\n",
        "\n",
        "df['local'] = df['local'].astype('category')\n",
        "df['local'] = df['local'].cat.codes\n",
        "\n",
        "table = pd.pivot_table(df, values='value', index=['location', 'local'], columns=['parameter'], aggfunc=np.sum, fill_value=0)\n",
        "table.reset_index(inplace=True)\n",
        "table.columns = table.columns.str.strip()\n",
        "\n",
        "table['co'] = table['co'].astype(float)\n",
        "table['no2'] = table['no2'].astype(float)\n",
        "table['o3'] = table['o3'].astype(float)\n",
        "table['pm10'] = table['pm10'].astype(float)\n",
        "table['pm25'] = table['pm25'].astype(float)\n",
        "table['so2'] = table['so2'].astype(float)\n",
        "table.head(5)"
      ],
      "execution_count": 0,
      "outputs": [
        {
          "output_type": "execute_result",
          "data": {
            "text/html": [
              "<div>\n",
              "<style scoped>\n",
              "    .dataframe tbody tr th:only-of-type {\n",
              "        vertical-align: middle;\n",
              "    }\n",
              "\n",
              "    .dataframe tbody tr th {\n",
              "        vertical-align: top;\n",
              "    }\n",
              "\n",
              "    .dataframe thead th {\n",
              "        text-align: right;\n",
              "    }\n",
              "</style>\n",
              "<table border=\"1\" class=\"dataframe\">\n",
              "  <thead>\n",
              "    <tr style=\"text-align: right;\">\n",
              "      <th>parameter</th>\n",
              "      <th>location</th>\n",
              "      <th>local</th>\n",
              "      <th>co</th>\n",
              "      <th>no2</th>\n",
              "      <th>o3</th>\n",
              "      <th>pm10</th>\n",
              "      <th>pm25</th>\n",
              "      <th>so2</th>\n",
              "    </tr>\n",
              "  </thead>\n",
              "  <tbody>\n",
              "    <tr>\n",
              "      <th>0</th>\n",
              "      <td>0</td>\n",
              "      <td>0</td>\n",
              "      <td>0.0</td>\n",
              "      <td>0.008</td>\n",
              "      <td>0.0</td>\n",
              "      <td>0.0</td>\n",
              "      <td>0.0</td>\n",
              "      <td>0.0</td>\n",
              "    </tr>\n",
              "    <tr>\n",
              "      <th>1</th>\n",
              "      <td>0</td>\n",
              "      <td>1</td>\n",
              "      <td>0.0</td>\n",
              "      <td>0.009</td>\n",
              "      <td>0.0</td>\n",
              "      <td>0.0</td>\n",
              "      <td>0.0</td>\n",
              "      <td>0.0</td>\n",
              "    </tr>\n",
              "    <tr>\n",
              "      <th>2</th>\n",
              "      <td>0</td>\n",
              "      <td>2</td>\n",
              "      <td>0.0</td>\n",
              "      <td>0.008</td>\n",
              "      <td>0.0</td>\n",
              "      <td>0.0</td>\n",
              "      <td>0.0</td>\n",
              "      <td>0.0</td>\n",
              "    </tr>\n",
              "    <tr>\n",
              "      <th>3</th>\n",
              "      <td>0</td>\n",
              "      <td>3</td>\n",
              "      <td>0.0</td>\n",
              "      <td>0.008</td>\n",
              "      <td>0.0</td>\n",
              "      <td>0.0</td>\n",
              "      <td>0.0</td>\n",
              "      <td>0.0</td>\n",
              "    </tr>\n",
              "    <tr>\n",
              "      <th>4</th>\n",
              "      <td>0</td>\n",
              "      <td>4</td>\n",
              "      <td>0.0</td>\n",
              "      <td>0.007</td>\n",
              "      <td>0.0</td>\n",
              "      <td>0.0</td>\n",
              "      <td>0.0</td>\n",
              "      <td>0.0</td>\n",
              "    </tr>\n",
              "  </tbody>\n",
              "</table>\n",
              "</div>"
            ],
            "text/plain": [
              "parameter  location  local   co    no2   o3  pm10  pm25  so2\n",
              "0                 0      0  0.0  0.008  0.0   0.0   0.0  0.0\n",
              "1                 0      1  0.0  0.009  0.0   0.0   0.0  0.0\n",
              "2                 0      2  0.0  0.008  0.0   0.0   0.0  0.0\n",
              "3                 0      3  0.0  0.008  0.0   0.0   0.0  0.0\n",
              "4                 0      4  0.0  0.007  0.0   0.0   0.0  0.0"
            ]
          },
          "metadata": {
            "tags": []
          },
          "execution_count": 4
        }
      ]
    },
    {
      "cell_type": "markdown",
      "metadata": {
        "id": "ADoQUmI-471w",
        "colab_type": "text"
      },
      "source": [
        "##3. Indexing the dataframe column with index values."
      ]
    },
    {
      "cell_type": "code",
      "metadata": {
        "id": "D-WN32Rf7k_Q",
        "colab_type": "code",
        "outputId": "36ab18f4-00ee-4f13-f4f7-a37ce30ba0c0",
        "colab": {
          "base_uri": "https://localhost:8080/",
          "height": 225
        }
      },
      "source": [
        "#co - 2nd column\n",
        "print(table.iloc[:,3])"
      ],
      "execution_count": 0,
      "outputs": [
        {
          "output_type": "stream",
          "text": [
            "0       0.008\n",
            "1       0.009\n",
            "2       0.008\n",
            "3       0.008\n",
            "4       0.007\n",
            "        ...  \n",
            "3862    0.000\n",
            "3863    0.000\n",
            "3864    0.000\n",
            "3865    0.000\n",
            "3866    0.000\n",
            "Name: no2, Length: 3867, dtype: float64\n"
          ],
          "name": "stdout"
        }
      ]
    },
    {
      "cell_type": "markdown",
      "metadata": {
        "id": "Lv4NMcau1KXK",
        "colab_type": "text"
      },
      "source": [
        "##4. Plotting the Elbow curve to identify the K value for K-Means Clustering."
      ]
    },
    {
      "cell_type": "code",
      "metadata": {
        "id": "RJmD_uS9ydW6",
        "colab_type": "code",
        "outputId": "a0cf1724-5071-4f42-c069-f5d0cd22fb7c",
        "colab": {
          "base_uri": "https://localhost:8080/",
          "height": 295
        }
      },
      "source": [
        "from sklearn.cluster import KMeans\n",
        "import matplotlib.pyplot as plt\n",
        "import matplotlib.cm as cm\n",
        "import seaborn as sns\n",
        "X = table.iloc[:,[3,6]].values\n",
        "score = []\n",
        "\n",
        "for cluster in range(1,11):\n",
        "    kmeans = KMeans(n_clusters = cluster, init=\"k-means++\", random_state=10)\n",
        "    kmeans.fit(X)\n",
        "    score.append(kmeans.inertia_)\n",
        "plt.plot(range(1,11), score)\n",
        "plt.title('The Elbow Method')\n",
        "plt.xlabel('no of clusters')\n",
        "plt.ylabel('wcss')\n",
        "plt.show()"
      ],
      "execution_count": 0,
      "outputs": [
        {
          "output_type": "display_data",
          "data": {
            "image/png": "[encoded data removed]",
            "text/plain": [
              "<Figure size 432x288 with 1 Axes>"
            ]
          },
          "metadata": {
            "tags": []
          }
        }
      ]
    },
    {
      "cell_type": "markdown",
      "metadata": {
        "id": "vyraIjb-1OQr",
        "colab_type": "text"
      },
      "source": [
        "##5. Building K-Means cluster using sklearn library."
      ]
    },
    {
      "cell_type": "code",
      "metadata": {
        "id": "ElCbXr_lyaAo",
        "colab_type": "code",
        "outputId": "dce4c458-69c8-4851-d89f-964923eff40e",
        "colab": {
          "base_uri": "https://localhost:8080/",
          "height": 34
        }
      },
      "source": [
        "from sklearn.cluster import KMeans\n",
        "kmeans = KMeans(n_clusters=3)\n",
        "kmeans.fit(X)\n",
        "y_kmeans = kmeans.predict(X)\n",
        "print(y_kmeans)"
      ],
      "execution_count": 0,
      "outputs": [
        {
          "output_type": "stream",
          "text": [
            "[1 1 1 ... 0 0 0]\n"
          ],
          "name": "stdout"
        }
      ]
    },
    {
      "cell_type": "markdown",
      "metadata": {
        "id": "aOIJZnOg1YOR",
        "colab_type": "text"
      },
      "source": [
        "##6. Plotting the K-Means cluster using Matplotlib library."
      ]
    },
    {
      "cell_type": "code",
      "metadata": {
        "id": "YMDpSo8_5DKQ",
        "colab_type": "code",
        "outputId": "e07d4d3b-be7e-4c3b-bea3-d00906dbd865",
        "colab": {
          "base_uri": "https://localhost:8080/",
          "height": 295
        }
      },
      "source": [
        "plt.scatter(X[y_kmeans == 0, 0], X[y_kmeans == 0, 1], s = 100, c = 'red', label = 'Cluster 1')\n",
        "plt.scatter(X[y_kmeans == 1, 0], X[y_kmeans == 1, 1], s = 100, c = 'blue', label = 'Cluster 2')\n",
        "plt.scatter(X[y_kmeans == 2, 0], X[y_kmeans == 2, 1], s = 100, c = 'green', label = 'Cluster 3')\n",
        "#plt.scatter(X[y_kmeans == 3, 0], X[y_kmeans == 3, 1], s = 100, c = 'cyan', label = 'Cluster 4')\n",
        "#plt.scatter(X[y_kmeans == 4, 0], X[y_kmeans == 4, 1], s = 100, c = 'magenta', label = 'Cluster 5')\n",
        "plt.scatter(kmeans.cluster_centers_[:, 0], kmeans.cluster_centers_[:, 1], s = 300, c = 'yellow', label = 'Centroids')\n",
        "plt.title('Clusters of pollutants')\n",
        "plt.xlabel('location')\n",
        "plt.ylabel('no2')\n",
        "plt.legend()\n",
        "plt.show()"
      ],
      "execution_count": 0,
      "outputs": [
        {
          "output_type": "display_data",
          "data": {
            "image/png": "[encoded data removed]",
            "text/plain": [
              "<Figure size 432x288 with 1 Axes>"
            ]
          },
          "metadata": {
            "tags": []
          }
        }
      ]
    },
    {
      "cell_type": "markdown",
      "metadata": {
        "id": "WfAd_CiSzCg3",
        "colab_type": "text"
      },
      "source": [
        "##7. K-Means Clustering implemented using TensorFlow (Cluster output matches with that of Sklearn)"
      ]
    },
    {
      "cell_type": "code",
      "metadata": {
        "id": "yFyBGr-bgx7T",
        "colab_type": "code",
        "outputId": "44a4f899-a2cc-4d0a-8e9d-1e31cdf5ae3c",
        "colab": {
          "base_uri": "https://localhost:8080/",
          "height": 416
        }
      },
      "source": [
        "import matplotlib.pyplot as plt\n",
        "import numpy as np\n",
        "import tensorflow as tf\n",
        "\n",
        "#points_n = 200\n",
        "clusters_n = 3\n",
        "iteration_n = 100\n",
        "\n",
        "#points = tf.constant(np.random.uniform(0, 10, (points_n, 2)))\n",
        "points = table.iloc[:,[3,6]].values\n",
        "centroids = tf.Variable(tf.slice(tf.random_shuffle(points), [0, 0], [clusters_n, -1]))\n",
        "\n",
        "points_expanded = tf.expand_dims(points, 0)\n",
        "centroids_expanded = tf.expand_dims(centroids, 1)\n",
        "\n",
        "distances = tf.reduce_sum(tf.square(tf.subtract(points_expanded, centroids_expanded)), 2)\n",
        "assignments = tf.argmin(distances, 0)\n",
        "\n",
        "means = []\n",
        "for c in range(clusters_n):\n",
        "    means.append(tf.reduce_mean(\n",
        "      tf.gather(points, \n",
        "                tf.reshape(\n",
        "                  tf.where(\n",
        "                    tf.equal(assignments, c)\n",
        "                  ),[1,-1])\n",
        "               ),reduction_indices=[1]))\n",
        "\n",
        "new_centroids = tf.concat(means, 0)\n",
        "\n",
        "update_centroids = tf.assign(centroids, new_centroids)\n",
        "init = tf.global_variables_initializer()\n",
        "\n",
        "#converting the points from numpy array to tensorflow\n",
        "data_tf = tf.convert_to_tensor(points, np.float32)\n",
        "\n",
        "with tf.Session() as sess:\n",
        "  sess.run(init)\n",
        "  for step in range(iteration_n):\n",
        "    [_, centroid_values, points_values, assignment_values] = sess.run([update_centroids, centroids, data_tf, assignments])\n",
        "    \n",
        "  print(\"centroids\", centroid_values)\n",
        "\n",
        "plt.scatter(points_values[:, 0], points_values[:, 1], c=assignment_values, s=50, alpha=0.5)\n",
        "plt.plot(centroid_values[:, 0], centroid_values[:, 1], 'kx', markersize=15)\n",
        "plt.show()"
      ],
      "execution_count": 0,
      "outputs": [
        {
          "output_type": "display_data",
          "data": {
            "text/html": [
              "<p style=\"color: red;\">\n",
              "The default version of TensorFlow in Colab will soon switch to TensorFlow 2.x.<br>\n",
              "We recommend you <a href=\"https://www.tensorflow.org/guide/migrate\" target=\"_blank\">upgrade</a> now \n",
              "or ensure your notebook will continue to use TensorFlow 1.x via the <code>%tensorflow_version 1.x</code> magic:\n",
              "<a href=\"https://colab.research.google.com/notebooks/tensorflow_version.ipynb\" target=\"_blank\">more info</a>.</p>\n"
            ],
            "text/plain": [
              "<IPython.core.display.HTML object>"
            ]
          },
          "metadata": {
            "tags": []
          }
        },
        {
          "output_type": "stream",
          "text": [
            "WARNING:tensorflow:From <ipython-input-9-78c09515b525>:25: where (from tensorflow.python.ops.array_ops) is deprecated and will be removed in a future version.\n",
            "Instructions for updating:\n",
            "Use tf.where in 2.0, which has the same broadcast rule as np.where\n",
            "centroids [[6.64012185e-03 1.08833768e-01]\n",
            " [5.42071494e-03 5.45334555e+00]\n",
            " [1.31297071e-02 1.35407950e+01]]\n"
          ],
          "name": "stdout"
        },
        {
          "output_type": "display_data",
          "data": {
            "image/png": "[encoded data removed]",
            "text/plain": [
              "<Figure size 432x288 with 1 Axes>"
            ]
          },
          "metadata": {
            "tags": []
          }
        }
      ]
    },
    {
      "cell_type": "markdown",
      "metadata": {
        "id": "l4auqqMVzXxa",
        "colab_type": "text"
      },
      "source": [
        "##8. Hierachical Clustering using Sklearn library"
      ]
    },
    {
      "cell_type": "code",
      "metadata": {
        "id": "xfl7_00ntoLj",
        "colab_type": "code",
        "outputId": "afcbac2b-5898-4b5b-b444-a93ac61c5906",
        "colab": {
          "base_uri": "https://localhost:8080/",
          "height": 298
        }
      },
      "source": [
        "from sklearn.cluster import AgglomerativeClustering\n",
        "from scipy.cluster.hierarchy import dendrogram\n",
        "\n",
        "def plot_dendrogram(model, **kwargs):\n",
        "    # Create linkage matrix and then plot the dendrogram\n",
        "\n",
        "    # create the counts of samples under each node\n",
        "    counts = np.zeros(model.children_.shape[0])\n",
        "    n_samples = len(model.labels_)\n",
        "    for i, merge in enumerate(model.children_):\n",
        "        current_count = 0\n",
        "        for child_idx in merge:\n",
        "            if child_idx < n_samples:\n",
        "                current_count += 1  # leaf node\n",
        "            else:\n",
        "                current_count += counts[child_idx - n_samples]\n",
        "        counts[i] = current_count\n",
        "\n",
        "    linkage_matrix = np.column_stack([model.children_, model.distances_,\n",
        "                                      counts]).astype(float)\n",
        "\n",
        "    # Plot the corresponding dendrogram\n",
        "    dendrogram(linkage_matrix, **kwargs)\n",
        "\n",
        "model = AgglomerativeClustering(distance_threshold=0, n_clusters=None)\n",
        "\n",
        "model = model.fit(table)\n",
        "\n",
        "plt.title('Hierarchical Clustering Dendrogram')\n",
        "# plot the top three levels of the dendrogram\n",
        "plot_dendrogram(model, truncate_mode='level', p=3)\n",
        "plt.xlabel(\"Number of points in node (or index of point if no parenthesis).\")\n",
        "plt.show()\n"
      ],
      "execution_count": 0,
      "outputs": [
        {
          "output_type": "display_data",
          "data": {
            "image/png": "[encoded data removed]",
            "text/plain": [
              "<Figure size 432x288 with 1 Axes>"
            ]
          },
          "metadata": {
            "tags": []
          }
        }
      ]
    }
  ]
}