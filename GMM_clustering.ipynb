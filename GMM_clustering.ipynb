{
  "nbformat": 4,
  "nbformat_minor": 0,
  "metadata": {
    "kernelspec": {
      "display_name": "Python 3",
      "language": "python",
      "name": "python3"
    },
    "language_info": {
      "codemirror_mode": {
        "name": "ipython",
        "version": 3
      },
      "file_extension": ".py",
      "mimetype": "text/x-python",
      "name": "python",
      "nbconvert_exporter": "python",
      "pygments_lexer": "ipython3",
      "version": "3.7.5"
    },
    "colab": {
      "name": "GMM_clustering.ipynb",
      "provenance": [],
      "collapsed_sections": [],
      "include_colab_link": true
    }
  },
  "cells": [
    {
      "cell_type": "markdown",
      "metadata": {
        "id": "view-in-github",
        "colab_type": "text"
      },
      "source": [
        "<a href=\"https://colab.research.google.com/github/Vigneshthanga/MachineLearning-CMPE257/blob/master/GMM_clustering.ipynb\" target=\"_parent\"><img src=\"https://colab.research.google.com/assets/colab-badge.svg\" alt=\"Open In Colab\"/></a>"
      ]
    },
    {
      "cell_type": "markdown",
      "metadata": {
        "id": "lMD2fdt00nv3",
        "colab_type": "text"
      },
      "source": [
        "#Comparission of K-Means and GMM Clustering on Air Quality Data collected from OpenAQ"
      ]
    },
    {
      "cell_type": "code",
      "metadata": {
        "id": "6SL2wqDtZDxC",
        "colab_type": "code",
        "outputId": "ea1f3165-1dc6-481b-e516-c8cf081ccd4c",
        "colab": {
          "base_uri": "https://localhost:8080/",
          "height": 34
        }
      },
      "source": [
        "!git clone https://github.com/Vigneshthanga/MachineLearning-CMPE257"
      ],
      "execution_count": 0,
      "outputs": [
        {
          "output_type": "stream",
          "text": [
            "fatal: destination path 'MachineLearning-CMPE257' already exists and is not an empty directory.\n"
          ],
          "name": "stdout"
        }
      ]
    },
    {
      "cell_type": "markdown",
      "metadata": {
        "id": "gKdSbdDDz5Ns",
        "colab_type": "text"
      },
      "source": [
        "##1. Loading the OpenAQ data from google drive. Google drive link: https://drive.google.com/open?id=1PwsdbPXpxXvRi0NOJakvR06cRS2hxF4D"
      ]
    },
    {
      "cell_type": "code",
      "metadata": {
        "id": "42uFQT_9-w_b",
        "colab_type": "code",
        "outputId": "b5dd0bf6-f8d6-4b98-d5c0-79216f4e060f",
        "colab": {
          "base_uri": "https://localhost:8080/",
          "height": 206
        }
      },
      "source": [
        "import pandas as pd\n",
        "df = pd.read_csv(\"MachineLearning-CMPE257/AQ_Boston_Cam-Quincy.csv\")\n",
        "df = df.apply(lambda s:s.str.replace('\\'', \"\").str.replace('[', \"\"))\n",
        "df.columns = df.columns.str.strip().str.replace('[', '').str.replace(']', '').str.replace('\\'','')\n",
        "df.drop(df.columns[[10,11,12]], axis=1, inplace=True)\n",
        "df.head(5)"
      ],
      "execution_count": 0,
      "outputs": [
        {
          "output_type": "execute_result",
          "data": {
            "text/html": [
              "<div>\n",
              "<style scoped>\n",
              "    .dataframe tbody tr th:only-of-type {\n",
              "        vertical-align: middle;\n",
              "    }\n",
              "\n",
              "    .dataframe tbody tr th {\n",
              "        vertical-align: top;\n",
              "    }\n",
              "\n",
              "    .dataframe thead th {\n",
              "        text-align: right;\n",
              "    }\n",
              "</style>\n",
              "<table border=\"1\" class=\"dataframe\">\n",
              "  <thead>\n",
              "    <tr style=\"text-align: right;\">\n",
              "      <th></th>\n",
              "      <th>location</th>\n",
              "      <th>city</th>\n",
              "      <th>country</th>\n",
              "      <th>utc</th>\n",
              "      <th>local</th>\n",
              "      <th>parameter</th>\n",
              "      <th>value</th>\n",
              "      <th>unit</th>\n",
              "      <th>latitude</th>\n",
              "      <th>longitude</th>\n",
              "    </tr>\n",
              "  </thead>\n",
              "  <tbody>\n",
              "    <tr>\n",
              "      <th>0</th>\n",
              "      <td>Portsmouth</td>\n",
              "      <td>Boston-Cambridge-Quincy</td>\n",
              "      <td>US</td>\n",
              "      <td>2020-02-09T18:00:00.000Z</td>\n",
              "      <td>2020-02-09T13:00:00-05:00</td>\n",
              "      <td>o3</td>\n",
              "      <td>0.035</td>\n",
              "      <td>ppm</td>\n",
              "      <td>43.075371</td>\n",
              "      <td>-70.748017</td>\n",
              "    </tr>\n",
              "    <tr>\n",
              "      <th>1</th>\n",
              "      <td>Odiorne State Park</td>\n",
              "      <td>Boston-Cambridge-Quincy</td>\n",
              "      <td>US</td>\n",
              "      <td>2020-02-09T18:00:00.000Z</td>\n",
              "      <td>2020-02-09T13:00:00-05:00</td>\n",
              "      <td>o3</td>\n",
              "      <td>0.038</td>\n",
              "      <td>ppm</td>\n",
              "      <td>43.045269</td>\n",
              "      <td>-70.713958</td>\n",
              "    </tr>\n",
              "    <tr>\n",
              "      <th>2</th>\n",
              "      <td>Portsmouth</td>\n",
              "      <td>Boston-Cambridge-Quincy</td>\n",
              "      <td>US</td>\n",
              "      <td>2020-02-09T18:00:00.000Z</td>\n",
              "      <td>2020-02-09T13:00:00-05:00</td>\n",
              "      <td>pm10</td>\n",
              "      <td>10</td>\n",
              "      <td>µg/m³</td>\n",
              "      <td>43.075371</td>\n",
              "      <td>-70.748017</td>\n",
              "    </tr>\n",
              "    <tr>\n",
              "      <th>3</th>\n",
              "      <td>Portsmouth</td>\n",
              "      <td>Boston-Cambridge-Quincy</td>\n",
              "      <td>US</td>\n",
              "      <td>2020-02-09T18:00:00.000Z</td>\n",
              "      <td>2020-02-09T13:00:00-05:00</td>\n",
              "      <td>pm25</td>\n",
              "      <td>4.8</td>\n",
              "      <td>µg/m³</td>\n",
              "      <td>43.075371</td>\n",
              "      <td>-70.748017</td>\n",
              "    </tr>\n",
              "    <tr>\n",
              "      <th>4</th>\n",
              "      <td>LYNN</td>\n",
              "      <td>Boston-Cambridge-Quincy</td>\n",
              "      <td>US</td>\n",
              "      <td>2020-02-09T17:00:00.000Z</td>\n",
              "      <td>2020-02-09T12:00:00-05:00</td>\n",
              "      <td>no2</td>\n",
              "      <td>0.008</td>\n",
              "      <td>ppm</td>\n",
              "      <td>42.474701</td>\n",
              "      <td>-70.971901</td>\n",
              "    </tr>\n",
              "  </tbody>\n",
              "</table>\n",
              "</div>"
            ],
            "text/plain": [
              "             location                      city  ...    latitude    longitude\n",
              "0          Portsmouth   Boston-Cambridge-Quincy  ...   43.075371   -70.748017\n",
              "1  Odiorne State Park   Boston-Cambridge-Quincy  ...   43.045269   -70.713958\n",
              "2          Portsmouth   Boston-Cambridge-Quincy  ...   43.075371   -70.748017\n",
              "3          Portsmouth   Boston-Cambridge-Quincy  ...   43.075371   -70.748017\n",
              "4                LYNN   Boston-Cambridge-Quincy  ...   42.474701   -70.971901\n",
              "\n",
              "[5 rows x 10 columns]"
            ]
          },
          "metadata": {
            "tags": []
          },
          "execution_count": 383
        }
      ]
    },
    {
      "cell_type": "markdown",
      "metadata": {
        "id": "qgICV0NpIuuY",
        "colab_type": "text"
      },
      "source": [
        "##2. Converting 'local' columns to datetime format and saving it in 'local_time' column"
      ]
    },
    {
      "cell_type": "code",
      "metadata": {
        "id": "OuutvTTiIvBb",
        "colab_type": "code",
        "outputId": "35420403-d78b-45a3-fb34-7f7e9f9da11a",
        "colab": {
          "base_uri": "https://localhost:8080/",
          "height": 206
        }
      },
      "source": [
        "df['local_time'] = pd.to_datetime(df.local)\n",
        "df.dtypes\n",
        "df.head()"
      ],
      "execution_count": 0,
      "outputs": [
        {
          "output_type": "execute_result",
          "data": {
            "text/html": [
              "<div>\n",
              "<style scoped>\n",
              "    .dataframe tbody tr th:only-of-type {\n",
              "        vertical-align: middle;\n",
              "    }\n",
              "\n",
              "    .dataframe tbody tr th {\n",
              "        vertical-align: top;\n",
              "    }\n",
              "\n",
              "    .dataframe thead th {\n",
              "        text-align: right;\n",
              "    }\n",
              "</style>\n",
              "<table border=\"1\" class=\"dataframe\">\n",
              "  <thead>\n",
              "    <tr style=\"text-align: right;\">\n",
              "      <th></th>\n",
              "      <th>location</th>\n",
              "      <th>city</th>\n",
              "      <th>country</th>\n",
              "      <th>utc</th>\n",
              "      <th>local</th>\n",
              "      <th>parameter</th>\n",
              "      <th>value</th>\n",
              "      <th>unit</th>\n",
              "      <th>latitude</th>\n",
              "      <th>longitude</th>\n",
              "      <th>local_time</th>\n",
              "    </tr>\n",
              "  </thead>\n",
              "  <tbody>\n",
              "    <tr>\n",
              "      <th>0</th>\n",
              "      <td>Portsmouth</td>\n",
              "      <td>Boston-Cambridge-Quincy</td>\n",
              "      <td>US</td>\n",
              "      <td>2020-02-09T18:00:00.000Z</td>\n",
              "      <td>2020-02-09T13:00:00-05:00</td>\n",
              "      <td>o3</td>\n",
              "      <td>0.035</td>\n",
              "      <td>ppm</td>\n",
              "      <td>43.075371</td>\n",
              "      <td>-70.748017</td>\n",
              "      <td>2020-02-09 13:00:00-05:00</td>\n",
              "    </tr>\n",
              "    <tr>\n",
              "      <th>1</th>\n",
              "      <td>Odiorne State Park</td>\n",
              "      <td>Boston-Cambridge-Quincy</td>\n",
              "      <td>US</td>\n",
              "      <td>2020-02-09T18:00:00.000Z</td>\n",
              "      <td>2020-02-09T13:00:00-05:00</td>\n",
              "      <td>o3</td>\n",
              "      <td>0.038</td>\n",
              "      <td>ppm</td>\n",
              "      <td>43.045269</td>\n",
              "      <td>-70.713958</td>\n",
              "      <td>2020-02-09 13:00:00-05:00</td>\n",
              "    </tr>\n",
              "    <tr>\n",
              "      <th>2</th>\n",
              "      <td>Portsmouth</td>\n",
              "      <td>Boston-Cambridge-Quincy</td>\n",
              "      <td>US</td>\n",
              "      <td>2020-02-09T18:00:00.000Z</td>\n",
              "      <td>2020-02-09T13:00:00-05:00</td>\n",
              "      <td>pm10</td>\n",
              "      <td>10</td>\n",
              "      <td>µg/m³</td>\n",
              "      <td>43.075371</td>\n",
              "      <td>-70.748017</td>\n",
              "      <td>2020-02-09 13:00:00-05:00</td>\n",
              "    </tr>\n",
              "    <tr>\n",
              "      <th>3</th>\n",
              "      <td>Portsmouth</td>\n",
              "      <td>Boston-Cambridge-Quincy</td>\n",
              "      <td>US</td>\n",
              "      <td>2020-02-09T18:00:00.000Z</td>\n",
              "      <td>2020-02-09T13:00:00-05:00</td>\n",
              "      <td>pm25</td>\n",
              "      <td>4.8</td>\n",
              "      <td>µg/m³</td>\n",
              "      <td>43.075371</td>\n",
              "      <td>-70.748017</td>\n",
              "      <td>2020-02-09 13:00:00-05:00</td>\n",
              "    </tr>\n",
              "    <tr>\n",
              "      <th>4</th>\n",
              "      <td>LYNN</td>\n",
              "      <td>Boston-Cambridge-Quincy</td>\n",
              "      <td>US</td>\n",
              "      <td>2020-02-09T17:00:00.000Z</td>\n",
              "      <td>2020-02-09T12:00:00-05:00</td>\n",
              "      <td>no2</td>\n",
              "      <td>0.008</td>\n",
              "      <td>ppm</td>\n",
              "      <td>42.474701</td>\n",
              "      <td>-70.971901</td>\n",
              "      <td>2020-02-09 12:00:00-05:00</td>\n",
              "    </tr>\n",
              "  </tbody>\n",
              "</table>\n",
              "</div>"
            ],
            "text/plain": [
              "             location  ...                local_time\n",
              "0          Portsmouth  ... 2020-02-09 13:00:00-05:00\n",
              "1  Odiorne State Park  ... 2020-02-09 13:00:00-05:00\n",
              "2          Portsmouth  ... 2020-02-09 13:00:00-05:00\n",
              "3          Portsmouth  ... 2020-02-09 13:00:00-05:00\n",
              "4                LYNN  ... 2020-02-09 12:00:00-05:00\n",
              "\n",
              "[5 rows x 11 columns]"
            ]
          },
          "metadata": {
            "tags": []
          },
          "execution_count": 384
        }
      ]
    },
    {
      "cell_type": "code",
      "metadata": {
        "id": "uOThmmcnKhyn",
        "colab_type": "code",
        "outputId": "b8dc3896-7ad1-4148-e31f-736407a8acea",
        "colab": {
          "base_uri": "https://localhost:8080/",
          "height": 243
        }
      },
      "source": [
        "import datetime\n",
        "df['date'] = pd.DatetimeIndex(df['local_time']).date\n",
        "df['date'] = df['date'].apply(lambda x: x.strftime('%Y-%m-%d'))\n",
        "x = datetime.datetime(2020,2,9)\n",
        "is_feb9 = df['date'] == x\n",
        "is_portsmouth = df['location'] == \"Portsmouth\"\n",
        "df.dtypes"
      ],
      "execution_count": 0,
      "outputs": [
        {
          "output_type": "execute_result",
          "data": {
            "text/plain": [
              "location                                      object\n",
              "city                                          object\n",
              "country                                       object\n",
              "utc                                           object\n",
              "local                                         object\n",
              "parameter                                     object\n",
              "value                                         object\n",
              "unit                                          object\n",
              "latitude                                      object\n",
              "longitude                                     object\n",
              "local_time    datetime64[ns, pytz.FixedOffset(-300)]\n",
              "date                                          object\n",
              "dtype: object"
            ]
          },
          "metadata": {
            "tags": []
          },
          "execution_count": 385
        }
      ]
    },
    {
      "cell_type": "markdown",
      "metadata": {
        "id": "gzho8hpA0_bS",
        "colab_type": "text"
      },
      "source": [
        "##2. Change the dtypes of attributes from object to float and encode the location and timestamp."
      ]
    },
    {
      "cell_type": "code",
      "metadata": {
        "id": "dUUiVPJZyOqL",
        "colab_type": "code",
        "outputId": "21e7fbaf-be3a-455d-bea4-7ee03ee5cc0a",
        "colab": {
          "base_uri": "https://localhost:8080/",
          "height": 206
        }
      },
      "source": [
        "import numpy as np\n",
        "df['location'] = df['location'].astype('category')\n",
        "df['location'] = df['location'].cat.codes\n",
        "\n",
        "df['local'] = df['local'].astype('category')\n",
        "df['local'] = df['local'].cat.codes\n",
        "\n",
        "table = pd.pivot_table(df, values='value', index=['location', 'local', 'date'], columns=['parameter'], aggfunc=np.sum, fill_value=0)\n",
        "table.reset_index(inplace=True)\n",
        "table.columns = table.columns.str.strip()\n",
        "table['co'] = table['co'].astype(float)\n",
        "table['no2'] = table['no2'].astype(float)\n",
        "table['o3'] = table['o3'].astype(float)\n",
        "table['pm10'] = table['pm10'].astype(float)\n",
        "table['pm25'] = table['pm25'].astype(float)\n",
        "table['so2'] = table['so2'].astype(float)\n",
        "Ihigh = [50, 100, 150, 200, 300, 400, 500]\n",
        "Ilow = [0, 51, 101, 151, 201, 301, 401]\n",
        "Chigh = [12, 35.4, 55.4, 150.4, 250.4, 350.4, 500.4]\n",
        "Clow = [0, 12.1, 35.5, 55.5, 150.5, 250.5, 350.5]\n",
        "table.head()"
      ],
      "execution_count": 0,
      "outputs": [
        {
          "output_type": "execute_result",
          "data": {
            "text/html": [
              "<div>\n",
              "<style scoped>\n",
              "    .dataframe tbody tr th:only-of-type {\n",
              "        vertical-align: middle;\n",
              "    }\n",
              "\n",
              "    .dataframe tbody tr th {\n",
              "        vertical-align: top;\n",
              "    }\n",
              "\n",
              "    .dataframe thead th {\n",
              "        text-align: right;\n",
              "    }\n",
              "</style>\n",
              "<table border=\"1\" class=\"dataframe\">\n",
              "  <thead>\n",
              "    <tr style=\"text-align: right;\">\n",
              "      <th>parameter</th>\n",
              "      <th>location</th>\n",
              "      <th>local</th>\n",
              "      <th>date</th>\n",
              "      <th>co</th>\n",
              "      <th>no2</th>\n",
              "      <th>o3</th>\n",
              "      <th>pm10</th>\n",
              "      <th>pm25</th>\n",
              "      <th>so2</th>\n",
              "    </tr>\n",
              "  </thead>\n",
              "  <tbody>\n",
              "    <tr>\n",
              "      <th>0</th>\n",
              "      <td>0</td>\n",
              "      <td>0</td>\n",
              "      <td>2020-01-17</td>\n",
              "      <td>0.0</td>\n",
              "      <td>0.008</td>\n",
              "      <td>0.0</td>\n",
              "      <td>0.0</td>\n",
              "      <td>0.0</td>\n",
              "      <td>0.0</td>\n",
              "    </tr>\n",
              "    <tr>\n",
              "      <th>1</th>\n",
              "      <td>0</td>\n",
              "      <td>1</td>\n",
              "      <td>2020-01-18</td>\n",
              "      <td>0.0</td>\n",
              "      <td>0.009</td>\n",
              "      <td>0.0</td>\n",
              "      <td>0.0</td>\n",
              "      <td>0.0</td>\n",
              "      <td>0.0</td>\n",
              "    </tr>\n",
              "    <tr>\n",
              "      <th>2</th>\n",
              "      <td>0</td>\n",
              "      <td>2</td>\n",
              "      <td>2020-01-18</td>\n",
              "      <td>0.0</td>\n",
              "      <td>0.008</td>\n",
              "      <td>0.0</td>\n",
              "      <td>0.0</td>\n",
              "      <td>0.0</td>\n",
              "      <td>0.0</td>\n",
              "    </tr>\n",
              "    <tr>\n",
              "      <th>3</th>\n",
              "      <td>0</td>\n",
              "      <td>3</td>\n",
              "      <td>2020-01-18</td>\n",
              "      <td>0.0</td>\n",
              "      <td>0.008</td>\n",
              "      <td>0.0</td>\n",
              "      <td>0.0</td>\n",
              "      <td>0.0</td>\n",
              "      <td>0.0</td>\n",
              "    </tr>\n",
              "    <tr>\n",
              "      <th>4</th>\n",
              "      <td>0</td>\n",
              "      <td>4</td>\n",
              "      <td>2020-01-18</td>\n",
              "      <td>0.0</td>\n",
              "      <td>0.007</td>\n",
              "      <td>0.0</td>\n",
              "      <td>0.0</td>\n",
              "      <td>0.0</td>\n",
              "      <td>0.0</td>\n",
              "    </tr>\n",
              "  </tbody>\n",
              "</table>\n",
              "</div>"
            ],
            "text/plain": [
              "parameter  location  local        date   co    no2   o3  pm10  pm25  so2\n",
              "0                 0      0  2020-01-17  0.0  0.008  0.0   0.0   0.0  0.0\n",
              "1                 0      1  2020-01-18  0.0  0.009  0.0   0.0   0.0  0.0\n",
              "2                 0      2  2020-01-18  0.0  0.008  0.0   0.0   0.0  0.0\n",
              "3                 0      3  2020-01-18  0.0  0.008  0.0   0.0   0.0  0.0\n",
              "4                 0      4  2020-01-18  0.0  0.007  0.0   0.0   0.0  0.0"
            ]
          },
          "metadata": {
            "tags": []
          },
          "execution_count": 386
        }
      ]
    },
    {
      "cell_type": "markdown",
      "metadata": {
        "id": "FBd2E6wnLu8y",
        "colab_type": "text"
      },
      "source": [
        "##3. Here we are averaging out the PM2.5 and PM10 concentrations for a 24hour period as suggested by EPA for location Portsmouth(whose encoded value is 7).  "
      ]
    },
    {
      "cell_type": "code",
      "metadata": {
        "id": "pDHdiWVJrZX8",
        "colab_type": "code",
        "outputId": "8dbc3d87-47d9-4c30-f9ee-d938b66eeecd",
        "colab": {
          "base_uri": "https://localhost:8080/",
          "height": 208
        }
      },
      "source": [
        "table = table[(table['location'] == 7)]\n",
        "table = table.groupby(['location', 'date']).mean()\n",
        "table.reset_index(inplace=True)\n",
        "table.dtypes"
      ],
      "execution_count": 0,
      "outputs": [
        {
          "output_type": "execute_result",
          "data": {
            "text/plain": [
              "parameter\n",
              "location      int64\n",
              "date         object\n",
              "local       float64\n",
              "co          float64\n",
              "no2         float64\n",
              "o3          float64\n",
              "pm10        float64\n",
              "pm25        float64\n",
              "so2         float64\n",
              "dtype: object"
            ]
          },
          "metadata": {
            "tags": []
          },
          "execution_count": 387
        }
      ]
    },
    {
      "cell_type": "markdown",
      "metadata": {
        "id": "hqbJr5NDMIaF",
        "colab_type": "text"
      },
      "source": [
        "##4. Installing the required AQI library. Used this convert the mean value we got above to compute our new features - PM2.5AQ and PM10AQ."
      ]
    },
    {
      "cell_type": "code",
      "metadata": {
        "id": "a-_HnROA1SiG",
        "colab_type": "code",
        "outputId": "6e7d75c5-7485-43d9-ffb1-e2602e021b98",
        "colab": {
          "base_uri": "https://localhost:8080/",
          "height": 34
        }
      },
      "source": [
        "pip install python-aqi"
      ],
      "execution_count": 0,
      "outputs": [
        {
          "output_type": "stream",
          "text": [
            "Requirement already satisfied: python-aqi in /usr/local/lib/python3.6/dist-packages (0.6.1)\n"
          ],
          "name": "stdout"
        }
      ]
    },
    {
      "cell_type": "markdown",
      "metadata": {
        "id": "FC5RWGx1M0j0",
        "colab_type": "text"
      },
      "source": [
        "##5. Function to convert the PM2.5 mean value to AQ value"
      ]
    },
    {
      "cell_type": "code",
      "metadata": {
        "id": "O_jjxUCM1b1T",
        "colab_type": "code",
        "outputId": "63bf9558-0657-40c6-872e-8d54e7d17cba",
        "colab": {
          "base_uri": "https://localhost:8080/",
          "height": 206
        }
      },
      "source": [
        "import aqi\n",
        "def pm25toaqi(_mean):\n",
        "  myaqi = aqi.to_aqi([(aqi.POLLUTANT_PM25, _mean)])\n",
        "  return myaqi\n",
        "\n",
        "table['pm25aq'] = table['pm25'].apply(pm25toaqi)\n",
        "table.head()"
      ],
      "execution_count": 0,
      "outputs": [
        {
          "output_type": "execute_result",
          "data": {
            "text/html": [
              "<div>\n",
              "<style scoped>\n",
              "    .dataframe tbody tr th:only-of-type {\n",
              "        vertical-align: middle;\n",
              "    }\n",
              "\n",
              "    .dataframe tbody tr th {\n",
              "        vertical-align: top;\n",
              "    }\n",
              "\n",
              "    .dataframe thead th {\n",
              "        text-align: right;\n",
              "    }\n",
              "</style>\n",
              "<table border=\"1\" class=\"dataframe\">\n",
              "  <thead>\n",
              "    <tr style=\"text-align: right;\">\n",
              "      <th>parameter</th>\n",
              "      <th>location</th>\n",
              "      <th>date</th>\n",
              "      <th>local</th>\n",
              "      <th>co</th>\n",
              "      <th>no2</th>\n",
              "      <th>o3</th>\n",
              "      <th>pm10</th>\n",
              "      <th>pm25</th>\n",
              "      <th>so2</th>\n",
              "      <th>pm25aq</th>\n",
              "    </tr>\n",
              "  </thead>\n",
              "  <tbody>\n",
              "    <tr>\n",
              "      <th>0</th>\n",
              "      <td>7</td>\n",
              "      <td>2020-01-17</td>\n",
              "      <td>0.0</td>\n",
              "      <td>0.0</td>\n",
              "      <td>0.0</td>\n",
              "      <td>0.032000</td>\n",
              "      <td>0.000000</td>\n",
              "      <td>4.600000</td>\n",
              "      <td>0.002000</td>\n",
              "      <td>19</td>\n",
              "    </tr>\n",
              "    <tr>\n",
              "      <th>1</th>\n",
              "      <td>7</td>\n",
              "      <td>2020-01-18</td>\n",
              "      <td>12.5</td>\n",
              "      <td>0.0</td>\n",
              "      <td>0.0</td>\n",
              "      <td>0.031208</td>\n",
              "      <td>11.416667</td>\n",
              "      <td>5.783333</td>\n",
              "      <td>0.002083</td>\n",
              "      <td>24</td>\n",
              "    </tr>\n",
              "    <tr>\n",
              "      <th>2</th>\n",
              "      <td>7</td>\n",
              "      <td>2020-01-19</td>\n",
              "      <td>36.5</td>\n",
              "      <td>0.0</td>\n",
              "      <td>0.0</td>\n",
              "      <td>0.024375</td>\n",
              "      <td>12.958333</td>\n",
              "      <td>6.500000</td>\n",
              "      <td>0.002125</td>\n",
              "      <td>27</td>\n",
              "    </tr>\n",
              "    <tr>\n",
              "      <th>3</th>\n",
              "      <td>7</td>\n",
              "      <td>2020-01-20</td>\n",
              "      <td>60.5</td>\n",
              "      <td>0.0</td>\n",
              "      <td>0.0</td>\n",
              "      <td>0.030208</td>\n",
              "      <td>14.916667</td>\n",
              "      <td>4.750000</td>\n",
              "      <td>0.001958</td>\n",
              "      <td>20</td>\n",
              "    </tr>\n",
              "    <tr>\n",
              "      <th>4</th>\n",
              "      <td>7</td>\n",
              "      <td>2020-01-21</td>\n",
              "      <td>84.5</td>\n",
              "      <td>0.0</td>\n",
              "      <td>0.0</td>\n",
              "      <td>0.028000</td>\n",
              "      <td>17.250000</td>\n",
              "      <td>6.166667</td>\n",
              "      <td>0.002417</td>\n",
              "      <td>25</td>\n",
              "    </tr>\n",
              "  </tbody>\n",
              "</table>\n",
              "</div>"
            ],
            "text/plain": [
              "parameter  location        date  local  ...      pm25       so2  pm25aq\n",
              "0                 7  2020-01-17    0.0  ...  4.600000  0.002000      19\n",
              "1                 7  2020-01-18   12.5  ...  5.783333  0.002083      24\n",
              "2                 7  2020-01-19   36.5  ...  6.500000  0.002125      27\n",
              "3                 7  2020-01-20   60.5  ...  4.750000  0.001958      20\n",
              "4                 7  2020-01-21   84.5  ...  6.166667  0.002417      25\n",
              "\n",
              "[5 rows x 10 columns]"
            ]
          },
          "metadata": {
            "tags": []
          },
          "execution_count": 389
        }
      ]
    },
    {
      "cell_type": "markdown",
      "metadata": {
        "id": "oa9sV_LUMmUk",
        "colab_type": "text"
      },
      "source": [
        "##6. Function to convert the PM10 mean value to AQ value"
      ]
    },
    {
      "cell_type": "code",
      "metadata": {
        "id": "1dXygTgM2Mcc",
        "colab_type": "code",
        "outputId": "869d5c2c-0aa2-439b-c3de-6e808ef03bef",
        "colab": {
          "base_uri": "https://localhost:8080/",
          "height": 206
        }
      },
      "source": [
        "import aqi\n",
        "def pm10toaqi(_mean):\n",
        "  myaqi = aqi.to_aqi([(aqi.POLLUTANT_PM10, _mean)])\n",
        "  return myaqi\n",
        "\n",
        "table['pm10aq'] = table['pm10'].apply(pm10toaqi)\n",
        "table.head()"
      ],
      "execution_count": 0,
      "outputs": [
        {
          "output_type": "execute_result",
          "data": {
            "text/html": [
              "<div>\n",
              "<style scoped>\n",
              "    .dataframe tbody tr th:only-of-type {\n",
              "        vertical-align: middle;\n",
              "    }\n",
              "\n",
              "    .dataframe tbody tr th {\n",
              "        vertical-align: top;\n",
              "    }\n",
              "\n",
              "    .dataframe thead th {\n",
              "        text-align: right;\n",
              "    }\n",
              "</style>\n",
              "<table border=\"1\" class=\"dataframe\">\n",
              "  <thead>\n",
              "    <tr style=\"text-align: right;\">\n",
              "      <th>parameter</th>\n",
              "      <th>location</th>\n",
              "      <th>date</th>\n",
              "      <th>local</th>\n",
              "      <th>co</th>\n",
              "      <th>no2</th>\n",
              "      <th>o3</th>\n",
              "      <th>pm10</th>\n",
              "      <th>pm25</th>\n",
              "      <th>so2</th>\n",
              "      <th>pm25aq</th>\n",
              "      <th>pm10aq</th>\n",
              "    </tr>\n",
              "  </thead>\n",
              "  <tbody>\n",
              "    <tr>\n",
              "      <th>0</th>\n",
              "      <td>7</td>\n",
              "      <td>2020-01-17</td>\n",
              "      <td>0.0</td>\n",
              "      <td>0.0</td>\n",
              "      <td>0.0</td>\n",
              "      <td>0.032000</td>\n",
              "      <td>0.000000</td>\n",
              "      <td>4.600000</td>\n",
              "      <td>0.002000</td>\n",
              "      <td>19</td>\n",
              "      <td>0</td>\n",
              "    </tr>\n",
              "    <tr>\n",
              "      <th>1</th>\n",
              "      <td>7</td>\n",
              "      <td>2020-01-18</td>\n",
              "      <td>12.5</td>\n",
              "      <td>0.0</td>\n",
              "      <td>0.0</td>\n",
              "      <td>0.031208</td>\n",
              "      <td>11.416667</td>\n",
              "      <td>5.783333</td>\n",
              "      <td>0.002083</td>\n",
              "      <td>24</td>\n",
              "      <td>10</td>\n",
              "    </tr>\n",
              "    <tr>\n",
              "      <th>2</th>\n",
              "      <td>7</td>\n",
              "      <td>2020-01-19</td>\n",
              "      <td>36.5</td>\n",
              "      <td>0.0</td>\n",
              "      <td>0.0</td>\n",
              "      <td>0.024375</td>\n",
              "      <td>12.958333</td>\n",
              "      <td>6.500000</td>\n",
              "      <td>0.002125</td>\n",
              "      <td>27</td>\n",
              "      <td>11</td>\n",
              "    </tr>\n",
              "    <tr>\n",
              "      <th>3</th>\n",
              "      <td>7</td>\n",
              "      <td>2020-01-20</td>\n",
              "      <td>60.5</td>\n",
              "      <td>0.0</td>\n",
              "      <td>0.0</td>\n",
              "      <td>0.030208</td>\n",
              "      <td>14.916667</td>\n",
              "      <td>4.750000</td>\n",
              "      <td>0.001958</td>\n",
              "      <td>20</td>\n",
              "      <td>13</td>\n",
              "    </tr>\n",
              "    <tr>\n",
              "      <th>4</th>\n",
              "      <td>7</td>\n",
              "      <td>2020-01-21</td>\n",
              "      <td>84.5</td>\n",
              "      <td>0.0</td>\n",
              "      <td>0.0</td>\n",
              "      <td>0.028000</td>\n",
              "      <td>17.250000</td>\n",
              "      <td>6.166667</td>\n",
              "      <td>0.002417</td>\n",
              "      <td>25</td>\n",
              "      <td>16</td>\n",
              "    </tr>\n",
              "  </tbody>\n",
              "</table>\n",
              "</div>"
            ],
            "text/plain": [
              "parameter  location        date  local   co  ...      pm25       so2  pm25aq  pm10aq\n",
              "0                 7  2020-01-17    0.0  0.0  ...  4.600000  0.002000      19       0\n",
              "1                 7  2020-01-18   12.5  0.0  ...  5.783333  0.002083      24      10\n",
              "2                 7  2020-01-19   36.5  0.0  ...  6.500000  0.002125      27      11\n",
              "3                 7  2020-01-20   60.5  0.0  ...  4.750000  0.001958      20      13\n",
              "4                 7  2020-01-21   84.5  0.0  ...  6.166667  0.002417      25      16\n",
              "\n",
              "[5 rows x 11 columns]"
            ]
          },
          "metadata": {
            "tags": []
          },
          "execution_count": 390
        }
      ]
    },
    {
      "cell_type": "code",
      "metadata": {
        "id": "lMsaQrFh2c0E",
        "colab_type": "code",
        "outputId": "c0ed1866-071a-49f9-867f-0b44475c984e",
        "colab": {
          "base_uri": "https://localhost:8080/",
          "height": 243
        }
      },
      "source": [
        "table['pm10aq'] = table['pm10aq'].astype(float)\n",
        "table['pm25aq'] = table['pm25aq'].astype(float)\n",
        "table.dtypes"
      ],
      "execution_count": 0,
      "outputs": [
        {
          "output_type": "execute_result",
          "data": {
            "text/plain": [
              "parameter\n",
              "location      int64\n",
              "date         object\n",
              "local       float64\n",
              "co          float64\n",
              "no2         float64\n",
              "o3          float64\n",
              "pm10        float64\n",
              "pm25        float64\n",
              "so2         float64\n",
              "pm25aq      float64\n",
              "pm10aq      float64\n",
              "dtype: object"
            ]
          },
          "metadata": {
            "tags": []
          },
          "execution_count": 391
        }
      ]
    },
    {
      "cell_type": "markdown",
      "metadata": {
        "id": "ADoQUmI-471w",
        "colab_type": "text"
      },
      "source": [
        "##7. Indexing the dataframe column with index values."
      ]
    },
    {
      "cell_type": "code",
      "metadata": {
        "id": "D-WN32Rf7k_Q",
        "colab_type": "code",
        "outputId": "d386abed-be34-4b0f-d491-5f50094b8f53",
        "colab": {
          "base_uri": "https://localhost:8080/",
          "height": 451
        }
      },
      "source": [
        "#co - 2nd column\n",
        "print(table.iloc[:,4])"
      ],
      "execution_count": 0,
      "outputs": [
        {
          "output_type": "stream",
          "text": [
            "0     0.0\n",
            "1     0.0\n",
            "2     0.0\n",
            "3     0.0\n",
            "4     0.0\n",
            "5     0.0\n",
            "6     0.0\n",
            "7     0.0\n",
            "8     0.0\n",
            "9     0.0\n",
            "10    0.0\n",
            "11    0.0\n",
            "12    0.0\n",
            "13    0.0\n",
            "14    0.0\n",
            "15    0.0\n",
            "16    0.0\n",
            "17    0.0\n",
            "18    0.0\n",
            "19    0.0\n",
            "20    0.0\n",
            "21    0.0\n",
            "22    0.0\n",
            "23    0.0\n",
            "Name: no2, dtype: float64\n"
          ],
          "name": "stdout"
        }
      ]
    },
    {
      "cell_type": "markdown",
      "metadata": {
        "id": "Lv4NMcau1KXK",
        "colab_type": "text"
      },
      "source": [
        "##8. Plotting the Elbow curve to identify the K value for K-Means Clustering."
      ]
    },
    {
      "cell_type": "code",
      "metadata": {
        "id": "RJmD_uS9ydW6",
        "colab_type": "code",
        "outputId": "04082ef1-a953-4054-cde0-8ed5e531d1db",
        "colab": {
          "base_uri": "https://localhost:8080/",
          "height": 295
        }
      },
      "source": [
        "from sklearn.cluster import KMeans\n",
        "import matplotlib.pyplot as plt\n",
        "import matplotlib.cm as cm\n",
        "import seaborn as sns\n",
        "X = table.iloc[:,[3,4,5,6,7,8,9,10],].values\n",
        "score = []\n",
        "\n",
        "for cluster in range(1,11):\n",
        "    kmeans = KMeans(n_clusters = cluster, init=\"k-means++\", random_state=10)\n",
        "    kmeans.fit(X)\n",
        "    score.append(kmeans.inertia_)\n",
        "plt.plot(range(1,11), score)\n",
        "plt.title('The Elbow Method')\n",
        "plt.xlabel('no of clusters')\n",
        "plt.ylabel('wcss')\n",
        "plt.show()"
      ],
      "execution_count": 0,
      "outputs": [
        {
          "output_type": "display_data",
          "data": {
            "image/png": "[encoded data removed]",
            "text/plain": [
              "<Figure size 432x288 with 1 Axes>"
            ]
          },
          "metadata": {
            "tags": []
          }
        }
      ]
    },
    {
      "cell_type": "markdown",
      "metadata": {
        "id": "QHw0TJsSEshJ",
        "colab_type": "text"
      },
      "source": [
        "##9. Building K-Means model using sklearn library.\n"
      ]
    },
    {
      "cell_type": "code",
      "metadata": {
        "id": "snl8i5VCgC89",
        "colab_type": "code",
        "outputId": "c821d3a9-b8c8-4b5d-c90f-ceb01bbce118",
        "colab": {
          "base_uri": "https://localhost:8080/",
          "height": 34
        }
      },
      "source": [
        "y = KMeans(n_clusters=3).fit_predict(X)\n",
        "print(y)"
      ],
      "execution_count": 0,
      "outputs": [
        {
          "output_type": "stream",
          "text": [
            "[2 0 0 0 0 1 1 1 0 2 2 0 0 2 1 1 1 0 0 0 2 2 2 0]\n"
          ],
          "name": "stdout"
        }
      ]
    },
    {
      "cell_type": "markdown",
      "metadata": {
        "id": "aOIJZnOg1YOR",
        "colab_type": "text"
      },
      "source": [
        "##10. Plotting the K-Means cluster using Matplotlib library. It is suprising to see the direct positive correlation of PM10 and PM2.5 AQ index value.  "
      ]
    },
    {
      "cell_type": "code",
      "metadata": {
        "id": "YMDpSo8_5DKQ",
        "colab_type": "code",
        "outputId": "c291d4c2-7289-46dc-977a-c624436c538a",
        "colab": {
          "base_uri": "https://localhost:8080/",
          "height": 312
        }
      },
      "source": [
        "plt.scatter(X[:,3],X[:,6], c=y, cmap='rainbow')\n",
        "plt.title('K-means Cluster for PM10 and PM2.5_AQ')\n",
        "plt.xlabel('PM10')\n",
        "plt.ylabel('PM2.5 AQ Index')\n",
        "plt.legend()\n",
        "plt.show()"
      ],
      "execution_count": 0,
      "outputs": [
        {
          "output_type": "stream",
          "text": [
            "No handles with labels found to put in legend.\n"
          ],
          "name": "stderr"
        },
        {
          "output_type": "display_data",
          "data": {
            "image/png": "[encoded data removed]",
            "text/plain": [
              "<Figure size 432x288 with 1 Axes>"
            ]
          },
          "metadata": {
            "tags": []
          }
        }
      ]
    },
    {
      "cell_type": "markdown",
      "metadata": {
        "id": "kJzMN18XNa63",
        "colab_type": "text"
      },
      "source": [
        "##11. We know that there is a linear relationship between the pm10 mean value and pm10 AQ Index from AQI formula. But this will give an idea of overlap of points in GMM Clustter"
      ]
    },
    {
      "cell_type": "code",
      "metadata": {
        "id": "bd4sibY8EHad",
        "colab_type": "code",
        "outputId": "c099cc7b-2e46-406f-eac4-9bcbee073f19",
        "colab": {
          "base_uri": "https://localhost:8080/",
          "height": 312
        }
      },
      "source": [
        "plt.scatter(X[:,3],X[:,7], c=y, cmap='rainbow')\n",
        "plt.title('K-Means Cluster for PM10 and PM10_AQ')\n",
        "plt.xlabel('PM10')\n",
        "plt.ylabel('PM10 AQ Index')\n",
        "plt.legend()\n",
        "plt.show()"
      ],
      "execution_count": 0,
      "outputs": [
        {
          "output_type": "stream",
          "text": [
            "No handles with labels found to put in legend.\n"
          ],
          "name": "stderr"
        },
        {
          "output_type": "display_data",
          "data": {
            "image/png": "[encoded data removed]",
            "text/plain": [
              "<Figure size 432x288 with 1 Axes>"
            ]
          },
          "metadata": {
            "tags": []
          }
        }
      ]
    },
    {
      "cell_type": "code",
      "metadata": {
        "id": "eLQsQJtJCowy",
        "colab_type": "code",
        "outputId": "382ae022-8c62-4701-cd9d-de905697cb43",
        "colab": {
          "base_uri": "https://localhost:8080/",
          "height": 312
        }
      },
      "source": [
        "from sklearn.mixture import GaussianMixture \n",
        "X = table.iloc[:,[3,4,5,6,7,8,9,10]].values\n",
        "d = pd.DataFrame(X)  \n",
        "gmm = GaussianMixture(n_components = 3)\n",
        "gmm.fit(d) \n",
        "\n",
        "labels = gmm.predict(d) \n",
        "d['labels'] = labels\n",
        "d0 = d[d['labels']== 0] \n",
        "d1 = d[d['labels']== 1] \n",
        "d2 = d[d['labels']== 2] \n",
        "  \n",
        "\n",
        "plt.scatter(d0[3], d0[6], c ='r') \n",
        "plt.scatter(d1[3], d1[6], c ='y') \n",
        "plt.scatter(d2[3], d2[6], c ='g') \n",
        "plt.title('GMM Cluster for PM10 and PM25_AQ')\n",
        "plt.xlabel('PM10')\n",
        "plt.ylabel('PM2.5 AQ Index')\n",
        "plt.legend()\n",
        "plt.show()"
      ],
      "execution_count": 0,
      "outputs": [
        {
          "output_type": "stream",
          "text": [
            "No handles with labels found to put in legend.\n"
          ],
          "name": "stderr"
        },
        {
          "output_type": "display_data",
          "data": {
            "image/png": "[encoded data removed]",
            "text/plain": [
              "<Figure size 432x288 with 1 Axes>"
            ]
          },
          "metadata": {
            "tags": []
          }
        }
      ]
    },
    {
      "cell_type": "markdown",
      "metadata": {
        "id": "hEmjE7b5N7EV",
        "colab_type": "text"
      },
      "source": [
        "##12. We can clearly see that there are overalp of points in cluster."
      ]
    },
    {
      "cell_type": "code",
      "metadata": {
        "id": "yD5me6hpJq5T",
        "colab_type": "code",
        "outputId": "12a684a5-9894-46b1-aaf8-a5ce7d39e2c8",
        "colab": {
          "base_uri": "https://localhost:8080/",
          "height": 312
        }
      },
      "source": [
        "plt.scatter(d0[3], d0[7], c ='r') \n",
        "plt.scatter(d1[3], d1[7], c ='y') \n",
        "plt.scatter(d2[3], d2[7], c ='g') \n",
        "plt.title('K-Means Cluster for PM10 and PM10_AQ')\n",
        "plt.xlabel('PM10')\n",
        "plt.ylabel('PM10 AQ Index')\n",
        "plt.legend()\n",
        "plt.show()"
      ],
      "execution_count": 0,
      "outputs": [
        {
          "output_type": "stream",
          "text": [
            "No handles with labels found to put in legend.\n"
          ],
          "name": "stderr"
        },
        {
          "output_type": "display_data",
          "data": {
            "image/png": "[encoded data removed]",
            "text/plain": [
              "<Figure size 432x288 with 1 Axes>"
            ]
          },
          "metadata": {
            "tags": []
          }
        }
      ]
    }
  ]
}